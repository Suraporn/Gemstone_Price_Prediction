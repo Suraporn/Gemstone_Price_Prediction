{
 "cells": [
  {
   "cell_type": "markdown",
   "id": "457aaac2-9ce9-499c-889d-2eb3d646950a",
   "metadata": {},
   "source": [
    "# Kaggle : Gemstone Price Prediction\n",
    "https://www.kaggle.com/competitions/playground-series-s3e8/overview"
   ]
  },
  {
   "cell_type": "code",
   "execution_count": 27,
   "id": "2e6d6af1-9616-4a9c-b2e4-1188afd91756",
   "metadata": {},
   "outputs": [],
   "source": [
    "#0 Load libraries\n",
    "\n",
    "import numpy as np\n",
    "import pandas as pd\n",
    "\n",
    "import altair as alt\n",
    "# Handle large data sets without embedding them in the notebook\n",
    "alt.data_transformers.enable('data_server')\n",
    "# Include an image for each plot since Gradescope only supports displaying plots as images\n",
    "alt.renderers.enable('mimetype')\n",
    "\n",
    "from sklearn.model_selection import train_test_split\n",
    "from sklearn.preprocessing import PolynomialFeatures \n",
    "from sklearn.model_selection import cross_val_score, cross_validate, train_test_split\n",
    "from sklearn.pipeline import Pipeline, make_pipeline\n",
    "from sklearn.compose import ColumnTransformer, make_column_transformer\n",
    "from sklearn.preprocessing import FunctionTransformer\n",
    "from sklearn.compose import TransformedTargetRegressor\n",
    "from sklearn.impute import SimpleImputer\n",
    "from sklearn.preprocessing import (\n",
    "    MinMaxScaler,\n",
    "    OneHotEncoder,\n",
    "    OrdinalEncoder,\n",
    "    StandardScaler,\n",
    ")\n",
    "from sklearn.feature_extraction.text import CountVectorizer\n",
    "\n",
    "from sklearn.dummy import DummyRegressor\n",
    "from sklearn.linear_model import LinearRegression\n",
    "from sklearn.linear_model import Ridge, RidgeCV\n",
    "from sklearn.linear_model import Lasso, LassoCV\n",
    "from sklearn.linear_model import ElasticNetCV\n",
    "from sklearn.ensemble import RandomForestRegressor\n",
    "import xgboost as xg\n",
    "from lightgbm.sklearn import LGBMRegressor\n",
    "from catboost import CatBoostRegressor\n",
    "\n",
    "from sklearn.feature_selection import SelectFromModel\n",
    "from sklearn.feature_selection import RFE, RFECV\n",
    "from sklearn.feature_selection import SequentialFeatureSelector\n",
    "\n",
    "from sklearn.model_selection import RandomizedSearchCV"
   ]
  },
  {
   "cell_type": "markdown",
   "id": "dab5356f-bafd-4943-95f9-0eb496e50d84",
   "metadata": {},
   "source": [
    "## 1. Load data and pre-processing"
   ]
  },
  {
   "cell_type": "code",
   "execution_count": 29,
   "id": "eed1339b-7b31-445a-b278-d6455fca16ed",
   "metadata": {},
   "outputs": [
    {
     "data": {
      "text/html": [
       "<div>\n",
       "<style scoped>\n",
       "    .dataframe tbody tr th:only-of-type {\n",
       "        vertical-align: middle;\n",
       "    }\n",
       "\n",
       "    .dataframe tbody tr th {\n",
       "        vertical-align: top;\n",
       "    }\n",
       "\n",
       "    .dataframe thead th {\n",
       "        text-align: right;\n",
       "    }\n",
       "</style>\n",
       "<table border=\"1\" class=\"dataframe\">\n",
       "  <thead>\n",
       "    <tr style=\"text-align: right;\">\n",
       "      <th></th>\n",
       "      <th>id</th>\n",
       "      <th>carat</th>\n",
       "      <th>cut</th>\n",
       "      <th>color</th>\n",
       "      <th>clarity</th>\n",
       "      <th>depth</th>\n",
       "      <th>table</th>\n",
       "      <th>x</th>\n",
       "      <th>y</th>\n",
       "      <th>z</th>\n",
       "      <th>price</th>\n",
       "    </tr>\n",
       "  </thead>\n",
       "  <tbody>\n",
       "    <tr>\n",
       "      <th>0</th>\n",
       "      <td>0</td>\n",
       "      <td>1.52</td>\n",
       "      <td>Premium</td>\n",
       "      <td>F</td>\n",
       "      <td>VS2</td>\n",
       "      <td>62.2</td>\n",
       "      <td>58.0</td>\n",
       "      <td>7.27</td>\n",
       "      <td>7.33</td>\n",
       "      <td>4.55</td>\n",
       "      <td>13619</td>\n",
       "    </tr>\n",
       "    <tr>\n",
       "      <th>1</th>\n",
       "      <td>1</td>\n",
       "      <td>2.03</td>\n",
       "      <td>Very Good</td>\n",
       "      <td>J</td>\n",
       "      <td>SI2</td>\n",
       "      <td>62.0</td>\n",
       "      <td>58.0</td>\n",
       "      <td>8.06</td>\n",
       "      <td>8.12</td>\n",
       "      <td>5.05</td>\n",
       "      <td>13387</td>\n",
       "    </tr>\n",
       "    <tr>\n",
       "      <th>2</th>\n",
       "      <td>2</td>\n",
       "      <td>0.70</td>\n",
       "      <td>Ideal</td>\n",
       "      <td>G</td>\n",
       "      <td>VS1</td>\n",
       "      <td>61.2</td>\n",
       "      <td>57.0</td>\n",
       "      <td>5.69</td>\n",
       "      <td>5.73</td>\n",
       "      <td>3.50</td>\n",
       "      <td>2772</td>\n",
       "    </tr>\n",
       "    <tr>\n",
       "      <th>3</th>\n",
       "      <td>3</td>\n",
       "      <td>0.32</td>\n",
       "      <td>Ideal</td>\n",
       "      <td>G</td>\n",
       "      <td>VS1</td>\n",
       "      <td>61.6</td>\n",
       "      <td>56.0</td>\n",
       "      <td>4.38</td>\n",
       "      <td>4.41</td>\n",
       "      <td>2.71</td>\n",
       "      <td>666</td>\n",
       "    </tr>\n",
       "    <tr>\n",
       "      <th>4</th>\n",
       "      <td>4</td>\n",
       "      <td>1.70</td>\n",
       "      <td>Premium</td>\n",
       "      <td>G</td>\n",
       "      <td>VS2</td>\n",
       "      <td>62.6</td>\n",
       "      <td>59.0</td>\n",
       "      <td>7.65</td>\n",
       "      <td>7.61</td>\n",
       "      <td>4.77</td>\n",
       "      <td>14453</td>\n",
       "    </tr>\n",
       "  </tbody>\n",
       "</table>\n",
       "</div>"
      ],
      "text/plain": [
       "   id  carat        cut color clarity  depth  table     x     y     z  price\n",
       "0   0   1.52    Premium     F     VS2   62.2   58.0  7.27  7.33  4.55  13619\n",
       "1   1   2.03  Very Good     J     SI2   62.0   58.0  8.06  8.12  5.05  13387\n",
       "2   2   0.70      Ideal     G     VS1   61.2   57.0  5.69  5.73  3.50   2772\n",
       "3   3   0.32      Ideal     G     VS1   61.6   56.0  4.38  4.41  2.71    666\n",
       "4   4   1.70    Premium     G     VS2   62.6   59.0  7.65  7.61  4.77  14453"
      ]
     },
     "execution_count": 29,
     "metadata": {},
     "output_type": "execute_result"
    }
   ],
   "source": [
    "#1.1 Load train data\n",
    "train_df = pd.read_csv('data/train.csv')\n",
    "train_df.head()"
   ]
  },
  {
   "cell_type": "code",
   "execution_count": 30,
   "id": "4804dee5-13e7-4bba-bb91-3871436da7d0",
   "metadata": {},
   "outputs": [
    {
     "data": {
      "text/html": [
       "<div>\n",
       "<style scoped>\n",
       "    .dataframe tbody tr th:only-of-type {\n",
       "        vertical-align: middle;\n",
       "    }\n",
       "\n",
       "    .dataframe tbody tr th {\n",
       "        vertical-align: top;\n",
       "    }\n",
       "\n",
       "    .dataframe thead th {\n",
       "        text-align: right;\n",
       "    }\n",
       "</style>\n",
       "<table border=\"1\" class=\"dataframe\">\n",
       "  <thead>\n",
       "    <tr style=\"text-align: right;\">\n",
       "      <th></th>\n",
       "      <th>id</th>\n",
       "      <th>carat</th>\n",
       "      <th>cut</th>\n",
       "      <th>color</th>\n",
       "      <th>clarity</th>\n",
       "      <th>depth</th>\n",
       "      <th>table</th>\n",
       "      <th>x</th>\n",
       "      <th>y</th>\n",
       "      <th>z</th>\n",
       "    </tr>\n",
       "  </thead>\n",
       "  <tbody>\n",
       "    <tr>\n",
       "      <th>0</th>\n",
       "      <td>193573</td>\n",
       "      <td>0.35</td>\n",
       "      <td>Ideal</td>\n",
       "      <td>D</td>\n",
       "      <td>VS2</td>\n",
       "      <td>62.3</td>\n",
       "      <td>56.0</td>\n",
       "      <td>4.51</td>\n",
       "      <td>4.54</td>\n",
       "      <td>2.82</td>\n",
       "    </tr>\n",
       "    <tr>\n",
       "      <th>1</th>\n",
       "      <td>193574</td>\n",
       "      <td>0.77</td>\n",
       "      <td>Very Good</td>\n",
       "      <td>F</td>\n",
       "      <td>SI2</td>\n",
       "      <td>62.8</td>\n",
       "      <td>56.0</td>\n",
       "      <td>5.83</td>\n",
       "      <td>5.87</td>\n",
       "      <td>3.68</td>\n",
       "    </tr>\n",
       "    <tr>\n",
       "      <th>2</th>\n",
       "      <td>193575</td>\n",
       "      <td>0.71</td>\n",
       "      <td>Ideal</td>\n",
       "      <td>I</td>\n",
       "      <td>VS2</td>\n",
       "      <td>61.9</td>\n",
       "      <td>53.0</td>\n",
       "      <td>5.77</td>\n",
       "      <td>5.74</td>\n",
       "      <td>3.55</td>\n",
       "    </tr>\n",
       "    <tr>\n",
       "      <th>3</th>\n",
       "      <td>193576</td>\n",
       "      <td>0.33</td>\n",
       "      <td>Ideal</td>\n",
       "      <td>G</td>\n",
       "      <td>VVS2</td>\n",
       "      <td>61.6</td>\n",
       "      <td>55.0</td>\n",
       "      <td>4.44</td>\n",
       "      <td>4.42</td>\n",
       "      <td>2.73</td>\n",
       "    </tr>\n",
       "    <tr>\n",
       "      <th>4</th>\n",
       "      <td>193577</td>\n",
       "      <td>1.20</td>\n",
       "      <td>Very Good</td>\n",
       "      <td>I</td>\n",
       "      <td>VS2</td>\n",
       "      <td>62.7</td>\n",
       "      <td>56.0</td>\n",
       "      <td>6.75</td>\n",
       "      <td>6.79</td>\n",
       "      <td>4.24</td>\n",
       "    </tr>\n",
       "  </tbody>\n",
       "</table>\n",
       "</div>"
      ],
      "text/plain": [
       "       id  carat        cut color clarity  depth  table     x     y     z\n",
       "0  193573   0.35      Ideal     D     VS2   62.3   56.0  4.51  4.54  2.82\n",
       "1  193574   0.77  Very Good     F     SI2   62.8   56.0  5.83  5.87  3.68\n",
       "2  193575   0.71      Ideal     I     VS2   61.9   53.0  5.77  5.74  3.55\n",
       "3  193576   0.33      Ideal     G    VVS2   61.6   55.0  4.44  4.42  2.73\n",
       "4  193577   1.20  Very Good     I     VS2   62.7   56.0  6.75  6.79  4.24"
      ]
     },
     "execution_count": 30,
     "metadata": {},
     "output_type": "execute_result"
    }
   ],
   "source": [
    "#1.2 Load test data\n",
    "test_df = pd.read_csv('data/test.csv')\n",
    "test_df.head()"
   ]
  },
  {
   "cell_type": "code",
   "execution_count": 31,
   "id": "98920eec-af5d-4372-a5f9-5604d7881630",
   "metadata": {},
   "outputs": [
    {
     "name": "stdout",
     "output_type": "stream",
     "text": [
      "<class 'pandas.core.frame.DataFrame'>\n",
      "RangeIndex: 193573 entries, 0 to 193572\n",
      "Data columns (total 11 columns):\n",
      " #   Column   Non-Null Count   Dtype  \n",
      "---  ------   --------------   -----  \n",
      " 0   id       193573 non-null  int64  \n",
      " 1   carat    193573 non-null  float64\n",
      " 2   cut      193573 non-null  object \n",
      " 3   color    193573 non-null  object \n",
      " 4   clarity  193573 non-null  object \n",
      " 5   depth    193573 non-null  float64\n",
      " 6   table    193573 non-null  float64\n",
      " 7   x        193573 non-null  float64\n",
      " 8   y        193573 non-null  float64\n",
      " 9   z        193573 non-null  float64\n",
      " 10  price    193573 non-null  int64  \n",
      "dtypes: float64(6), int64(2), object(3)\n",
      "memory usage: 16.2+ MB\n"
     ]
    }
   ],
   "source": [
    "#1.3 Check info\n",
    "train_df.info()"
   ]
  },
  {
   "cell_type": "code",
   "execution_count": 32,
   "id": "e035c41c-daba-46d8-9e07-2c872b2e509e",
   "metadata": {},
   "outputs": [
    {
     "data": {
      "text/plain": [
       "id         0\n",
       "carat      0\n",
       "cut        0\n",
       "color      0\n",
       "clarity    0\n",
       "depth      0\n",
       "table      0\n",
       "x          0\n",
       "y          0\n",
       "z          0\n",
       "price      0\n",
       "dtype: int64"
      ]
     },
     "execution_count": 32,
     "metadata": {},
     "output_type": "execute_result"
    }
   ],
   "source": [
    "#1.4 Confirm NA\n",
    "train_df.isna().sum()"
   ]
  },
  {
   "cell_type": "code",
   "execution_count": 44,
   "id": "2880ff69-73f0-4c49-802b-f5edee52b62c",
   "metadata": {},
   "outputs": [
    {
     "data": {
      "text/html": [
       "<div>\n",
       "<style scoped>\n",
       "    .dataframe tbody tr th:only-of-type {\n",
       "        vertical-align: middle;\n",
       "    }\n",
       "\n",
       "    .dataframe tbody tr th {\n",
       "        vertical-align: top;\n",
       "    }\n",
       "\n",
       "    .dataframe thead th {\n",
       "        text-align: right;\n",
       "    }\n",
       "</style>\n",
       "<table border=\"1\" class=\"dataframe\">\n",
       "  <thead>\n",
       "    <tr style=\"text-align: right;\">\n",
       "      <th></th>\n",
       "      <th>id</th>\n",
       "      <th>carat</th>\n",
       "      <th>cut</th>\n",
       "      <th>color</th>\n",
       "      <th>clarity</th>\n",
       "      <th>depth</th>\n",
       "      <th>table</th>\n",
       "      <th>x</th>\n",
       "      <th>y</th>\n",
       "      <th>z</th>\n",
       "      <th>price</th>\n",
       "    </tr>\n",
       "  </thead>\n",
       "  <tbody>\n",
       "    <tr>\n",
       "      <th>139244</th>\n",
       "      <td>139244</td>\n",
       "      <td>0.41</td>\n",
       "      <td>Ideal</td>\n",
       "      <td>E</td>\n",
       "      <td>VS1</td>\n",
       "      <td>62.6</td>\n",
       "      <td>56.0</td>\n",
       "      <td>4.77</td>\n",
       "      <td>4.73</td>\n",
       "      <td>2.97</td>\n",
       "      <td>1073</td>\n",
       "    </tr>\n",
       "    <tr>\n",
       "      <th>146166</th>\n",
       "      <td>146166</td>\n",
       "      <td>0.30</td>\n",
       "      <td>Very Good</td>\n",
       "      <td>G</td>\n",
       "      <td>SI2</td>\n",
       "      <td>62.5</td>\n",
       "      <td>57.0</td>\n",
       "      <td>4.24</td>\n",
       "      <td>4.28</td>\n",
       "      <td>2.66</td>\n",
       "      <td>365</td>\n",
       "    </tr>\n",
       "    <tr>\n",
       "      <th>43536</th>\n",
       "      <td>43536</td>\n",
       "      <td>0.38</td>\n",
       "      <td>Ideal</td>\n",
       "      <td>E</td>\n",
       "      <td>VS2</td>\n",
       "      <td>61.8</td>\n",
       "      <td>54.0</td>\n",
       "      <td>4.66</td>\n",
       "      <td>4.69</td>\n",
       "      <td>2.89</td>\n",
       "      <td>935</td>\n",
       "    </tr>\n",
       "    <tr>\n",
       "      <th>151742</th>\n",
       "      <td>151742</td>\n",
       "      <td>2.11</td>\n",
       "      <td>Premium</td>\n",
       "      <td>F</td>\n",
       "      <td>SI2</td>\n",
       "      <td>61.0</td>\n",
       "      <td>60.0</td>\n",
       "      <td>8.29</td>\n",
       "      <td>8.33</td>\n",
       "      <td>5.06</td>\n",
       "      <td>14067</td>\n",
       "    </tr>\n",
       "    <tr>\n",
       "      <th>86034</th>\n",
       "      <td>86034</td>\n",
       "      <td>0.31</td>\n",
       "      <td>Ideal</td>\n",
       "      <td>E</td>\n",
       "      <td>SI1</td>\n",
       "      <td>61.5</td>\n",
       "      <td>55.0</td>\n",
       "      <td>4.38</td>\n",
       "      <td>4.40</td>\n",
       "      <td>2.70</td>\n",
       "      <td>489</td>\n",
       "    </tr>\n",
       "  </tbody>\n",
       "</table>\n",
       "</div>"
      ],
      "text/plain": [
       "            id  carat        cut color clarity  depth  table     x     y  \\\n",
       "139244  139244   0.41      Ideal     E     VS1   62.6   56.0  4.77  4.73   \n",
       "146166  146166   0.30  Very Good     G     SI2   62.5   57.0  4.24  4.28   \n",
       "43536    43536   0.38      Ideal     E     VS2   61.8   54.0  4.66  4.69   \n",
       "151742  151742   2.11    Premium     F     SI2   61.0   60.0  8.29  8.33   \n",
       "86034    86034   0.31      Ideal     E     SI1   61.5   55.0  4.38  4.40   \n",
       "\n",
       "           z  price  \n",
       "139244  2.97   1073  \n",
       "146166  2.66    365  \n",
       "43536   2.89    935  \n",
       "151742  5.06  14067  \n",
       "86034   2.70    489  "
      ]
     },
     "execution_count": 44,
     "metadata": {},
     "output_type": "execute_result"
    }
   ],
   "source": [
    "#1.5 Splitting data with 70-30 ratio\n",
    "train, valid = train_test_split(train_df, test_size=0.3, shuffle=True, random_state=123)\n",
    "train.head()"
   ]
  },
  {
   "cell_type": "code",
   "execution_count": 45,
   "id": "f3b1ba36-2405-4c59-878f-fb1b56159390",
   "metadata": {},
   "outputs": [],
   "source": [
    "#1.6 Copy test data\n",
    "test = test_df.copy()"
   ]
  },
  {
   "cell_type": "code",
   "execution_count": 46,
   "id": "9e572701-1d66-40f4-a446-905813e9bea1",
   "metadata": {},
   "outputs": [
    {
     "name": "stdout",
     "output_type": "stream",
     "text": [
      "Train data -shape (135501, 11)\n",
      "Valid data -shape (58072, 11)\n",
      "Test data  -shape (129050, 10)\n"
     ]
    }
   ],
   "source": [
    "#1.7 Check size of each dataset\n",
    "print('Train data -shape', train.shape)\n",
    "print('Valid data -shape', valid.shape)\n",
    "print('Test data  -shape', test.shape)"
   ]
  },
  {
   "cell_type": "markdown",
   "id": "0e99678c-359d-47f3-bd55-c3a43a2be0b3",
   "metadata": {},
   "source": [
    "## 2. EDA"
   ]
  },
  {
   "cell_type": "code",
   "execution_count": 47,
   "id": "9f9defcc-5594-4882-9bc5-34e653b48f04",
   "metadata": {},
   "outputs": [
    {
     "name": "stdout",
     "output_type": "stream",
     "text": [
      "<class 'pandas.core.frame.DataFrame'>\n",
      "Int64Index: 135501 entries, 139244 to 15725\n",
      "Data columns (total 11 columns):\n",
      " #   Column   Non-Null Count   Dtype  \n",
      "---  ------   --------------   -----  \n",
      " 0   id       135501 non-null  int64  \n",
      " 1   carat    135501 non-null  float64\n",
      " 2   cut      135501 non-null  object \n",
      " 3   color    135501 non-null  object \n",
      " 4   clarity  135501 non-null  object \n",
      " 5   depth    135501 non-null  float64\n",
      " 6   table    135501 non-null  float64\n",
      " 7   x        135501 non-null  float64\n",
      " 8   y        135501 non-null  float64\n",
      " 9   z        135501 non-null  float64\n",
      " 10  price    135501 non-null  int64  \n",
      "dtypes: float64(6), int64(2), object(3)\n",
      "memory usage: 12.4+ MB\n"
     ]
    }
   ],
   "source": [
    "#2.1 Check info\n",
    "train.info()"
   ]
  },
  {
   "cell_type": "code",
   "execution_count": 48,
   "id": "edc481b2-e97c-4be1-8a6a-27a819edb9ff",
   "metadata": {},
   "outputs": [
    {
     "data": {
      "text/plain": [
       "Index(['id', 'carat', 'cut', 'color', 'clarity', 'depth', 'table', 'x', 'y',\n",
       "       'z', 'price'],\n",
       "      dtype='object')"
      ]
     },
     "execution_count": 48,
     "metadata": {},
     "output_type": "execute_result"
    }
   ],
   "source": [
    "#2.2 Pulling all features\n",
    "train.columns"
   ]
  },
  {
   "cell_type": "code",
   "execution_count": 49,
   "id": "1567e900-c643-4e3c-b68c-8683272229e0",
   "metadata": {},
   "outputs": [],
   "source": [
    "#2.3 Separate features into each group\n",
    "numerical_features = ['carat', 'depth', 'table', 'x', 'y', 'z', 'price']\n",
    "discreteized_features = []\n",
    "categorical_features = ['cut', 'color', 'clarity']\n",
    "text_features = []\n",
    "drop_features = ['id']"
   ]
  },
  {
   "cell_type": "code",
   "execution_count": 50,
   "id": "7ee35ae6-d2e6-482d-9d56-e4ef07682071",
   "metadata": {},
   "outputs": [
    {
     "data": {
      "application/vnd.vegalite.v4+json": {
       "$schema": "https://vega.github.io/schema/vega-lite/v4.17.0.json",
       "config": {
        "view": {
         "continuousHeight": 300,
         "continuousWidth": 400
        }
       },
       "data": {
        "url": "http://localhost:49666/739ffd0feb745b2c5f0f199853c6f385.json"
       },
       "encoding": {
        "x": {
         "bin": {
          "maxbins": 40
         },
         "field": "price",
         "type": "quantitative"
        },
        "y": {
         "aggregate": "count",
         "type": "quantitative"
        }
       },
       "height": 150,
       "mark": "bar",
       "width": 400
      },
      "image/png": "[encoded data removed]",
      "text/plain": [
       "<VegaLite 4 object>\n",
       "\n",
       "If you see this message, it means the renderer has not been properly enabled\n",
       "for the frontend that you are using. For more information, see\n",
       "https://altair-viz.github.io/user_guide/troubleshooting.html\n"
      ]
     },
     "execution_count": 50,
     "metadata": {},
     "output_type": "execute_result"
    }
   ],
   "source": [
    "#2.3.1 Numerical feature distributions - price\n",
    "hist = alt.Chart(train).mark_bar().encode(\n",
    "     x = alt.X('price', type='quantitative', bin=alt.Bin(maxbins=40)),\n",
    "     y = 'count()',\n",
    ").properties(\n",
    "    width=400,\n",
    "    height=150\n",
    ")\n",
    "# Show the plot\n",
    "hist"
   ]
  },
  {
   "cell_type": "code",
   "execution_count": 51,
   "id": "f0abff6e-96dd-47a5-bcb9-b9314f1d40d5",
   "metadata": {},
   "outputs": [
    {
     "data": {
      "application/vnd.vegalite.v4+json": {
       "$schema": "https://vega.github.io/schema/vega-lite/v4.17.0.json",
       "config": {
        "view": {
         "continuousHeight": 300,
         "continuousWidth": 400
        }
       },
       "data": {
        "url": "http://localhost:49666/295f2a1cded26c888cb203d031828e89.json"
       },
       "encoding": {
        "x": {
         "bin": {
          "maxbins": 50
         },
         "field": "log_price",
         "type": "quantitative"
        },
        "y": {
         "aggregate": "count",
         "type": "quantitative"
        }
       },
       "height": 150,
       "mark": "bar",
       "width": 400
      },
      "image/png": "[encoded data removed]",
      "text/plain": [
       "<VegaLite 4 object>\n",
       "\n",
       "If you see this message, it means the renderer has not been properly enabled\n",
       "for the frontend that you are using. For more information, see\n",
       "https://altair-viz.github.io/user_guide/troubleshooting.html\n"
      ]
     },
     "execution_count": 51,
     "metadata": {},
     "output_type": "execute_result"
    }
   ],
   "source": [
    "#2.3.2 Numerical feature distributions - log_price\n",
    "train['log_price'] = np.log(train['price'])\n",
    "hist = alt.Chart(train).mark_bar().encode(\n",
    "     x = alt.X('log_price', type='quantitative', bin=alt.Bin(maxbins=50)),\n",
    "     y = 'count()',\n",
    ").properties(\n",
    "    width=400,\n",
    "    height=150\n",
    ")\n",
    "# Show the plot\n",
    "hist"
   ]
  },
  {
   "cell_type": "code",
   "execution_count": 52,
   "id": "774db888-e112-419b-8f17-81113ab32ded",
   "metadata": {},
   "outputs": [
    {
     "data": {
      "application/vnd.vegalite.v4+json": {
       "$schema": "https://vega.github.io/schema/vega-lite/v4.17.0.json",
       "config": {
        "view": {
         "continuousHeight": 300,
         "continuousWidth": 400
        }
       },
       "data": {
        "url": "http://localhost:49666/295f2a1cded26c888cb203d031828e89.json"
       },
       "encoding": {
        "x": {
         "bin": {
          "maxbins": 50
         },
         "field": "carat",
         "type": "quantitative"
        },
        "y": {
         "aggregate": "count",
         "type": "quantitative"
        }
       },
       "height": 150,
       "mark": "bar",
       "width": 400
      },
      "image/png": "[encoded data removed]",
      "text/plain": [
       "<VegaLite 4 object>\n",
       "\n",
       "If you see this message, it means the renderer has not been properly enabled\n",
       "for the frontend that you are using. For more information, see\n",
       "https://altair-viz.github.io/user_guide/troubleshooting.html\n"
      ]
     },
     "execution_count": 52,
     "metadata": {},
     "output_type": "execute_result"
    }
   ],
   "source": [
    "#2.3.3 Numerical feature distributions - carat\n",
    "hist = alt.Chart(train).mark_bar().encode(\n",
    "     x = alt.X('carat', type='quantitative', bin=alt.Bin(maxbins=50)),\n",
    "     y = 'count()',\n",
    ").properties(\n",
    "    width=400,\n",
    "    height=150\n",
    ")\n",
    "# Show the plot\n",
    "hist"
   ]
  },
  {
   "cell_type": "code",
   "execution_count": 53,
   "id": "d30654a2-a00d-4c98-953f-7441e7872052",
   "metadata": {},
   "outputs": [
    {
     "data": {
      "application/vnd.vegalite.v4+json": {
       "$schema": "https://vega.github.io/schema/vega-lite/v4.17.0.json",
       "config": {
        "view": {
         "continuousHeight": 300,
         "continuousWidth": 400
        }
       },
       "data": {
        "url": "http://localhost:49666/295f2a1cded26c888cb203d031828e89.json"
       },
       "encoding": {
        "x": {
         "bin": {
          "maxbins": 50
         },
         "field": "table",
         "type": "quantitative"
        },
        "y": {
         "aggregate": "count",
         "type": "quantitative"
        }
       },
       "height": 150,
       "mark": "bar",
       "width": 400
      },
      "image/png": "[encoded data removed]",
      "text/plain": [
       "<VegaLite 4 object>\n",
       "\n",
       "If you see this message, it means the renderer has not been properly enabled\n",
       "for the frontend that you are using. For more information, see\n",
       "https://altair-viz.github.io/user_guide/troubleshooting.html\n"
      ]
     },
     "execution_count": 53,
     "metadata": {},
     "output_type": "execute_result"
    }
   ],
   "source": [
    "#2.3.4 Numerical feature distributions - table\n",
    "hist = alt.Chart(train).mark_bar().encode(\n",
    "     x = alt.X('table', type='quantitative', bin=alt.Bin(maxbins=50)),\n",
    "     y = 'count()',\n",
    ").properties(\n",
    "    width=400,\n",
    "    height=150\n",
    ")\n",
    "# Show the plot\n",
    "hist"
   ]
  },
  {
   "cell_type": "code",
   "execution_count": 56,
   "id": "7702cb7b-1784-4999-bc14-278d86d29608",
   "metadata": {},
   "outputs": [
    {
     "data": {
      "application/vnd.vegalite.v4+json": {
       "$schema": "https://vega.github.io/schema/vega-lite/v4.17.0.json",
       "config": {
        "view": {
         "continuousHeight": 300,
         "continuousWidth": 400
        }
       },
       "data": {
        "url": "http://localhost:49666/295f2a1cded26c888cb203d031828e89.json"
       },
       "encoding": {
        "x": {
         "bin": {
          "maxbins": 50
         },
         "field": "x",
         "type": "quantitative"
        },
        "y": {
         "aggregate": "count",
         "type": "quantitative"
        }
       },
       "height": 150,
       "mark": "bar",
       "width": 400
      },
      "image/png": "[encoded data removed]",
      "text/plain": [
       "<VegaLite 4 object>\n",
       "\n",
       "If you see this message, it means the renderer has not been properly enabled\n",
       "for the frontend that you are using. For more information, see\n",
       "https://altair-viz.github.io/user_guide/troubleshooting.html\n"
      ]
     },
     "execution_count": 56,
     "metadata": {},
     "output_type": "execute_result"
    }
   ],
   "source": [
    "#2.3.5 Numerical feature distributions - x\n",
    "hist = alt.Chart(train).mark_bar().encode(\n",
    "     x = alt.X('x', type='quantitative', bin=alt.Bin(maxbins=50)),\n",
    "     y = 'count()',\n",
    ").properties(\n",
    "    width=400,\n",
    "    height=150\n",
    ")\n",
    "# Show the plot\n",
    "hist"
   ]
  },
  {
   "cell_type": "code",
   "execution_count": 57,
   "id": "e7fb1e0e-2c22-4ed9-90f1-736081b58b1a",
   "metadata": {},
   "outputs": [
    {
     "data": {
      "application/vnd.vegalite.v4+json": {
       "$schema": "https://vega.github.io/schema/vega-lite/v4.17.0.json",
       "config": {
        "view": {
         "continuousHeight": 300,
         "continuousWidth": 400
        }
       },
       "data": {
        "url": "http://localhost:49666/295f2a1cded26c888cb203d031828e89.json"
       },
       "encoding": {
        "x": {
         "bin": {
          "maxbins": 50
         },
         "field": "y",
         "type": "quantitative"
        },
        "y": {
         "aggregate": "count",
         "type": "quantitative"
        }
       },
       "height": 150,
       "mark": "bar",
       "width": 400
      },
      "image/png": "[encoded data removed]",
      "text/plain": [
       "<VegaLite 4 object>\n",
       "\n",
       "If you see this message, it means the renderer has not been properly enabled\n",
       "for the frontend that you are using. For more information, see\n",
       "https://altair-viz.github.io/user_guide/troubleshooting.html\n"
      ]
     },
     "execution_count": 57,
     "metadata": {},
     "output_type": "execute_result"
    }
   ],
   "source": [
    "#2.3.6 Numerical feature distributions - y\n",
    "hist = alt.Chart(train).mark_bar().encode(\n",
    "     x = alt.X('y', type='quantitative', bin=alt.Bin(maxbins=50)),\n",
    "     y = 'count()',\n",
    ").properties(\n",
    "    width=400,\n",
    "    height=150\n",
    ")\n",
    "# Show the plot\n",
    "hist"
   ]
  },
  {
   "cell_type": "code",
   "execution_count": 58,
   "id": "381305b9-e811-44b2-8835-81677a89191f",
   "metadata": {},
   "outputs": [
    {
     "data": {
      "application/vnd.vegalite.v4+json": {
       "$schema": "https://vega.github.io/schema/vega-lite/v4.17.0.json",
       "config": {
        "view": {
         "continuousHeight": 300,
         "continuousWidth": 400
        }
       },
       "data": {
        "url": "http://localhost:49666/295f2a1cded26c888cb203d031828e89.json"
       },
       "encoding": {
        "x": {
         "bin": {
          "maxbins": 50
         },
         "field": "z",
         "type": "quantitative"
        },
        "y": {
         "aggregate": "count",
         "type": "quantitative"
        }
       },
       "height": 150,
       "mark": "bar",
       "width": 400
      },
      "image/png": "[encoded data removed]",
      "text/plain": [
       "<VegaLite 4 object>\n",
       "\n",
       "If you see this message, it means the renderer has not been properly enabled\n",
       "for the frontend that you are using. For more information, see\n",
       "https://altair-viz.github.io/user_guide/troubleshooting.html\n"
      ]
     },
     "execution_count": 58,
     "metadata": {},
     "output_type": "execute_result"
    }
   ],
   "source": [
    "#2.3.7 Numerical feature distributions - z\n",
    "hist = alt.Chart(train).mark_bar().encode(\n",
    "     x = alt.X('z', type='quantitative', bin=alt.Bin(maxbins=50)),\n",
    "     y = 'count()',\n",
    ").properties(\n",
    "    width=400,\n",
    "    height=150\n",
    ")\n",
    "# Show the plot\n",
    "hist"
   ]
  },
  {
   "cell_type": "code",
   "execution_count": 59,
   "id": "2e4b952f-4c83-413b-870c-d2ac27a25599",
   "metadata": {},
   "outputs": [
    {
     "data": {
      "text/plain": [
       "Ideal        64560\n",
       "Premium      34850\n",
       "Very Good    26584\n",
       "Good          8076\n",
       "Fair          1431\n",
       "Name: cut, dtype: int64"
      ]
     },
     "execution_count": 59,
     "metadata": {},
     "output_type": "execute_result"
    }
   ],
   "source": [
    "#2.3.8.1 Categorical feature distributions - cut - value_counts()\n",
    "train['cut'].value_counts()"
   ]
  },
  {
   "cell_type": "code",
   "execution_count": 60,
   "id": "c8b716e7-940b-4d1a-ae96-d2e5b645c1f6",
   "metadata": {},
   "outputs": [
    {
     "data": {
      "application/vnd.vegalite.v4+json": {
       "$schema": "https://vega.github.io/schema/vega-lite/v4.17.0.json",
       "config": {
        "view": {
         "continuousHeight": 300,
         "continuousWidth": 400
        }
       },
       "data": {
        "url": "http://localhost:49666/295f2a1cded26c888cb203d031828e89.json"
       },
       "encoding": {
        "x": {
         "aggregate": "count",
         "type": "quantitative"
        },
        "y": {
         "field": "cut",
         "sort": "-x",
         "type": "nominal"
        }
       },
       "height": 150,
       "mark": "bar",
       "width": 400
      },
      "image/png": "[encoded data removed]",
      "text/plain": [
       "<VegaLite 4 object>\n",
       "\n",
       "If you see this message, it means the renderer has not been properly enabled\n",
       "for the frontend that you are using. For more information, see\n",
       "https://altair-viz.github.io/user_guide/troubleshooting.html\n"
      ]
     },
     "execution_count": 60,
     "metadata": {},
     "output_type": "execute_result"
    }
   ],
   "source": [
    "#2.3.8.2 Categorical feature distributions - cut\n",
    "bar = alt.Chart(train).mark_bar().encode(\n",
    "    x = 'count()',\n",
    "    y = alt.Y('cut', type='nominal', sort='-x')\n",
    "     ,\n",
    ").properties(\n",
    "    width=400,\n",
    "    height=150\n",
    ")\n",
    "# Show the plot\n",
    "bar"
   ]
  },
  {
   "cell_type": "code",
   "execution_count": 64,
   "id": "069d52ca-a503-4e06-afa2-96606ab17169",
   "metadata": {},
   "outputs": [
    {
     "data": {
      "text/plain": [
       "G    31096\n",
       "E    25103\n",
       "F    24028\n",
       "H    21601\n",
       "D    16848\n",
       "I    12312\n",
       "J     4513\n",
       "Name: color, dtype: int64"
      ]
     },
     "execution_count": 64,
     "metadata": {},
     "output_type": "execute_result"
    }
   ],
   "source": [
    "#2.3.9.1 Categorical feature distributions - color - value_counts()\n",
    "train['color'].value_counts()"
   ]
  },
  {
   "cell_type": "code",
   "execution_count": 62,
   "id": "5a2c1244-c69d-4f9d-b68c-87247e3da17f",
   "metadata": {},
   "outputs": [
    {
     "data": {
      "application/vnd.vegalite.v4+json": {
       "$schema": "https://vega.github.io/schema/vega-lite/v4.17.0.json",
       "config": {
        "view": {
         "continuousHeight": 300,
         "continuousWidth": 400
        }
       },
       "data": {
        "url": "http://localhost:49666/295f2a1cded26c888cb203d031828e89.json"
       },
       "encoding": {
        "x": {
         "aggregate": "count",
         "type": "quantitative"
        },
        "y": {
         "field": "color",
         "sort": "-x",
         "type": "nominal"
        }
       },
       "height": 150,
       "mark": "bar",
       "width": 400
      },
      "image/png": "[encoded data removed]",
      "text/plain": [
       "<VegaLite 4 object>\n",
       "\n",
       "If you see this message, it means the renderer has not been properly enabled\n",
       "for the frontend that you are using. For more information, see\n",
       "https://altair-viz.github.io/user_guide/troubleshooting.html\n"
      ]
     },
     "execution_count": 62,
     "metadata": {},
     "output_type": "execute_result"
    }
   ],
   "source": [
    "#2.3.9.2 Categorical feature distributions - color\n",
    "bar = alt.Chart(train).mark_bar().encode(\n",
    "    x = 'count()',\n",
    "    y = alt.Y('color', type='nominal', sort='-x')\n",
    "     ,\n",
    ").properties(\n",
    "    width=400,\n",
    "    height=150\n",
    ")\n",
    "# Show the plot\n",
    "bar"
   ]
  },
  {
   "cell_type": "code",
   "execution_count": 63,
   "id": "ff7a0f62-582b-4d20-acae-9b45f7cd3871",
   "metadata": {},
   "outputs": [
    {
     "data": {
      "text/plain": [
       "SI1     37229\n",
       "VS2     33521\n",
       "VS1     21567\n",
       "SI2     21247\n",
       "VVS2    11143\n",
       "VVS1     7450\n",
       "IF       2982\n",
       "I1        362\n",
       "Name: clarity, dtype: int64"
      ]
     },
     "execution_count": 63,
     "metadata": {},
     "output_type": "execute_result"
    }
   ],
   "source": [
    "#2.3.10.1 Categorical feature distributions - clarity - value_counts()\n",
    "train['clarity'].value_counts()"
   ]
  },
  {
   "cell_type": "code",
   "execution_count": 22,
   "id": "dfcd72bb-8349-4f9e-82d2-49e6cf8cd97e",
   "metadata": {},
   "outputs": [
    {
     "data": {
      "application/vnd.vegalite.v4+json": {
       "$schema": "https://vega.github.io/schema/vega-lite/v4.17.0.json",
       "config": {
        "view": {
         "continuousHeight": 300,
         "continuousWidth": 400
        }
       },
       "data": {
        "url": "http://localhost:49666/b07f4bc0b6a5372844d1015930232327.json"
       },
       "encoding": {
        "x": {
         "aggregate": "count",
         "type": "quantitative"
        },
        "y": {
         "field": "clarity",
         "sort": "-x",
         "type": "nominal"
        }
       },
       "height": 150,
       "mark": "bar",
       "width": 400
      },
      "image/png": "[encoded data removed]",
      "text/plain": [
       "<VegaLite 4 object>\n",
       "\n",
       "If you see this message, it means the renderer has not been properly enabled\n",
       "for the frontend that you are using. For more information, see\n",
       "https://altair-viz.github.io/user_guide/troubleshooting.html\n"
      ]
     },
     "execution_count": 22,
     "metadata": {},
     "output_type": "execute_result"
    }
   ],
   "source": [
    "#2.3.9.10 Categorical feature distributions - clarity\n",
    "bar = alt.Chart(train).mark_bar().encode(\n",
    "    x = 'count()',\n",
    "    y = alt.Y('clarity', type='nominal', sort='-x')\n",
    "     ,\n",
    ").properties(\n",
    "    width=400,\n",
    "    height=150\n",
    ")\n",
    "# Show the plot\n",
    "bar"
   ]
  },
  {
   "cell_type": "code",
   "execution_count": 65,
   "id": "a6623fba-156e-4cc5-bfdb-36b1609f6089",
   "metadata": {},
   "outputs": [
    {
     "data": {
      "text/html": [
       "<style type=\"text/css\">\n",
       "#T_35832_row0_col0, #T_35832_row1_col1, #T_35832_row2_col2, #T_35832_row3_col3, #T_35832_row4_col4, #T_35832_row4_col5, #T_35832_row5_col4, #T_35832_row5_col5, #T_35832_row6_col6, #T_35832_row7_col7, #T_35832_row8_col8 {\n",
       "  background-color: #023858;\n",
       "  color: #f1f1f1;\n",
       "}\n",
       "#T_35832_row0_col1, #T_35832_row0_col6, #T_35832_row0_col7, #T_35832_row0_col8, #T_35832_row1_col0, #T_35832_row2_col3, #T_35832_row2_col4, #T_35832_row2_col5, #T_35832_row2_col7, #T_35832_row3_col2, #T_35832_row4_col0, #T_35832_row5_col0, #T_35832_row6_col0, #T_35832_row7_col0, #T_35832_row8_col0 {\n",
       "  background-color: #fff7fb;\n",
       "  color: #000000;\n",
       "}\n",
       "#T_35832_row0_col2, #T_35832_row0_col3, #T_35832_row7_col2 {\n",
       "  background-color: #dedcec;\n",
       "  color: #000000;\n",
       "}\n",
       "#T_35832_row0_col4, #T_35832_row0_col5 {\n",
       "  background-color: #fef6fa;\n",
       "  color: #000000;\n",
       "}\n",
       "#T_35832_row1_col2, #T_35832_row3_col6, #T_35832_row3_col8 {\n",
       "  background-color: #d9d8ea;\n",
       "  color: #000000;\n",
       "}\n",
       "#T_35832_row1_col3 {\n",
       "  background-color: #a8bedc;\n",
       "  color: #000000;\n",
       "}\n",
       "#T_35832_row1_col4, #T_35832_row1_col5, #T_35832_row4_col1 {\n",
       "  background-color: #023c5f;\n",
       "  color: #f1f1f1;\n",
       "}\n",
       "#T_35832_row1_col6, #T_35832_row5_col8, #T_35832_row6_col1, #T_35832_row8_col4, #T_35832_row8_col5 {\n",
       "  background-color: #023e62;\n",
       "  color: #f1f1f1;\n",
       "}\n",
       "#T_35832_row1_col7, #T_35832_row7_col1 {\n",
       "  background-color: #03476f;\n",
       "  color: #f1f1f1;\n",
       "}\n",
       "#T_35832_row1_col8, #T_35832_row8_col1 {\n",
       "  background-color: #034871;\n",
       "  color: #f1f1f1;\n",
       "}\n",
       "#T_35832_row2_col0, #T_35832_row3_col0 {\n",
       "  background-color: #fef6fb;\n",
       "  color: #000000;\n",
       "}\n",
       "#T_35832_row2_col1 {\n",
       "  background-color: #fbf3f9;\n",
       "  color: #000000;\n",
       "}\n",
       "#T_35832_row2_col6 {\n",
       "  background-color: #f2ecf5;\n",
       "  color: #000000;\n",
       "}\n",
       "#T_35832_row2_col8 {\n",
       "  background-color: #fdf5fa;\n",
       "  color: #000000;\n",
       "}\n",
       "#T_35832_row3_col1 {\n",
       "  background-color: #d6d6e9;\n",
       "  color: #000000;\n",
       "}\n",
       "#T_35832_row3_col4 {\n",
       "  background-color: #d2d2e7;\n",
       "  color: #000000;\n",
       "}\n",
       "#T_35832_row3_col5 {\n",
       "  background-color: #d2d3e7;\n",
       "  color: #000000;\n",
       "}\n",
       "#T_35832_row3_col7 {\n",
       "  background-color: #e1dfed;\n",
       "  color: #000000;\n",
       "}\n",
       "#T_35832_row4_col2, #T_35832_row5_col2 {\n",
       "  background-color: #e0deed;\n",
       "  color: #000000;\n",
       "}\n",
       "#T_35832_row4_col3 {\n",
       "  background-color: #a4bcda;\n",
       "  color: #000000;\n",
       "}\n",
       "#T_35832_row4_col6, #T_35832_row5_col6, #T_35832_row6_col5 {\n",
       "  background-color: #023b5d;\n",
       "  color: #f1f1f1;\n",
       "}\n",
       "#T_35832_row4_col7, #T_35832_row5_col7, #T_35832_row7_col4, #T_35832_row7_col5 {\n",
       "  background-color: #045382;\n",
       "  color: #f1f1f1;\n",
       "}\n",
       "#T_35832_row4_col8 {\n",
       "  background-color: #023f64;\n",
       "  color: #f1f1f1;\n",
       "}\n",
       "#T_35832_row5_col1 {\n",
       "  background-color: #023d60;\n",
       "  color: #f1f1f1;\n",
       "}\n",
       "#T_35832_row5_col3 {\n",
       "  background-color: #a5bddb;\n",
       "  color: #000000;\n",
       "}\n",
       "#T_35832_row6_col2 {\n",
       "  background-color: #ced0e6;\n",
       "  color: #000000;\n",
       "}\n",
       "#T_35832_row6_col3, #T_35832_row8_col3 {\n",
       "  background-color: #acc0dd;\n",
       "  color: #000000;\n",
       "}\n",
       "#T_35832_row6_col4 {\n",
       "  background-color: #023a5b;\n",
       "  color: #f1f1f1;\n",
       "}\n",
       "#T_35832_row6_col7, #T_35832_row7_col6 {\n",
       "  background-color: #045585;\n",
       "  color: #f1f1f1;\n",
       "}\n",
       "#T_35832_row6_col8, #T_35832_row8_col6 {\n",
       "  background-color: #034267;\n",
       "  color: #f1f1f1;\n",
       "}\n",
       "#T_35832_row7_col3 {\n",
       "  background-color: #b5c4df;\n",
       "  color: #000000;\n",
       "}\n",
       "#T_35832_row7_col8, #T_35832_row8_col7 {\n",
       "  background-color: #045483;\n",
       "  color: #f1f1f1;\n",
       "}\n",
       "#T_35832_row8_col2 {\n",
       "  background-color: #dcdaeb;\n",
       "  color: #000000;\n",
       "}\n",
       "</style>\n",
       "<table id=\"T_35832\">\n",
       "  <thead>\n",
       "    <tr>\n",
       "      <th class=\"blank level0\" >&nbsp;</th>\n",
       "      <th id=\"T_35832_level0_col0\" class=\"col_heading level0 col0\" >id</th>\n",
       "      <th id=\"T_35832_level0_col1\" class=\"col_heading level0 col1\" >carat</th>\n",
       "      <th id=\"T_35832_level0_col2\" class=\"col_heading level0 col2\" >depth</th>\n",
       "      <th id=\"T_35832_level0_col3\" class=\"col_heading level0 col3\" >table</th>\n",
       "      <th id=\"T_35832_level0_col4\" class=\"col_heading level0 col4\" >x</th>\n",
       "      <th id=\"T_35832_level0_col5\" class=\"col_heading level0 col5\" >y</th>\n",
       "      <th id=\"T_35832_level0_col6\" class=\"col_heading level0 col6\" >z</th>\n",
       "      <th id=\"T_35832_level0_col7\" class=\"col_heading level0 col7\" >price</th>\n",
       "      <th id=\"T_35832_level0_col8\" class=\"col_heading level0 col8\" >log_price</th>\n",
       "    </tr>\n",
       "  </thead>\n",
       "  <tbody>\n",
       "    <tr>\n",
       "      <th id=\"T_35832_level0_row0\" class=\"row_heading level0 row0\" >id</th>\n",
       "      <td id=\"T_35832_row0_col0\" class=\"data row0 col0\" >1.00</td>\n",
       "      <td id=\"T_35832_row0_col1\" class=\"data row0 col1\" >-0.00</td>\n",
       "      <td id=\"T_35832_row0_col2\" class=\"data row0 col2\" >0.00</td>\n",
       "      <td id=\"T_35832_row0_col3\" class=\"data row0 col3\" >0.00</td>\n",
       "      <td id=\"T_35832_row0_col4\" class=\"data row0 col4\" >-0.00</td>\n",
       "      <td id=\"T_35832_row0_col5\" class=\"data row0 col5\" >-0.00</td>\n",
       "      <td id=\"T_35832_row0_col6\" class=\"data row0 col6\" >0.00</td>\n",
       "      <td id=\"T_35832_row0_col7\" class=\"data row0 col7\" >-0.00</td>\n",
       "      <td id=\"T_35832_row0_col8\" class=\"data row0 col8\" >-0.00</td>\n",
       "    </tr>\n",
       "    <tr>\n",
       "      <th id=\"T_35832_level0_row1\" class=\"row_heading level0 row1\" >carat</th>\n",
       "      <td id=\"T_35832_row1_col0\" class=\"data row1 col0\" >-0.00</td>\n",
       "      <td id=\"T_35832_row1_col1\" class=\"data row1 col1\" >1.00</td>\n",
       "      <td id=\"T_35832_row1_col2\" class=\"data row1 col2\" >0.03</td>\n",
       "      <td id=\"T_35832_row1_col3\" class=\"data row1 col3\" >0.23</td>\n",
       "      <td id=\"T_35832_row1_col4\" class=\"data row1 col4\" >0.98</td>\n",
       "      <td id=\"T_35832_row1_col5\" class=\"data row1 col5\" >0.98</td>\n",
       "      <td id=\"T_35832_row1_col6\" class=\"data row1 col6\" >0.97</td>\n",
       "      <td id=\"T_35832_row1_col7\" class=\"data row1 col7\" >0.94</td>\n",
       "      <td id=\"T_35832_row1_col8\" class=\"data row1 col8\" >0.94</td>\n",
       "    </tr>\n",
       "    <tr>\n",
       "      <th id=\"T_35832_level0_row2\" class=\"row_heading level0 row2\" >depth</th>\n",
       "      <td id=\"T_35832_row2_col0\" class=\"data row2 col0\" >0.00</td>\n",
       "      <td id=\"T_35832_row2_col1\" class=\"data row2 col1\" >0.03</td>\n",
       "      <td id=\"T_35832_row2_col2\" class=\"data row2 col2\" >1.00</td>\n",
       "      <td id=\"T_35832_row2_col3\" class=\"data row2 col3\" >-0.23</td>\n",
       "      <td id=\"T_35832_row2_col4\" class=\"data row2 col4\" >-0.01</td>\n",
       "      <td id=\"T_35832_row2_col5\" class=\"data row2 col5\" >-0.01</td>\n",
       "      <td id=\"T_35832_row2_col6\" class=\"data row2 col6\" >0.08</td>\n",
       "      <td id=\"T_35832_row2_col7\" class=\"data row2 col7\" >0.00</td>\n",
       "      <td id=\"T_35832_row2_col8\" class=\"data row2 col8\" >0.01</td>\n",
       "    </tr>\n",
       "    <tr>\n",
       "      <th id=\"T_35832_level0_row3\" class=\"row_heading level0 row3\" >table</th>\n",
       "      <td id=\"T_35832_row3_col0\" class=\"data row3 col0\" >0.00</td>\n",
       "      <td id=\"T_35832_row3_col1\" class=\"data row3 col1\" >0.23</td>\n",
       "      <td id=\"T_35832_row3_col2\" class=\"data row3 col2\" >-0.23</td>\n",
       "      <td id=\"T_35832_row3_col3\" class=\"data row3 col3\" >1.00</td>\n",
       "      <td id=\"T_35832_row3_col4\" class=\"data row3 col4\" >0.24</td>\n",
       "      <td id=\"T_35832_row3_col5\" class=\"data row3 col5\" >0.23</td>\n",
       "      <td id=\"T_35832_row3_col6\" class=\"data row3 col6\" >0.21</td>\n",
       "      <td id=\"T_35832_row3_col7\" class=\"data row3 col7\" >0.17</td>\n",
       "      <td id=\"T_35832_row3_col8\" class=\"data row3 col8\" >0.21</td>\n",
       "    </tr>\n",
       "    <tr>\n",
       "      <th id=\"T_35832_level0_row4\" class=\"row_heading level0 row4\" >x</th>\n",
       "      <td id=\"T_35832_row4_col0\" class=\"data row4 col0\" >-0.00</td>\n",
       "      <td id=\"T_35832_row4_col1\" class=\"data row4 col1\" >0.98</td>\n",
       "      <td id=\"T_35832_row4_col2\" class=\"data row4 col2\" >-0.01</td>\n",
       "      <td id=\"T_35832_row4_col3\" class=\"data row4 col3\" >0.24</td>\n",
       "      <td id=\"T_35832_row4_col4\" class=\"data row4 col4\" >1.00</td>\n",
       "      <td id=\"T_35832_row4_col5\" class=\"data row4 col5\" >1.00</td>\n",
       "      <td id=\"T_35832_row4_col6\" class=\"data row4 col6\" >0.99</td>\n",
       "      <td id=\"T_35832_row4_col7\" class=\"data row4 col7\" >0.90</td>\n",
       "      <td id=\"T_35832_row4_col8\" class=\"data row4 col8\" >0.97</td>\n",
       "    </tr>\n",
       "    <tr>\n",
       "      <th id=\"T_35832_level0_row5\" class=\"row_heading level0 row5\" >y</th>\n",
       "      <td id=\"T_35832_row5_col0\" class=\"data row5 col0\" >-0.00</td>\n",
       "      <td id=\"T_35832_row5_col1\" class=\"data row5 col1\" >0.98</td>\n",
       "      <td id=\"T_35832_row5_col2\" class=\"data row5 col2\" >-0.01</td>\n",
       "      <td id=\"T_35832_row5_col3\" class=\"data row5 col3\" >0.23</td>\n",
       "      <td id=\"T_35832_row5_col4\" class=\"data row5 col4\" >1.00</td>\n",
       "      <td id=\"T_35832_row5_col5\" class=\"data row5 col5\" >1.00</td>\n",
       "      <td id=\"T_35832_row5_col6\" class=\"data row5 col6\" >0.99</td>\n",
       "      <td id=\"T_35832_row5_col7\" class=\"data row5 col7\" >0.90</td>\n",
       "      <td id=\"T_35832_row5_col8\" class=\"data row5 col8\" >0.97</td>\n",
       "    </tr>\n",
       "    <tr>\n",
       "      <th id=\"T_35832_level0_row6\" class=\"row_heading level0 row6\" >z</th>\n",
       "      <td id=\"T_35832_row6_col0\" class=\"data row6 col0\" >0.00</td>\n",
       "      <td id=\"T_35832_row6_col1\" class=\"data row6 col1\" >0.97</td>\n",
       "      <td id=\"T_35832_row6_col2\" class=\"data row6 col2\" >0.08</td>\n",
       "      <td id=\"T_35832_row6_col3\" class=\"data row6 col3\" >0.21</td>\n",
       "      <td id=\"T_35832_row6_col4\" class=\"data row6 col4\" >0.99</td>\n",
       "      <td id=\"T_35832_row6_col5\" class=\"data row6 col5\" >0.99</td>\n",
       "      <td id=\"T_35832_row6_col6\" class=\"data row6 col6\" >1.00</td>\n",
       "      <td id=\"T_35832_row6_col7\" class=\"data row6 col7\" >0.89</td>\n",
       "      <td id=\"T_35832_row6_col8\" class=\"data row6 col8\" >0.96</td>\n",
       "    </tr>\n",
       "    <tr>\n",
       "      <th id=\"T_35832_level0_row7\" class=\"row_heading level0 row7\" >price</th>\n",
       "      <td id=\"T_35832_row7_col0\" class=\"data row7 col0\" >-0.00</td>\n",
       "      <td id=\"T_35832_row7_col1\" class=\"data row7 col1\" >0.94</td>\n",
       "      <td id=\"T_35832_row7_col2\" class=\"data row7 col2\" >0.00</td>\n",
       "      <td id=\"T_35832_row7_col3\" class=\"data row7 col3\" >0.17</td>\n",
       "      <td id=\"T_35832_row7_col4\" class=\"data row7 col4\" >0.90</td>\n",
       "      <td id=\"T_35832_row7_col5\" class=\"data row7 col5\" >0.90</td>\n",
       "      <td id=\"T_35832_row7_col6\" class=\"data row7 col6\" >0.89</td>\n",
       "      <td id=\"T_35832_row7_col7\" class=\"data row7 col7\" >1.00</td>\n",
       "      <td id=\"T_35832_row7_col8\" class=\"data row7 col8\" >0.90</td>\n",
       "    </tr>\n",
       "    <tr>\n",
       "      <th id=\"T_35832_level0_row8\" class=\"row_heading level0 row8\" >log_price</th>\n",
       "      <td id=\"T_35832_row8_col0\" class=\"data row8 col0\" >-0.00</td>\n",
       "      <td id=\"T_35832_row8_col1\" class=\"data row8 col1\" >0.94</td>\n",
       "      <td id=\"T_35832_row8_col2\" class=\"data row8 col2\" >0.01</td>\n",
       "      <td id=\"T_35832_row8_col3\" class=\"data row8 col3\" >0.21</td>\n",
       "      <td id=\"T_35832_row8_col4\" class=\"data row8 col4\" >0.97</td>\n",
       "      <td id=\"T_35832_row8_col5\" class=\"data row8 col5\" >0.97</td>\n",
       "      <td id=\"T_35832_row8_col6\" class=\"data row8 col6\" >0.96</td>\n",
       "      <td id=\"T_35832_row8_col7\" class=\"data row8 col7\" >0.90</td>\n",
       "      <td id=\"T_35832_row8_col8\" class=\"data row8 col8\" >1.00</td>\n",
       "    </tr>\n",
       "  </tbody>\n",
       "</table>\n"
      ],
      "text/plain": [
       "<pandas.io.formats.style.Styler at 0x161dec460>"
      ]
     },
     "execution_count": 65,
     "metadata": {},
     "output_type": "execute_result"
    }
   ],
   "source": [
    "#2.4 Correlation matrix : Spearman\n",
    "train.corr('pearson').style.background_gradient().format(precision=2)"
   ]
  },
  {
   "cell_type": "code",
   "execution_count": 67,
   "id": "3d20d95a-b232-4fd1-b36a-b65982001635",
   "metadata": {},
   "outputs": [
    {
     "data": {
      "text/html": [
       "<style type=\"text/css\">\n",
       "#T_56404_row0_col0, #T_56404_row1_col1, #T_56404_row1_col4, #T_56404_row1_col5, #T_56404_row2_col2, #T_56404_row3_col3, #T_56404_row4_col1, #T_56404_row4_col4, #T_56404_row4_col5, #T_56404_row5_col1, #T_56404_row5_col4, #T_56404_row5_col5, #T_56404_row6_col6, #T_56404_row7_col7, #T_56404_row7_col8, #T_56404_row8_col7, #T_56404_row8_col8 {\n",
       "  background-color: #023858;\n",
       "  color: #f1f1f1;\n",
       "}\n",
       "#T_56404_row0_col1, #T_56404_row0_col6, #T_56404_row0_col7, #T_56404_row0_col8, #T_56404_row1_col0, #T_56404_row2_col3, #T_56404_row2_col4, #T_56404_row2_col5, #T_56404_row3_col0, #T_56404_row3_col2, #T_56404_row4_col0, #T_56404_row5_col0, #T_56404_row6_col0, #T_56404_row7_col0, #T_56404_row8_col0 {\n",
       "  background-color: #fff7fb;\n",
       "  color: #000000;\n",
       "}\n",
       "#T_56404_row0_col2, #T_56404_row0_col3 {\n",
       "  background-color: #e9e5f1;\n",
       "  color: #000000;\n",
       "}\n",
       "#T_56404_row0_col4, #T_56404_row0_col5, #T_56404_row2_col0 {\n",
       "  background-color: #fef6fb;\n",
       "  color: #000000;\n",
       "}\n",
       "#T_56404_row1_col2 {\n",
       "  background-color: #e1dfed;\n",
       "  color: #000000;\n",
       "}\n",
       "#T_56404_row1_col3, #T_56404_row5_col3 {\n",
       "  background-color: #b3c3de;\n",
       "  color: #000000;\n",
       "}\n",
       "#T_56404_row1_col6, #T_56404_row6_col1 {\n",
       "  background-color: #02395a;\n",
       "  color: #f1f1f1;\n",
       "}\n",
       "#T_56404_row1_col7, #T_56404_row1_col8, #T_56404_row4_col7, #T_56404_row4_col8, #T_56404_row5_col7, #T_56404_row5_col8, #T_56404_row7_col1, #T_56404_row7_col4, #T_56404_row7_col5, #T_56404_row8_col1, #T_56404_row8_col4, #T_56404_row8_col5 {\n",
       "  background-color: #023f64;\n",
       "  color: #f1f1f1;\n",
       "}\n",
       "#T_56404_row2_col1 {\n",
       "  background-color: #f8f1f8;\n",
       "  color: #000000;\n",
       "}\n",
       "#T_56404_row2_col6 {\n",
       "  background-color: #eee9f3;\n",
       "  color: #000000;\n",
       "}\n",
       "#T_56404_row2_col7, #T_56404_row2_col8 {\n",
       "  background-color: #faf3f9;\n",
       "  color: #000000;\n",
       "}\n",
       "#T_56404_row3_col1, #T_56404_row3_col5 {\n",
       "  background-color: #d3d4e7;\n",
       "  color: #000000;\n",
       "}\n",
       "#T_56404_row3_col4 {\n",
       "  background-color: #d2d2e7;\n",
       "  color: #000000;\n",
       "}\n",
       "#T_56404_row3_col6 {\n",
       "  background-color: #d9d8ea;\n",
       "  color: #000000;\n",
       "}\n",
       "#T_56404_row3_col7, #T_56404_row3_col8 {\n",
       "  background-color: #d7d6e9;\n",
       "  color: #000000;\n",
       "}\n",
       "#T_56404_row4_col2, #T_56404_row5_col2 {\n",
       "  background-color: #ebe6f2;\n",
       "  color: #000000;\n",
       "}\n",
       "#T_56404_row4_col3 {\n",
       "  background-color: #b1c2de;\n",
       "  color: #000000;\n",
       "}\n",
       "#T_56404_row4_col6, #T_56404_row5_col6, #T_56404_row6_col4, #T_56404_row6_col5 {\n",
       "  background-color: #023a5b;\n",
       "  color: #f1f1f1;\n",
       "}\n",
       "#T_56404_row6_col2 {\n",
       "  background-color: #d4d4e8;\n",
       "  color: #000000;\n",
       "}\n",
       "#T_56404_row6_col3 {\n",
       "  background-color: #bbc7e0;\n",
       "  color: #000000;\n",
       "}\n",
       "#T_56404_row6_col7, #T_56404_row6_col8, #T_56404_row7_col6, #T_56404_row8_col6 {\n",
       "  background-color: #034165;\n",
       "  color: #f1f1f1;\n",
       "}\n",
       "#T_56404_row7_col2, #T_56404_row8_col2 {\n",
       "  background-color: #e4e1ef;\n",
       "  color: #000000;\n",
       "}\n",
       "#T_56404_row7_col3, #T_56404_row8_col3 {\n",
       "  background-color: #b7c5df;\n",
       "  color: #000000;\n",
       "}\n",
       "</style>\n",
       "<table id=\"T_56404\">\n",
       "  <thead>\n",
       "    <tr>\n",
       "      <th class=\"blank level0\" >&nbsp;</th>\n",
       "      <th id=\"T_56404_level0_col0\" class=\"col_heading level0 col0\" >id</th>\n",
       "      <th id=\"T_56404_level0_col1\" class=\"col_heading level0 col1\" >carat</th>\n",
       "      <th id=\"T_56404_level0_col2\" class=\"col_heading level0 col2\" >depth</th>\n",
       "      <th id=\"T_56404_level0_col3\" class=\"col_heading level0 col3\" >table</th>\n",
       "      <th id=\"T_56404_level0_col4\" class=\"col_heading level0 col4\" >x</th>\n",
       "      <th id=\"T_56404_level0_col5\" class=\"col_heading level0 col5\" >y</th>\n",
       "      <th id=\"T_56404_level0_col6\" class=\"col_heading level0 col6\" >z</th>\n",
       "      <th id=\"T_56404_level0_col7\" class=\"col_heading level0 col7\" >price</th>\n",
       "      <th id=\"T_56404_level0_col8\" class=\"col_heading level0 col8\" >log_price</th>\n",
       "    </tr>\n",
       "  </thead>\n",
       "  <tbody>\n",
       "    <tr>\n",
       "      <th id=\"T_56404_level0_row0\" class=\"row_heading level0 row0\" >id</th>\n",
       "      <td id=\"T_56404_row0_col0\" class=\"data row0 col0\" >1.00</td>\n",
       "      <td id=\"T_56404_row0_col1\" class=\"data row0 col1\" >-0.00</td>\n",
       "      <td id=\"T_56404_row0_col2\" class=\"data row0 col2\" >0.00</td>\n",
       "      <td id=\"T_56404_row0_col3\" class=\"data row0 col3\" >0.00</td>\n",
       "      <td id=\"T_56404_row0_col4\" class=\"data row0 col4\" >-0.00</td>\n",
       "      <td id=\"T_56404_row0_col5\" class=\"data row0 col5\" >-0.00</td>\n",
       "      <td id=\"T_56404_row0_col6\" class=\"data row0 col6\" >0.00</td>\n",
       "      <td id=\"T_56404_row0_col7\" class=\"data row0 col7\" >0.00</td>\n",
       "      <td id=\"T_56404_row0_col8\" class=\"data row0 col8\" >0.00</td>\n",
       "    </tr>\n",
       "    <tr>\n",
       "      <th id=\"T_56404_level0_row1\" class=\"row_heading level0 row1\" >carat</th>\n",
       "      <td id=\"T_56404_row1_col0\" class=\"data row1 col0\" >-0.00</td>\n",
       "      <td id=\"T_56404_row1_col1\" class=\"data row1 col1\" >1.00</td>\n",
       "      <td id=\"T_56404_row1_col2\" class=\"data row1 col2\" >0.04</td>\n",
       "      <td id=\"T_56404_row1_col3\" class=\"data row1 col3\" >0.24</td>\n",
       "      <td id=\"T_56404_row1_col4\" class=\"data row1 col4\" >1.00</td>\n",
       "      <td id=\"T_56404_row1_col5\" class=\"data row1 col5\" >1.00</td>\n",
       "      <td id=\"T_56404_row1_col6\" class=\"data row1 col6\" >1.00</td>\n",
       "      <td id=\"T_56404_row1_col7\" class=\"data row1 col7\" >0.97</td>\n",
       "      <td id=\"T_56404_row1_col8\" class=\"data row1 col8\" >0.97</td>\n",
       "    </tr>\n",
       "    <tr>\n",
       "      <th id=\"T_56404_level0_row2\" class=\"row_heading level0 row2\" >depth</th>\n",
       "      <td id=\"T_56404_row2_col0\" class=\"data row2 col0\" >0.00</td>\n",
       "      <td id=\"T_56404_row2_col1\" class=\"data row2 col1\" >0.04</td>\n",
       "      <td id=\"T_56404_row2_col2\" class=\"data row2 col2\" >1.00</td>\n",
       "      <td id=\"T_56404_row2_col3\" class=\"data row2 col3\" >-0.16</td>\n",
       "      <td id=\"T_56404_row2_col4\" class=\"data row2 col4\" >-0.01</td>\n",
       "      <td id=\"T_56404_row2_col5\" class=\"data row2 col5\" >-0.01</td>\n",
       "      <td id=\"T_56404_row2_col6\" class=\"data row2 col6\" >0.11</td>\n",
       "      <td id=\"T_56404_row2_col7\" class=\"data row2 col7\" >0.03</td>\n",
       "      <td id=\"T_56404_row2_col8\" class=\"data row2 col8\" >0.03</td>\n",
       "    </tr>\n",
       "    <tr>\n",
       "      <th id=\"T_56404_level0_row3\" class=\"row_heading level0 row3\" >table</th>\n",
       "      <td id=\"T_56404_row3_col0\" class=\"data row3 col0\" >0.00</td>\n",
       "      <td id=\"T_56404_row3_col1\" class=\"data row3 col1\" >0.24</td>\n",
       "      <td id=\"T_56404_row3_col2\" class=\"data row3 col2\" >-0.16</td>\n",
       "      <td id=\"T_56404_row3_col3\" class=\"data row3 col3\" >1.00</td>\n",
       "      <td id=\"T_56404_row3_col4\" class=\"data row3 col4\" >0.24</td>\n",
       "      <td id=\"T_56404_row3_col5\" class=\"data row3 col5\" >0.23</td>\n",
       "      <td id=\"T_56404_row3_col6\" class=\"data row3 col6\" >0.21</td>\n",
       "      <td id=\"T_56404_row3_col7\" class=\"data row3 col7\" >0.22</td>\n",
       "      <td id=\"T_56404_row3_col8\" class=\"data row3 col8\" >0.22</td>\n",
       "    </tr>\n",
       "    <tr>\n",
       "      <th id=\"T_56404_level0_row4\" class=\"row_heading level0 row4\" >x</th>\n",
       "      <td id=\"T_56404_row4_col0\" class=\"data row4 col0\" >-0.00</td>\n",
       "      <td id=\"T_56404_row4_col1\" class=\"data row4 col1\" >1.00</td>\n",
       "      <td id=\"T_56404_row4_col2\" class=\"data row4 col2\" >-0.01</td>\n",
       "      <td id=\"T_56404_row4_col3\" class=\"data row4 col3\" >0.24</td>\n",
       "      <td id=\"T_56404_row4_col4\" class=\"data row4 col4\" >1.00</td>\n",
       "      <td id=\"T_56404_row4_col5\" class=\"data row4 col5\" >1.00</td>\n",
       "      <td id=\"T_56404_row4_col6\" class=\"data row4 col6\" >0.99</td>\n",
       "      <td id=\"T_56404_row4_col7\" class=\"data row4 col7\" >0.97</td>\n",
       "      <td id=\"T_56404_row4_col8\" class=\"data row4 col8\" >0.97</td>\n",
       "    </tr>\n",
       "    <tr>\n",
       "      <th id=\"T_56404_level0_row5\" class=\"row_heading level0 row5\" >y</th>\n",
       "      <td id=\"T_56404_row5_col0\" class=\"data row5 col0\" >-0.00</td>\n",
       "      <td id=\"T_56404_row5_col1\" class=\"data row5 col1\" >1.00</td>\n",
       "      <td id=\"T_56404_row5_col2\" class=\"data row5 col2\" >-0.01</td>\n",
       "      <td id=\"T_56404_row5_col3\" class=\"data row5 col3\" >0.23</td>\n",
       "      <td id=\"T_56404_row5_col4\" class=\"data row5 col4\" >1.00</td>\n",
       "      <td id=\"T_56404_row5_col5\" class=\"data row5 col5\" >1.00</td>\n",
       "      <td id=\"T_56404_row5_col6\" class=\"data row5 col6\" >0.99</td>\n",
       "      <td id=\"T_56404_row5_col7\" class=\"data row5 col7\" >0.97</td>\n",
       "      <td id=\"T_56404_row5_col8\" class=\"data row5 col8\" >0.97</td>\n",
       "    </tr>\n",
       "    <tr>\n",
       "      <th id=\"T_56404_level0_row6\" class=\"row_heading level0 row6\" >z</th>\n",
       "      <td id=\"T_56404_row6_col0\" class=\"data row6 col0\" >0.00</td>\n",
       "      <td id=\"T_56404_row6_col1\" class=\"data row6 col1\" >1.00</td>\n",
       "      <td id=\"T_56404_row6_col2\" class=\"data row6 col2\" >0.11</td>\n",
       "      <td id=\"T_56404_row6_col3\" class=\"data row6 col3\" >0.21</td>\n",
       "      <td id=\"T_56404_row6_col4\" class=\"data row6 col4\" >0.99</td>\n",
       "      <td id=\"T_56404_row6_col5\" class=\"data row6 col5\" >0.99</td>\n",
       "      <td id=\"T_56404_row6_col6\" class=\"data row6 col6\" >1.00</td>\n",
       "      <td id=\"T_56404_row6_col7\" class=\"data row6 col7\" >0.97</td>\n",
       "      <td id=\"T_56404_row6_col8\" class=\"data row6 col8\" >0.97</td>\n",
       "    </tr>\n",
       "    <tr>\n",
       "      <th id=\"T_56404_level0_row7\" class=\"row_heading level0 row7\" >price</th>\n",
       "      <td id=\"T_56404_row7_col0\" class=\"data row7 col0\" >0.00</td>\n",
       "      <td id=\"T_56404_row7_col1\" class=\"data row7 col1\" >0.97</td>\n",
       "      <td id=\"T_56404_row7_col2\" class=\"data row7 col2\" >0.03</td>\n",
       "      <td id=\"T_56404_row7_col3\" class=\"data row7 col3\" >0.22</td>\n",
       "      <td id=\"T_56404_row7_col4\" class=\"data row7 col4\" >0.97</td>\n",
       "      <td id=\"T_56404_row7_col5\" class=\"data row7 col5\" >0.97</td>\n",
       "      <td id=\"T_56404_row7_col6\" class=\"data row7 col6\" >0.97</td>\n",
       "      <td id=\"T_56404_row7_col7\" class=\"data row7 col7\" >1.00</td>\n",
       "      <td id=\"T_56404_row7_col8\" class=\"data row7 col8\" >1.00</td>\n",
       "    </tr>\n",
       "    <tr>\n",
       "      <th id=\"T_56404_level0_row8\" class=\"row_heading level0 row8\" >log_price</th>\n",
       "      <td id=\"T_56404_row8_col0\" class=\"data row8 col0\" >0.00</td>\n",
       "      <td id=\"T_56404_row8_col1\" class=\"data row8 col1\" >0.97</td>\n",
       "      <td id=\"T_56404_row8_col2\" class=\"data row8 col2\" >0.03</td>\n",
       "      <td id=\"T_56404_row8_col3\" class=\"data row8 col3\" >0.22</td>\n",
       "      <td id=\"T_56404_row8_col4\" class=\"data row8 col4\" >0.97</td>\n",
       "      <td id=\"T_56404_row8_col5\" class=\"data row8 col5\" >0.97</td>\n",
       "      <td id=\"T_56404_row8_col6\" class=\"data row8 col6\" >0.97</td>\n",
       "      <td id=\"T_56404_row8_col7\" class=\"data row8 col7\" >1.00</td>\n",
       "      <td id=\"T_56404_row8_col8\" class=\"data row8 col8\" >1.00</td>\n",
       "    </tr>\n",
       "  </tbody>\n",
       "</table>\n"
      ],
      "text/plain": [
       "<pandas.io.formats.style.Styler at 0x164d181c0>"
      ]
     },
     "execution_count": 67,
     "metadata": {},
     "output_type": "execute_result"
    }
   ],
   "source": [
    "#2.5 Correlation matrix : Spearman\n",
    "train.corr('spearman').style.background_gradient().format(precision=2)"
   ]
  },
  {
   "cell_type": "markdown",
   "id": "3009accf-b2c0-4315-8a1b-3f5c993cf2e7",
   "metadata": {},
   "source": [
    "## 3. Feature engineering and Feature selection"
   ]
  },
  {
   "cell_type": "code",
   "execution_count": 68,
   "id": "331ae022-5f8d-4512-832f-7ad31a89beba",
   "metadata": {},
   "outputs": [],
   "source": [
    "#3.1 Separate X_train, y_train, X_test, y_test\n",
    "X_train = train.drop(columns=['price'])\n",
    "X_test = valid.drop(columns=['price'])\n",
    "y_train = train['price']\n",
    "y_test = valid['price']"
   ]
  },
  {
   "cell_type": "code",
   "execution_count": 70,
   "id": "eed9b90d-46c8-403d-8bfa-9311726044d7",
   "metadata": {},
   "outputs": [
    {
     "data": {
      "text/plain": [
       "Index(['id', 'carat', 'cut', 'color', 'clarity', 'depth', 'table', 'x', 'y',\n",
       "       'z', 'log_price'],\n",
       "      dtype='object')"
      ]
     },
     "execution_count": 70,
     "metadata": {},
     "output_type": "execute_result"
    }
   ],
   "source": [
    "#3.2 Check colnume names\n",
    "X_train.columns"
   ]
  },
  {
   "cell_type": "code",
   "execution_count": 78,
   "id": "b7beaf58-a96f-45d6-a098-7643f2d7afd7",
   "metadata": {},
   "outputs": [
    {
     "data": {
      "text/html": [
       "<style>#sk-container-id-3 {color: black;background-color: white;}#sk-container-id-3 pre{padding: 0;}#sk-container-id-3 div.sk-toggleable {background-color: white;}#sk-container-id-3 label.sk-toggleable__label {cursor: pointer;display: block;width: 100%;margin-bottom: 0;padding: 0.3em;box-sizing: border-box;text-align: center;}#sk-container-id-3 label.sk-toggleable__label-arrow:before {content: \"▸\";float: left;margin-right: 0.25em;color: #696969;}#sk-container-id-3 label.sk-toggleable__label-arrow:hover:before {color: black;}#sk-container-id-3 div.sk-estimator:hover label.sk-toggleable__label-arrow:before {color: black;}#sk-container-id-3 div.sk-toggleable__content {max-height: 0;max-width: 0;overflow: hidden;text-align: left;background-color: #f0f8ff;}#sk-container-id-3 div.sk-toggleable__content pre {margin: 0.2em;color: black;border-radius: 0.25em;background-color: #f0f8ff;}#sk-container-id-3 input.sk-toggleable__control:checked~div.sk-toggleable__content {max-height: 200px;max-width: 100%;overflow: auto;}#sk-container-id-3 input.sk-toggleable__control:checked~label.sk-toggleable__label-arrow:before {content: \"▾\";}#sk-container-id-3 div.sk-estimator input.sk-toggleable__control:checked~label.sk-toggleable__label {background-color: #d4ebff;}#sk-container-id-3 div.sk-label input.sk-toggleable__control:checked~label.sk-toggleable__label {background-color: #d4ebff;}#sk-container-id-3 input.sk-hidden--visually {border: 0;clip: rect(1px 1px 1px 1px);clip: rect(1px, 1px, 1px, 1px);height: 1px;margin: -1px;overflow: hidden;padding: 0;position: absolute;width: 1px;}#sk-container-id-3 div.sk-estimator {font-family: monospace;background-color: #f0f8ff;border: 1px dotted black;border-radius: 0.25em;box-sizing: border-box;margin-bottom: 0.5em;}#sk-container-id-3 div.sk-estimator:hover {background-color: #d4ebff;}#sk-container-id-3 div.sk-parallel-item::after {content: \"\";width: 100%;border-bottom: 1px solid gray;flex-grow: 1;}#sk-container-id-3 div.sk-label:hover label.sk-toggleable__label {background-color: #d4ebff;}#sk-container-id-3 div.sk-serial::before {content: \"\";position: absolute;border-left: 1px solid gray;box-sizing: border-box;top: 0;bottom: 0;left: 50%;z-index: 0;}#sk-container-id-3 div.sk-serial {display: flex;flex-direction: column;align-items: center;background-color: white;padding-right: 0.2em;padding-left: 0.2em;position: relative;}#sk-container-id-3 div.sk-item {position: relative;z-index: 1;}#sk-container-id-3 div.sk-parallel {display: flex;align-items: stretch;justify-content: center;background-color: white;position: relative;}#sk-container-id-3 div.sk-item::before, #sk-container-id-3 div.sk-parallel-item::before {content: \"\";position: absolute;border-left: 1px solid gray;box-sizing: border-box;top: 0;bottom: 0;left: 50%;z-index: -1;}#sk-container-id-3 div.sk-parallel-item {display: flex;flex-direction: column;z-index: 1;position: relative;background-color: white;}#sk-container-id-3 div.sk-parallel-item:first-child::after {align-self: flex-end;width: 50%;}#sk-container-id-3 div.sk-parallel-item:last-child::after {align-self: flex-start;width: 50%;}#sk-container-id-3 div.sk-parallel-item:only-child::after {width: 0;}#sk-container-id-3 div.sk-dashed-wrapped {border: 1px dashed gray;margin: 0 0.4em 0.5em 0.4em;box-sizing: border-box;padding-bottom: 0.4em;background-color: white;}#sk-container-id-3 div.sk-label label {font-family: monospace;font-weight: bold;display: inline-block;line-height: 1.2em;}#sk-container-id-3 div.sk-label-container {text-align: center;}#sk-container-id-3 div.sk-container {/* jupyter's `normalize.less` sets `[hidden] { display: none; }` but bootstrap.min.css set `[hidden] { display: none !important; }` so we also need the `!important` here to be able to override the default hidden behavior on the sphinx rendered scikit-learn.org. See: https://github.com/scikit-learn/scikit-learn/issues/21755 */display: inline-block !important;position: relative;}#sk-container-id-3 div.sk-text-repr-fallback {display: none;}</style><div id=\"sk-container-id-3\" class=\"sk-top-container\"><div class=\"sk-text-repr-fallback\"><pre>ColumnTransformer(transformers=[(&#x27;standardscaler&#x27;, StandardScaler(),\n",
       "                                 [&#x27;carat&#x27;, &#x27;depth&#x27;, &#x27;table&#x27;, &#x27;x&#x27;, &#x27;y&#x27;, &#x27;z&#x27;]),\n",
       "                                (&#x27;ordinalencoder&#x27;,\n",
       "                                 OrdinalEncoder(categories=[[&#x27;Ideal&#x27;, &#x27;Premium&#x27;,\n",
       "                                                             &#x27;Very Good&#x27;,\n",
       "                                                             &#x27;Good&#x27;, &#x27;Fair&#x27;],\n",
       "                                                            [&#x27;D&#x27;, &#x27;E&#x27;, &#x27;F&#x27;, &#x27;G&#x27;,\n",
       "                                                             &#x27;H&#x27;, &#x27;I&#x27;, &#x27;J&#x27;],\n",
       "                                                            [&#x27;IF&#x27;, &#x27;VVS1&#x27;,\n",
       "                                                             &#x27;VVS2&#x27;, &#x27;VS1&#x27;,\n",
       "                                                             &#x27;VS2&#x27;, &#x27;SI1&#x27;,\n",
       "                                                             &#x27;SI2&#x27;, &#x27;I1&#x27;]],\n",
       "                                                dtype=&lt;class &#x27;int&#x27;&gt;),\n",
       "                                 [&#x27;cut&#x27;, &#x27;color&#x27;, &#x27;clarity&#x27;]),\n",
       "                                (&#x27;drop&#x27;, &#x27;drop&#x27;, [&#x27;id&#x27;, &#x27;log_price&#x27;])])</pre><b>In a Jupyter environment, please rerun this cell to show the HTML representation or trust the notebook. <br />On GitHub, the HTML representation is unable to render, please try loading this page with nbviewer.org.</b></div><div class=\"sk-container\" hidden><div class=\"sk-item sk-dashed-wrapped\"><div class=\"sk-label-container\"><div class=\"sk-label sk-toggleable\"><input class=\"sk-toggleable__control sk-hidden--visually\" id=\"sk-estimator-id-15\" type=\"checkbox\" ><label for=\"sk-estimator-id-15\" class=\"sk-toggleable__label sk-toggleable__label-arrow\">ColumnTransformer</label><div class=\"sk-toggleable__content\"><pre>ColumnTransformer(transformers=[(&#x27;standardscaler&#x27;, StandardScaler(),\n",
       "                                 [&#x27;carat&#x27;, &#x27;depth&#x27;, &#x27;table&#x27;, &#x27;x&#x27;, &#x27;y&#x27;, &#x27;z&#x27;]),\n",
       "                                (&#x27;ordinalencoder&#x27;,\n",
       "                                 OrdinalEncoder(categories=[[&#x27;Ideal&#x27;, &#x27;Premium&#x27;,\n",
       "                                                             &#x27;Very Good&#x27;,\n",
       "                                                             &#x27;Good&#x27;, &#x27;Fair&#x27;],\n",
       "                                                            [&#x27;D&#x27;, &#x27;E&#x27;, &#x27;F&#x27;, &#x27;G&#x27;,\n",
       "                                                             &#x27;H&#x27;, &#x27;I&#x27;, &#x27;J&#x27;],\n",
       "                                                            [&#x27;IF&#x27;, &#x27;VVS1&#x27;,\n",
       "                                                             &#x27;VVS2&#x27;, &#x27;VS1&#x27;,\n",
       "                                                             &#x27;VS2&#x27;, &#x27;SI1&#x27;,\n",
       "                                                             &#x27;SI2&#x27;, &#x27;I1&#x27;]],\n",
       "                                                dtype=&lt;class &#x27;int&#x27;&gt;),\n",
       "                                 [&#x27;cut&#x27;, &#x27;color&#x27;, &#x27;clarity&#x27;]),\n",
       "                                (&#x27;drop&#x27;, &#x27;drop&#x27;, [&#x27;id&#x27;, &#x27;log_price&#x27;])])</pre></div></div></div><div class=\"sk-parallel\"><div class=\"sk-parallel-item\"><div class=\"sk-item\"><div class=\"sk-label-container\"><div class=\"sk-label sk-toggleable\"><input class=\"sk-toggleable__control sk-hidden--visually\" id=\"sk-estimator-id-16\" type=\"checkbox\" ><label for=\"sk-estimator-id-16\" class=\"sk-toggleable__label sk-toggleable__label-arrow\">standardscaler</label><div class=\"sk-toggleable__content\"><pre>[&#x27;carat&#x27;, &#x27;depth&#x27;, &#x27;table&#x27;, &#x27;x&#x27;, &#x27;y&#x27;, &#x27;z&#x27;]</pre></div></div></div><div class=\"sk-serial\"><div class=\"sk-item\"><div class=\"sk-estimator sk-toggleable\"><input class=\"sk-toggleable__control sk-hidden--visually\" id=\"sk-estimator-id-17\" type=\"checkbox\" ><label for=\"sk-estimator-id-17\" class=\"sk-toggleable__label sk-toggleable__label-arrow\">StandardScaler</label><div class=\"sk-toggleable__content\"><pre>StandardScaler()</pre></div></div></div></div></div></div><div class=\"sk-parallel-item\"><div class=\"sk-item\"><div class=\"sk-label-container\"><div class=\"sk-label sk-toggleable\"><input class=\"sk-toggleable__control sk-hidden--visually\" id=\"sk-estimator-id-18\" type=\"checkbox\" ><label for=\"sk-estimator-id-18\" class=\"sk-toggleable__label sk-toggleable__label-arrow\">ordinalencoder</label><div class=\"sk-toggleable__content\"><pre>[&#x27;cut&#x27;, &#x27;color&#x27;, &#x27;clarity&#x27;]</pre></div></div></div><div class=\"sk-serial\"><div class=\"sk-item\"><div class=\"sk-estimator sk-toggleable\"><input class=\"sk-toggleable__control sk-hidden--visually\" id=\"sk-estimator-id-19\" type=\"checkbox\" ><label for=\"sk-estimator-id-19\" class=\"sk-toggleable__label sk-toggleable__label-arrow\">OrdinalEncoder</label><div class=\"sk-toggleable__content\"><pre>OrdinalEncoder(categories=[[&#x27;Ideal&#x27;, &#x27;Premium&#x27;, &#x27;Very Good&#x27;, &#x27;Good&#x27;, &#x27;Fair&#x27;],\n",
       "                           [&#x27;D&#x27;, &#x27;E&#x27;, &#x27;F&#x27;, &#x27;G&#x27;, &#x27;H&#x27;, &#x27;I&#x27;, &#x27;J&#x27;],\n",
       "                           [&#x27;IF&#x27;, &#x27;VVS1&#x27;, &#x27;VVS2&#x27;, &#x27;VS1&#x27;, &#x27;VS2&#x27;, &#x27;SI1&#x27;, &#x27;SI2&#x27;,\n",
       "                            &#x27;I1&#x27;]],\n",
       "               dtype=&lt;class &#x27;int&#x27;&gt;)</pre></div></div></div></div></div></div><div class=\"sk-parallel-item\"><div class=\"sk-item\"><div class=\"sk-label-container\"><div class=\"sk-label sk-toggleable\"><input class=\"sk-toggleable__control sk-hidden--visually\" id=\"sk-estimator-id-20\" type=\"checkbox\" ><label for=\"sk-estimator-id-20\" class=\"sk-toggleable__label sk-toggleable__label-arrow\">drop</label><div class=\"sk-toggleable__content\"><pre>[&#x27;id&#x27;, &#x27;log_price&#x27;]</pre></div></div></div><div class=\"sk-serial\"><div class=\"sk-item\"><div class=\"sk-estimator sk-toggleable\"><input class=\"sk-toggleable__control sk-hidden--visually\" id=\"sk-estimator-id-21\" type=\"checkbox\" ><label for=\"sk-estimator-id-21\" class=\"sk-toggleable__label sk-toggleable__label-arrow\">drop</label><div class=\"sk-toggleable__content\"><pre>drop</pre></div></div></div></div></div></div></div></div></div></div>"
      ],
      "text/plain": [
       "ColumnTransformer(transformers=[('standardscaler', StandardScaler(),\n",
       "                                 ['carat', 'depth', 'table', 'x', 'y', 'z']),\n",
       "                                ('ordinalencoder',\n",
       "                                 OrdinalEncoder(categories=[['Ideal', 'Premium',\n",
       "                                                             'Very Good',\n",
       "                                                             'Good', 'Fair'],\n",
       "                                                            ['D', 'E', 'F', 'G',\n",
       "                                                             'H', 'I', 'J'],\n",
       "                                                            ['IF', 'VVS1',\n",
       "                                                             'VVS2', 'VS1',\n",
       "                                                             'VS2', 'SI1',\n",
       "                                                             'SI2', 'I1']],\n",
       "                                                dtype=<class 'int'>),\n",
       "                                 ['cut', 'color', 'clarity']),\n",
       "                                ('drop', 'drop', ['id', 'log_price'])])"
      ]
     },
     "execution_count": 78,
     "metadata": {},
     "output_type": "execute_result"
    }
   ],
   "source": [
    "#3.3 setup feature types\n",
    "numerical_features = ['carat', 'depth', 'table', 'x', 'y', 'z']\n",
    "categorical_features = ['cut', 'color', 'clarity']\n",
    "drop_features = ['id','log_price']\n",
    "\n",
    "cut_list = ['Ideal','Premium','Very Good','Good','Fair']\n",
    "color_list = ['D','E','F','G','H','I','J']\n",
    "clarity_list = ['IF','VVS1','VVS2','VS1','VS2','SI1','SI2','I1']\n",
    "\n",
    "# 3.4 define pre-processor\n",
    "preprocessor = make_column_transformer(\n",
    "    (StandardScaler(), numerical_features),\n",
    "    # (OneHotEncoder(handle_unknown=\"ignore\"), categorical_features), \n",
    "    (OrdinalEncoder(categories=[cut_list,color_list,clarity_list], dtype=int, handle_unknown='error'), categorical_features),\n",
    "    (\"drop\", drop_features)\n",
    ")\n",
    "preprocessor"
   ]
  },
  {
   "cell_type": "markdown",
   "id": "1d4fec16-ba35-4f34-8a44-fdfb197a1cc8",
   "metadata": {},
   "source": [
    "# 4. Modeling"
   ]
  },
  {
   "cell_type": "code",
   "execution_count": 79,
   "id": "bd203486-7d17-436f-8e58-888e13794503",
   "metadata": {},
   "outputs": [],
   "source": [
    "# 4.0 Initial model result\n",
    "cross_val_results = {}"
   ]
  },
  {
   "cell_type": "code",
   "execution_count": 86,
   "id": "00bdace9-268a-407b-a07e-5d5646736e74",
   "metadata": {},
   "outputs": [
    {
     "data": {
      "text/html": [
       "<div>\n",
       "<style scoped>\n",
       "    .dataframe tbody tr th:only-of-type {\n",
       "        vertical-align: middle;\n",
       "    }\n",
       "\n",
       "    .dataframe tbody tr th {\n",
       "        vertical-align: top;\n",
       "    }\n",
       "\n",
       "    .dataframe thead th {\n",
       "        text-align: right;\n",
       "    }\n",
       "</style>\n",
       "<table border=\"1\" class=\"dataframe\">\n",
       "  <thead>\n",
       "    <tr style=\"text-align: right;\">\n",
       "      <th></th>\n",
       "      <th>fit_time</th>\n",
       "      <th>score_time</th>\n",
       "      <th>test_score</th>\n",
       "      <th>train_score</th>\n",
       "    </tr>\n",
       "  </thead>\n",
       "  <tbody>\n",
       "    <tr>\n",
       "      <th>0</th>\n",
       "      <td>0.075918</td>\n",
       "      <td>0.011785</td>\n",
       "      <td>-4029.521055</td>\n",
       "      <td>-4037.283922</td>\n",
       "    </tr>\n",
       "    <tr>\n",
       "      <th>1</th>\n",
       "      <td>0.049876</td>\n",
       "      <td>0.010402</td>\n",
       "      <td>-4036.905726</td>\n",
       "      <td>-4035.437562</td>\n",
       "    </tr>\n",
       "    <tr>\n",
       "      <th>2</th>\n",
       "      <td>0.047413</td>\n",
       "      <td>0.010212</td>\n",
       "      <td>-4039.445006</td>\n",
       "      <td>-4034.802011</td>\n",
       "    </tr>\n",
       "    <tr>\n",
       "      <th>3</th>\n",
       "      <td>0.046965</td>\n",
       "      <td>0.010210</td>\n",
       "      <td>-4047.335599</td>\n",
       "      <td>-4032.827527</td>\n",
       "    </tr>\n",
       "    <tr>\n",
       "      <th>4</th>\n",
       "      <td>0.046952</td>\n",
       "      <td>0.010373</td>\n",
       "      <td>-4025.465914</td>\n",
       "      <td>-4038.295010</td>\n",
       "    </tr>\n",
       "  </tbody>\n",
       "</table>\n",
       "</div>"
      ],
      "text/plain": [
       "   fit_time  score_time   test_score  train_score\n",
       "0  0.075918    0.011785 -4029.521055 -4037.283922\n",
       "1  0.049876    0.010402 -4036.905726 -4035.437562\n",
       "2  0.047413    0.010212 -4039.445006 -4034.802011\n",
       "3  0.046965    0.010210 -4047.335599 -4032.827527\n",
       "4  0.046952    0.010373 -4025.465914 -4038.295010"
      ]
     },
     "execution_count": 86,
     "metadata": {},
     "output_type": "execute_result"
    }
   ],
   "source": [
    "# 4.1.1 Baseline model with DummyRegressor\n",
    "dc = make_pipeline(preprocessor, DummyRegressor())\n",
    "\n",
    "# Cross-validation\n",
    "cv_df = pd.DataFrame(\n",
    "    cross_validate(\n",
    "        dc, X_train, y_train, \n",
    "        cv = 5,\n",
    "        return_train_score = True, \n",
    "        scoring = 'neg_root_mean_squared_error'\n",
    "    ))\n",
    "cv_df"
   ]
  },
  {
   "cell_type": "code",
   "execution_count": 87,
   "id": "676def23-d2b1-4fef-b8a9-decf392b8045",
   "metadata": {},
   "outputs": [
    {
     "data": {
      "text/html": [
       "<div>\n",
       "<style scoped>\n",
       "    .dataframe tbody tr th:only-of-type {\n",
       "        vertical-align: middle;\n",
       "    }\n",
       "\n",
       "    .dataframe tbody tr th {\n",
       "        vertical-align: top;\n",
       "    }\n",
       "\n",
       "    .dataframe thead th {\n",
       "        text-align: right;\n",
       "    }\n",
       "</style>\n",
       "<table border=\"1\" class=\"dataframe\">\n",
       "  <thead>\n",
       "    <tr style=\"text-align: right;\">\n",
       "      <th></th>\n",
       "      <th>mean</th>\n",
       "      <th>std</th>\n",
       "    </tr>\n",
       "  </thead>\n",
       "  <tbody>\n",
       "    <tr>\n",
       "      <th>fit_time</th>\n",
       "      <td>0.053</td>\n",
       "      <td>0.013</td>\n",
       "    </tr>\n",
       "    <tr>\n",
       "      <th>score_time</th>\n",
       "      <td>0.011</td>\n",
       "      <td>0.001</td>\n",
       "    </tr>\n",
       "    <tr>\n",
       "      <th>test_score</th>\n",
       "      <td>-4035.735</td>\n",
       "      <td>8.570</td>\n",
       "    </tr>\n",
       "    <tr>\n",
       "      <th>train_score</th>\n",
       "      <td>-4035.729</td>\n",
       "      <td>2.143</td>\n",
       "    </tr>\n",
       "  </tbody>\n",
       "</table>\n",
       "</div>"
      ],
      "text/plain": [
       "                 mean    std\n",
       "fit_time        0.053  0.013\n",
       "score_time      0.011  0.001\n",
       "test_score  -4035.735  8.570\n",
       "train_score -4035.729  2.143"
      ]
     },
     "execution_count": 87,
     "metadata": {},
     "output_type": "execute_result"
    }
   ],
   "source": [
    "# 4.1.2 Store CV score\n",
    "cross_val_results['dummy'] = cv_df.agg(['mean', 'std']).round(3).T\n",
    "cross_val_results['dummy']"
   ]
  },
  {
   "cell_type": "code",
   "execution_count": 88,
   "id": "91012a85-fef2-4bbc-af19-8feeee962e79",
   "metadata": {},
   "outputs": [
    {
     "data": {
      "text/html": [
       "<div>\n",
       "<style scoped>\n",
       "    .dataframe tbody tr th:only-of-type {\n",
       "        vertical-align: middle;\n",
       "    }\n",
       "\n",
       "    .dataframe tbody tr th {\n",
       "        vertical-align: top;\n",
       "    }\n",
       "\n",
       "    .dataframe thead th {\n",
       "        text-align: right;\n",
       "    }\n",
       "</style>\n",
       "<table border=\"1\" class=\"dataframe\">\n",
       "  <thead>\n",
       "    <tr style=\"text-align: right;\">\n",
       "      <th></th>\n",
       "      <th>fit_time</th>\n",
       "      <th>score_time</th>\n",
       "      <th>test_score</th>\n",
       "      <th>train_score</th>\n",
       "    </tr>\n",
       "  </thead>\n",
       "  <tbody>\n",
       "    <tr>\n",
       "      <th>0</th>\n",
       "      <td>0.071824</td>\n",
       "      <td>0.010529</td>\n",
       "      <td>-1023.436276</td>\n",
       "      <td>-1018.663085</td>\n",
       "    </tr>\n",
       "    <tr>\n",
       "      <th>1</th>\n",
       "      <td>0.072206</td>\n",
       "      <td>0.010897</td>\n",
       "      <td>-1020.480736</td>\n",
       "      <td>-1016.244742</td>\n",
       "    </tr>\n",
       "    <tr>\n",
       "      <th>2</th>\n",
       "      <td>0.075418</td>\n",
       "      <td>0.015064</td>\n",
       "      <td>-1028.900725</td>\n",
       "      <td>-1014.102829</td>\n",
       "    </tr>\n",
       "    <tr>\n",
       "      <th>3</th>\n",
       "      <td>0.065847</td>\n",
       "      <td>0.010438</td>\n",
       "      <td>-1012.906579</td>\n",
       "      <td>-1018.112278</td>\n",
       "    </tr>\n",
       "    <tr>\n",
       "      <th>4</th>\n",
       "      <td>0.073429</td>\n",
       "      <td>0.012254</td>\n",
       "      <td>-1014.392894</td>\n",
       "      <td>-1017.743759</td>\n",
       "    </tr>\n",
       "  </tbody>\n",
       "</table>\n",
       "</div>"
      ],
      "text/plain": [
       "   fit_time  score_time   test_score  train_score\n",
       "0  0.071824    0.010529 -1023.436276 -1018.663085\n",
       "1  0.072206    0.010897 -1020.480736 -1016.244742\n",
       "2  0.075418    0.015064 -1028.900725 -1014.102829\n",
       "3  0.065847    0.010438 -1012.906579 -1018.112278\n",
       "4  0.073429    0.012254 -1014.392894 -1017.743759"
      ]
     },
     "execution_count": 88,
     "metadata": {},
     "output_type": "execute_result"
    }
   ],
   "source": [
    "#4.2.1 Linear regression model\n",
    "linreg = make_pipeline(preprocessor, LinearRegression())\n",
    "\n",
    "# Cross-validation\n",
    "cv_df = pd.DataFrame(\n",
    "    cross_validate(\n",
    "        linreg, X_train, y_train, \n",
    "        cv = 5,\n",
    "        n_jobs = -1,\n",
    "        return_train_score = True, \n",
    "        scoring = 'neg_root_mean_squared_error'\n",
    "    ))\n",
    "cv_df"
   ]
  },
  {
   "cell_type": "code",
   "execution_count": 89,
   "id": "12a030ad-4b0a-45a2-810f-01ea29a8f336",
   "metadata": {},
   "outputs": [
    {
     "data": {
      "text/html": [
       "<div>\n",
       "<style scoped>\n",
       "    .dataframe tbody tr th:only-of-type {\n",
       "        vertical-align: middle;\n",
       "    }\n",
       "\n",
       "    .dataframe tbody tr th {\n",
       "        vertical-align: top;\n",
       "    }\n",
       "\n",
       "    .dataframe thead th {\n",
       "        text-align: right;\n",
       "    }\n",
       "</style>\n",
       "<table border=\"1\" class=\"dataframe\">\n",
       "  <thead>\n",
       "    <tr style=\"text-align: right;\">\n",
       "      <th></th>\n",
       "      <th>mean</th>\n",
       "      <th>std</th>\n",
       "    </tr>\n",
       "  </thead>\n",
       "  <tbody>\n",
       "    <tr>\n",
       "      <th>fit_time</th>\n",
       "      <td>0.072</td>\n",
       "      <td>0.004</td>\n",
       "    </tr>\n",
       "    <tr>\n",
       "      <th>score_time</th>\n",
       "      <td>0.012</td>\n",
       "      <td>0.002</td>\n",
       "    </tr>\n",
       "    <tr>\n",
       "      <th>test_score</th>\n",
       "      <td>-1020.023</td>\n",
       "      <td>6.577</td>\n",
       "    </tr>\n",
       "    <tr>\n",
       "      <th>train_score</th>\n",
       "      <td>-1016.973</td>\n",
       "      <td>1.838</td>\n",
       "    </tr>\n",
       "  </tbody>\n",
       "</table>\n",
       "</div>"
      ],
      "text/plain": [
       "                 mean    std\n",
       "fit_time        0.072  0.004\n",
       "score_time      0.012  0.002\n",
       "test_score  -1020.023  6.577\n",
       "train_score -1016.973  1.838"
      ]
     },
     "execution_count": 89,
     "metadata": {},
     "output_type": "execute_result"
    }
   ],
   "source": [
    "#4.2.2 Store CV score\n",
    "cross_val_results['linreg'] = cv_df.agg(['mean', 'std']).round(3).T\n",
    "cross_val_results['linreg']"
   ]
  },
  {
   "cell_type": "code",
   "execution_count": 92,
   "id": "d468fb4b-7d15-4722-98e3-6fbb972cb280",
   "metadata": {},
   "outputs": [
    {
     "data": {
      "text/html": [
       "<div>\n",
       "<style scoped>\n",
       "    .dataframe tbody tr th:only-of-type {\n",
       "        vertical-align: middle;\n",
       "    }\n",
       "\n",
       "    .dataframe tbody tr th {\n",
       "        vertical-align: top;\n",
       "    }\n",
       "\n",
       "    .dataframe thead th {\n",
       "        text-align: right;\n",
       "    }\n",
       "</style>\n",
       "<table border=\"1\" class=\"dataframe\">\n",
       "  <thead>\n",
       "    <tr style=\"text-align: right;\">\n",
       "      <th></th>\n",
       "      <th>fit_time</th>\n",
       "      <th>score_time</th>\n",
       "      <th>test_score</th>\n",
       "      <th>train_score</th>\n",
       "    </tr>\n",
       "  </thead>\n",
       "  <tbody>\n",
       "    <tr>\n",
       "      <th>0</th>\n",
       "      <td>0.099434</td>\n",
       "      <td>0.006158</td>\n",
       "      <td>-1029.911174</td>\n",
       "      <td>-1019.461845</td>\n",
       "    </tr>\n",
       "    <tr>\n",
       "      <th>1</th>\n",
       "      <td>0.089571</td>\n",
       "      <td>0.006850</td>\n",
       "      <td>-1026.897822</td>\n",
       "      <td>-1015.971241</td>\n",
       "    </tr>\n",
       "    <tr>\n",
       "      <th>2</th>\n",
       "      <td>0.093069</td>\n",
       "      <td>0.006197</td>\n",
       "      <td>-1020.057002</td>\n",
       "      <td>-1016.745977</td>\n",
       "    </tr>\n",
       "    <tr>\n",
       "      <th>3</th>\n",
       "      <td>0.095775</td>\n",
       "      <td>0.008268</td>\n",
       "      <td>-1020.824616</td>\n",
       "      <td>-1016.657571</td>\n",
       "    </tr>\n",
       "    <tr>\n",
       "      <th>4</th>\n",
       "      <td>0.092522</td>\n",
       "      <td>0.007273</td>\n",
       "      <td>-1026.260484</td>\n",
       "      <td>-1016.043850</td>\n",
       "    </tr>\n",
       "    <tr>\n",
       "      <th>5</th>\n",
       "      <td>0.101765</td>\n",
       "      <td>0.006266</td>\n",
       "      <td>-1031.520151</td>\n",
       "      <td>-1015.454862</td>\n",
       "    </tr>\n",
       "    <tr>\n",
       "      <th>6</th>\n",
       "      <td>0.096086</td>\n",
       "      <td>0.006470</td>\n",
       "      <td>-1009.816148</td>\n",
       "      <td>-1017.872193</td>\n",
       "    </tr>\n",
       "    <tr>\n",
       "      <th>7</th>\n",
       "      <td>0.096850</td>\n",
       "      <td>0.007502</td>\n",
       "      <td>-1016.069214</td>\n",
       "      <td>-1017.196045</td>\n",
       "    </tr>\n",
       "    <tr>\n",
       "      <th>8</th>\n",
       "      <td>0.090857</td>\n",
       "      <td>0.006371</td>\n",
       "      <td>-1031.045682</td>\n",
       "      <td>-1015.512102</td>\n",
       "    </tr>\n",
       "    <tr>\n",
       "      <th>9</th>\n",
       "      <td>0.098308</td>\n",
       "      <td>0.006620</td>\n",
       "      <td>-997.609079</td>\n",
       "      <td>-1019.209528</td>\n",
       "    </tr>\n",
       "  </tbody>\n",
       "</table>\n",
       "</div>"
      ],
      "text/plain": [
       "   fit_time  score_time   test_score  train_score\n",
       "0  0.099434    0.006158 -1029.911174 -1019.461845\n",
       "1  0.089571    0.006850 -1026.897822 -1015.971241\n",
       "2  0.093069    0.006197 -1020.057002 -1016.745977\n",
       "3  0.095775    0.008268 -1020.824616 -1016.657571\n",
       "4  0.092522    0.007273 -1026.260484 -1016.043850\n",
       "5  0.101765    0.006266 -1031.520151 -1015.454862\n",
       "6  0.096086    0.006470 -1009.816148 -1017.872193\n",
       "7  0.096850    0.007502 -1016.069214 -1017.196045\n",
       "8  0.090857    0.006371 -1031.045682 -1015.512102\n",
       "9  0.098308    0.006620  -997.609079 -1019.209528"
      ]
     },
     "execution_count": 92,
     "metadata": {},
     "output_type": "execute_result"
    }
   ],
   "source": [
    "#4.3.1 RidgeCV\n",
    "ridge = make_pipeline(preprocessor, RidgeCV())\n",
    "\n",
    "# Cross-validation\n",
    "cv_df = pd.DataFrame(\n",
    "    cross_validate(\n",
    "        ridge, X_train, y_train, \n",
    "        cv = 10,\n",
    "        n_jobs = -1,\n",
    "        return_train_score = True, \n",
    "        scoring = 'neg_root_mean_squared_error'\n",
    "    ))\n",
    "cv_df"
   ]
  },
  {
   "cell_type": "code",
   "execution_count": 93,
   "id": "686e225f-af57-48c0-b10e-fece0d99c0f5",
   "metadata": {},
   "outputs": [
    {
     "data": {
      "text/html": [
       "<div>\n",
       "<style scoped>\n",
       "    .dataframe tbody tr th:only-of-type {\n",
       "        vertical-align: middle;\n",
       "    }\n",
       "\n",
       "    .dataframe tbody tr th {\n",
       "        vertical-align: top;\n",
       "    }\n",
       "\n",
       "    .dataframe thead th {\n",
       "        text-align: right;\n",
       "    }\n",
       "</style>\n",
       "<table border=\"1\" class=\"dataframe\">\n",
       "  <thead>\n",
       "    <tr style=\"text-align: right;\">\n",
       "      <th></th>\n",
       "      <th>mean</th>\n",
       "      <th>std</th>\n",
       "    </tr>\n",
       "  </thead>\n",
       "  <tbody>\n",
       "    <tr>\n",
       "      <th>fit_time</th>\n",
       "      <td>0.095</td>\n",
       "      <td>0.004</td>\n",
       "    </tr>\n",
       "    <tr>\n",
       "      <th>score_time</th>\n",
       "      <td>0.007</td>\n",
       "      <td>0.001</td>\n",
       "    </tr>\n",
       "    <tr>\n",
       "      <th>test_score</th>\n",
       "      <td>-1021.001</td>\n",
       "      <td>10.806</td>\n",
       "    </tr>\n",
       "    <tr>\n",
       "      <th>train_score</th>\n",
       "      <td>-1017.013</td>\n",
       "      <td>1.434</td>\n",
       "    </tr>\n",
       "  </tbody>\n",
       "</table>\n",
       "</div>"
      ],
      "text/plain": [
       "                 mean     std\n",
       "fit_time        0.095   0.004\n",
       "score_time      0.007   0.001\n",
       "test_score  -1021.001  10.806\n",
       "train_score -1017.013   1.434"
      ]
     },
     "execution_count": 93,
     "metadata": {},
     "output_type": "execute_result"
    }
   ],
   "source": [
    "#4.3.2 Store CV score\n",
    "cross_val_results['ridgecv'] = cv_df.agg(['mean', 'std']).round(3).T\n",
    "cross_val_results['ridgecv']"
   ]
  },
  {
   "cell_type": "code",
   "execution_count": 106,
   "id": "a70ea7d3-e8a2-4e69-85ed-5e8c19c5146b",
   "metadata": {},
   "outputs": [
    {
     "data": {
      "text/plain": [
       "array([1.e-10, 1.e-09, 1.e-08, 1.e-07, 1.e-06, 1.e-05, 1.e-04, 1.e-03,\n",
       "       1.e-02, 1.e-01, 1.e+00, 1.e+01, 1.e+02, 1.e+03, 1.e+04, 1.e+05,\n",
       "       1.e+06, 1.e+07, 1.e+08, 1.e+09, 1.e+10, 1.e+11, 1.e+12, 1.e+13,\n",
       "       1.e+14, 1.e+15, 1.e+16, 1.e+17, 1.e+18, 1.e+19, 1.e+20, 1.e+21,\n",
       "       1.e+22, 1.e+23, 1.e+24, 1.e+25, 1.e+26, 1.e+27, 1.e+28, 1.e+29,\n",
       "       1.e+30, 1.e+31, 1.e+32, 1.e+33, 1.e+34, 1.e+35, 1.e+36, 1.e+37,\n",
       "       1.e+38, 1.e+39, 1.e+40, 1.e+41, 1.e+42, 1.e+43, 1.e+44, 1.e+45,\n",
       "       1.e+46, 1.e+47, 1.e+48, 1.e+49, 1.e+50, 1.e+51, 1.e+52, 1.e+53,\n",
       "       1.e+54, 1.e+55, 1.e+56, 1.e+57, 1.e+58, 1.e+59, 1.e+60, 1.e+61,\n",
       "       1.e+62, 1.e+63, 1.e+64, 1.e+65, 1.e+66, 1.e+67, 1.e+68, 1.e+69,\n",
       "       1.e+70, 1.e+71, 1.e+72, 1.e+73, 1.e+74, 1.e+75, 1.e+76, 1.e+77,\n",
       "       1.e+78, 1.e+79, 1.e+80, 1.e+81, 1.e+82, 1.e+83, 1.e+84, 1.e+85,\n",
       "       1.e+86, 1.e+87, 1.e+88, 1.e+89, 1.e+90, 1.e+91, 1.e+92, 1.e+93,\n",
       "       1.e+94, 1.e+95, 1.e+96, 1.e+97, 1.e+98, 1.e+99])"
      ]
     },
     "execution_count": 106,
     "metadata": {},
     "output_type": "execute_result"
    }
   ],
   "source": [
    "10.0 ** np.arange(-10, 100, 1)"
   ]
  },
  {
   "cell_type": "code",
   "execution_count": 107,
   "id": "72ac6572-9aec-43cd-987f-61d6a2dcba0b",
   "metadata": {},
   "outputs": [
    {
     "data": {
      "text/html": [
       "<style>#sk-container-id-7 {color: black;background-color: white;}#sk-container-id-7 pre{padding: 0;}#sk-container-id-7 div.sk-toggleable {background-color: white;}#sk-container-id-7 label.sk-toggleable__label {cursor: pointer;display: block;width: 100%;margin-bottom: 0;padding: 0.3em;box-sizing: border-box;text-align: center;}#sk-container-id-7 label.sk-toggleable__label-arrow:before {content: \"▸\";float: left;margin-right: 0.25em;color: #696969;}#sk-container-id-7 label.sk-toggleable__label-arrow:hover:before {color: black;}#sk-container-id-7 div.sk-estimator:hover label.sk-toggleable__label-arrow:before {color: black;}#sk-container-id-7 div.sk-toggleable__content {max-height: 0;max-width: 0;overflow: hidden;text-align: left;background-color: #f0f8ff;}#sk-container-id-7 div.sk-toggleable__content pre {margin: 0.2em;color: black;border-radius: 0.25em;background-color: #f0f8ff;}#sk-container-id-7 input.sk-toggleable__control:checked~div.sk-toggleable__content {max-height: 200px;max-width: 100%;overflow: auto;}#sk-container-id-7 input.sk-toggleable__control:checked~label.sk-toggleable__label-arrow:before {content: \"▾\";}#sk-container-id-7 div.sk-estimator input.sk-toggleable__control:checked~label.sk-toggleable__label {background-color: #d4ebff;}#sk-container-id-7 div.sk-label input.sk-toggleable__control:checked~label.sk-toggleable__label {background-color: #d4ebff;}#sk-container-id-7 input.sk-hidden--visually {border: 0;clip: rect(1px 1px 1px 1px);clip: rect(1px, 1px, 1px, 1px);height: 1px;margin: -1px;overflow: hidden;padding: 0;position: absolute;width: 1px;}#sk-container-id-7 div.sk-estimator {font-family: monospace;background-color: #f0f8ff;border: 1px dotted black;border-radius: 0.25em;box-sizing: border-box;margin-bottom: 0.5em;}#sk-container-id-7 div.sk-estimator:hover {background-color: #d4ebff;}#sk-container-id-7 div.sk-parallel-item::after {content: \"\";width: 100%;border-bottom: 1px solid gray;flex-grow: 1;}#sk-container-id-7 div.sk-label:hover label.sk-toggleable__label {background-color: #d4ebff;}#sk-container-id-7 div.sk-serial::before {content: \"\";position: absolute;border-left: 1px solid gray;box-sizing: border-box;top: 0;bottom: 0;left: 50%;z-index: 0;}#sk-container-id-7 div.sk-serial {display: flex;flex-direction: column;align-items: center;background-color: white;padding-right: 0.2em;padding-left: 0.2em;position: relative;}#sk-container-id-7 div.sk-item {position: relative;z-index: 1;}#sk-container-id-7 div.sk-parallel {display: flex;align-items: stretch;justify-content: center;background-color: white;position: relative;}#sk-container-id-7 div.sk-item::before, #sk-container-id-7 div.sk-parallel-item::before {content: \"\";position: absolute;border-left: 1px solid gray;box-sizing: border-box;top: 0;bottom: 0;left: 50%;z-index: -1;}#sk-container-id-7 div.sk-parallel-item {display: flex;flex-direction: column;z-index: 1;position: relative;background-color: white;}#sk-container-id-7 div.sk-parallel-item:first-child::after {align-self: flex-end;width: 50%;}#sk-container-id-7 div.sk-parallel-item:last-child::after {align-self: flex-start;width: 50%;}#sk-container-id-7 div.sk-parallel-item:only-child::after {width: 0;}#sk-container-id-7 div.sk-dashed-wrapped {border: 1px dashed gray;margin: 0 0.4em 0.5em 0.4em;box-sizing: border-box;padding-bottom: 0.4em;background-color: white;}#sk-container-id-7 div.sk-label label {font-family: monospace;font-weight: bold;display: inline-block;line-height: 1.2em;}#sk-container-id-7 div.sk-label-container {text-align: center;}#sk-container-id-7 div.sk-container {/* jupyter's `normalize.less` sets `[hidden] { display: none; }` but bootstrap.min.css set `[hidden] { display: none !important; }` so we also need the `!important` here to be able to override the default hidden behavior on the sphinx rendered scikit-learn.org. See: https://github.com/scikit-learn/scikit-learn/issues/21755 */display: inline-block !important;position: relative;}#sk-container-id-7 div.sk-text-repr-fallback {display: none;}</style><div id=\"sk-container-id-7\" class=\"sk-top-container\"><div class=\"sk-text-repr-fallback\"><pre>RandomizedSearchCV(cv=10,\n",
       "                   estimator=Pipeline(steps=[(&#x27;columntransformer&#x27;,\n",
       "                                              ColumnTransformer(transformers=[(&#x27;standardscaler&#x27;,\n",
       "                                                                               StandardScaler(),\n",
       "                                                                               [&#x27;carat&#x27;,\n",
       "                                                                                &#x27;depth&#x27;,\n",
       "                                                                                &#x27;table&#x27;,\n",
       "                                                                                &#x27;x&#x27;,\n",
       "                                                                                &#x27;y&#x27;,\n",
       "                                                                                &#x27;z&#x27;]),\n",
       "                                                                              (&#x27;ordinalencoder&#x27;,\n",
       "                                                                               OrdinalEncoder(categories=[[&#x27;Ideal&#x27;,\n",
       "                                                                                                           &#x27;Premium&#x27;,\n",
       "                                                                                                           &#x27;Very &#x27;\n",
       "                                                                                                           &#x27;Good&#x27;,\n",
       "                                                                                                           &#x27;Good&#x27;,\n",
       "                                                                                                           &#x27;Fair&#x27;],\n",
       "                                                                                                          [&#x27;D&#x27;,\n",
       "                                                                                                           &#x27;E&#x27;,\n",
       "                                                                                                           &#x27;F&#x27;,\n",
       "                                                                                                           &#x27;G&#x27;,\n",
       "                                                                                                           &#x27;H&#x27;,\n",
       "                                                                                                           &#x27;I&#x27;,\n",
       "                                                                                                           &#x27;J&#x27;],\n",
       "                                                                                                          [&#x27;IF&#x27;,\n",
       "                                                                                                           &#x27;VVS1&#x27;,\n",
       "                                                                                                           &#x27;VVS2&#x27;,\n",
       "                                                                                                           &#x27;VS1&#x27;,\n",
       "                                                                                                           &#x27;VS2&#x27;,\n",
       "                                                                                                           &#x27;SI1&#x27;,\n",
       "                                                                                                           &#x27;SI2&#x27;,\n",
       "                                                                                                           &#x27;I1&#x27;]]...\n",
       "                                                                                &#x27;color&#x27;,\n",
       "                                                                                &#x27;clarity&#x27;]),\n",
       "                                                                              (&#x27;drop&#x27;,\n",
       "                                                                               &#x27;drop&#x27;,\n",
       "                                                                               [&#x27;id&#x27;,\n",
       "                                                                                &#x27;log_price&#x27;])])),\n",
       "                                             (&#x27;ridge&#x27;, Ridge())]),\n",
       "                   n_jobs=-1,\n",
       "                   param_distributions={&#x27;ridge__alpha&#x27;: array([1.e-10, 1.e-09, 1.e-08, 1.e-07, 1.e-06, 1.e-05, 1.e-04, 1.e-03,\n",
       "       1.e-02, 1.e-01, 1.e+00, 1.e+01, 1.e+02, 1.e+03, 1.e+04, 1.e+05,\n",
       "       1.e+06, 1.e+07, 1.e+08, 1.e+09])},\n",
       "                   random_state=123, return_train_score=True,\n",
       "                   scoring=&#x27;neg_root_mean_squared_error&#x27;)</pre><b>In a Jupyter environment, please rerun this cell to show the HTML representation or trust the notebook. <br />On GitHub, the HTML representation is unable to render, please try loading this page with nbviewer.org.</b></div><div class=\"sk-container\" hidden><div class=\"sk-item sk-dashed-wrapped\"><div class=\"sk-label-container\"><div class=\"sk-label sk-toggleable\"><input class=\"sk-toggleable__control sk-hidden--visually\" id=\"sk-estimator-id-52\" type=\"checkbox\" ><label for=\"sk-estimator-id-52\" class=\"sk-toggleable__label sk-toggleable__label-arrow\">RandomizedSearchCV</label><div class=\"sk-toggleable__content\"><pre>RandomizedSearchCV(cv=10,\n",
       "                   estimator=Pipeline(steps=[(&#x27;columntransformer&#x27;,\n",
       "                                              ColumnTransformer(transformers=[(&#x27;standardscaler&#x27;,\n",
       "                                                                               StandardScaler(),\n",
       "                                                                               [&#x27;carat&#x27;,\n",
       "                                                                                &#x27;depth&#x27;,\n",
       "                                                                                &#x27;table&#x27;,\n",
       "                                                                                &#x27;x&#x27;,\n",
       "                                                                                &#x27;y&#x27;,\n",
       "                                                                                &#x27;z&#x27;]),\n",
       "                                                                              (&#x27;ordinalencoder&#x27;,\n",
       "                                                                               OrdinalEncoder(categories=[[&#x27;Ideal&#x27;,\n",
       "                                                                                                           &#x27;Premium&#x27;,\n",
       "                                                                                                           &#x27;Very &#x27;\n",
       "                                                                                                           &#x27;Good&#x27;,\n",
       "                                                                                                           &#x27;Good&#x27;,\n",
       "                                                                                                           &#x27;Fair&#x27;],\n",
       "                                                                                                          [&#x27;D&#x27;,\n",
       "                                                                                                           &#x27;E&#x27;,\n",
       "                                                                                                           &#x27;F&#x27;,\n",
       "                                                                                                           &#x27;G&#x27;,\n",
       "                                                                                                           &#x27;H&#x27;,\n",
       "                                                                                                           &#x27;I&#x27;,\n",
       "                                                                                                           &#x27;J&#x27;],\n",
       "                                                                                                          [&#x27;IF&#x27;,\n",
       "                                                                                                           &#x27;VVS1&#x27;,\n",
       "                                                                                                           &#x27;VVS2&#x27;,\n",
       "                                                                                                           &#x27;VS1&#x27;,\n",
       "                                                                                                           &#x27;VS2&#x27;,\n",
       "                                                                                                           &#x27;SI1&#x27;,\n",
       "                                                                                                           &#x27;SI2&#x27;,\n",
       "                                                                                                           &#x27;I1&#x27;]]...\n",
       "                                                                                &#x27;color&#x27;,\n",
       "                                                                                &#x27;clarity&#x27;]),\n",
       "                                                                              (&#x27;drop&#x27;,\n",
       "                                                                               &#x27;drop&#x27;,\n",
       "                                                                               [&#x27;id&#x27;,\n",
       "                                                                                &#x27;log_price&#x27;])])),\n",
       "                                             (&#x27;ridge&#x27;, Ridge())]),\n",
       "                   n_jobs=-1,\n",
       "                   param_distributions={&#x27;ridge__alpha&#x27;: array([1.e-10, 1.e-09, 1.e-08, 1.e-07, 1.e-06, 1.e-05, 1.e-04, 1.e-03,\n",
       "       1.e-02, 1.e-01, 1.e+00, 1.e+01, 1.e+02, 1.e+03, 1.e+04, 1.e+05,\n",
       "       1.e+06, 1.e+07, 1.e+08, 1.e+09])},\n",
       "                   random_state=123, return_train_score=True,\n",
       "                   scoring=&#x27;neg_root_mean_squared_error&#x27;)</pre></div></div></div><div class=\"sk-parallel\"><div class=\"sk-parallel-item\"><div class=\"sk-item\"><div class=\"sk-label-container\"><div class=\"sk-label sk-toggleable\"><input class=\"sk-toggleable__control sk-hidden--visually\" id=\"sk-estimator-id-53\" type=\"checkbox\" ><label for=\"sk-estimator-id-53\" class=\"sk-toggleable__label sk-toggleable__label-arrow\">estimator: Pipeline</label><div class=\"sk-toggleable__content\"><pre>Pipeline(steps=[(&#x27;columntransformer&#x27;,\n",
       "                 ColumnTransformer(transformers=[(&#x27;standardscaler&#x27;,\n",
       "                                                  StandardScaler(),\n",
       "                                                  [&#x27;carat&#x27;, &#x27;depth&#x27;, &#x27;table&#x27;,\n",
       "                                                   &#x27;x&#x27;, &#x27;y&#x27;, &#x27;z&#x27;]),\n",
       "                                                 (&#x27;ordinalencoder&#x27;,\n",
       "                                                  OrdinalEncoder(categories=[[&#x27;Ideal&#x27;,\n",
       "                                                                              &#x27;Premium&#x27;,\n",
       "                                                                              &#x27;Very &#x27;\n",
       "                                                                              &#x27;Good&#x27;,\n",
       "                                                                              &#x27;Good&#x27;,\n",
       "                                                                              &#x27;Fair&#x27;],\n",
       "                                                                             [&#x27;D&#x27;,\n",
       "                                                                              &#x27;E&#x27;,\n",
       "                                                                              &#x27;F&#x27;,\n",
       "                                                                              &#x27;G&#x27;,\n",
       "                                                                              &#x27;H&#x27;,\n",
       "                                                                              &#x27;I&#x27;,\n",
       "                                                                              &#x27;J&#x27;],\n",
       "                                                                             [&#x27;IF&#x27;,\n",
       "                                                                              &#x27;VVS1&#x27;,\n",
       "                                                                              &#x27;VVS2&#x27;,\n",
       "                                                                              &#x27;VS1&#x27;,\n",
       "                                                                              &#x27;VS2&#x27;,\n",
       "                                                                              &#x27;SI1&#x27;,\n",
       "                                                                              &#x27;SI2&#x27;,\n",
       "                                                                              &#x27;I1&#x27;]],\n",
       "                                                                 dtype=&lt;class &#x27;int&#x27;&gt;),\n",
       "                                                  [&#x27;cut&#x27;, &#x27;color&#x27;, &#x27;clarity&#x27;]),\n",
       "                                                 (&#x27;drop&#x27;, &#x27;drop&#x27;,\n",
       "                                                  [&#x27;id&#x27;, &#x27;log_price&#x27;])])),\n",
       "                (&#x27;ridge&#x27;, Ridge())])</pre></div></div></div><div class=\"sk-serial\"><div class=\"sk-item\"><div class=\"sk-serial\"><div class=\"sk-item sk-dashed-wrapped\"><div class=\"sk-label-container\"><div class=\"sk-label sk-toggleable\"><input class=\"sk-toggleable__control sk-hidden--visually\" id=\"sk-estimator-id-54\" type=\"checkbox\" ><label for=\"sk-estimator-id-54\" class=\"sk-toggleable__label sk-toggleable__label-arrow\">columntransformer: ColumnTransformer</label><div class=\"sk-toggleable__content\"><pre>ColumnTransformer(transformers=[(&#x27;standardscaler&#x27;, StandardScaler(),\n",
       "                                 [&#x27;carat&#x27;, &#x27;depth&#x27;, &#x27;table&#x27;, &#x27;x&#x27;, &#x27;y&#x27;, &#x27;z&#x27;]),\n",
       "                                (&#x27;ordinalencoder&#x27;,\n",
       "                                 OrdinalEncoder(categories=[[&#x27;Ideal&#x27;, &#x27;Premium&#x27;,\n",
       "                                                             &#x27;Very Good&#x27;,\n",
       "                                                             &#x27;Good&#x27;, &#x27;Fair&#x27;],\n",
       "                                                            [&#x27;D&#x27;, &#x27;E&#x27;, &#x27;F&#x27;, &#x27;G&#x27;,\n",
       "                                                             &#x27;H&#x27;, &#x27;I&#x27;, &#x27;J&#x27;],\n",
       "                                                            [&#x27;IF&#x27;, &#x27;VVS1&#x27;,\n",
       "                                                             &#x27;VVS2&#x27;, &#x27;VS1&#x27;,\n",
       "                                                             &#x27;VS2&#x27;, &#x27;SI1&#x27;,\n",
       "                                                             &#x27;SI2&#x27;, &#x27;I1&#x27;]],\n",
       "                                                dtype=&lt;class &#x27;int&#x27;&gt;),\n",
       "                                 [&#x27;cut&#x27;, &#x27;color&#x27;, &#x27;clarity&#x27;]),\n",
       "                                (&#x27;drop&#x27;, &#x27;drop&#x27;, [&#x27;id&#x27;, &#x27;log_price&#x27;])])</pre></div></div></div><div class=\"sk-parallel\"><div class=\"sk-parallel-item\"><div class=\"sk-item\"><div class=\"sk-label-container\"><div class=\"sk-label sk-toggleable\"><input class=\"sk-toggleable__control sk-hidden--visually\" id=\"sk-estimator-id-55\" type=\"checkbox\" ><label for=\"sk-estimator-id-55\" class=\"sk-toggleable__label sk-toggleable__label-arrow\">standardscaler</label><div class=\"sk-toggleable__content\"><pre>[&#x27;carat&#x27;, &#x27;depth&#x27;, &#x27;table&#x27;, &#x27;x&#x27;, &#x27;y&#x27;, &#x27;z&#x27;]</pre></div></div></div><div class=\"sk-serial\"><div class=\"sk-item\"><div class=\"sk-estimator sk-toggleable\"><input class=\"sk-toggleable__control sk-hidden--visually\" id=\"sk-estimator-id-56\" type=\"checkbox\" ><label for=\"sk-estimator-id-56\" class=\"sk-toggleable__label sk-toggleable__label-arrow\">StandardScaler</label><div class=\"sk-toggleable__content\"><pre>StandardScaler()</pre></div></div></div></div></div></div><div class=\"sk-parallel-item\"><div class=\"sk-item\"><div class=\"sk-label-container\"><div class=\"sk-label sk-toggleable\"><input class=\"sk-toggleable__control sk-hidden--visually\" id=\"sk-estimator-id-57\" type=\"checkbox\" ><label for=\"sk-estimator-id-57\" class=\"sk-toggleable__label sk-toggleable__label-arrow\">ordinalencoder</label><div class=\"sk-toggleable__content\"><pre>[&#x27;cut&#x27;, &#x27;color&#x27;, &#x27;clarity&#x27;]</pre></div></div></div><div class=\"sk-serial\"><div class=\"sk-item\"><div class=\"sk-estimator sk-toggleable\"><input class=\"sk-toggleable__control sk-hidden--visually\" id=\"sk-estimator-id-58\" type=\"checkbox\" ><label for=\"sk-estimator-id-58\" class=\"sk-toggleable__label sk-toggleable__label-arrow\">OrdinalEncoder</label><div class=\"sk-toggleable__content\"><pre>OrdinalEncoder(categories=[[&#x27;Ideal&#x27;, &#x27;Premium&#x27;, &#x27;Very Good&#x27;, &#x27;Good&#x27;, &#x27;Fair&#x27;],\n",
       "                           [&#x27;D&#x27;, &#x27;E&#x27;, &#x27;F&#x27;, &#x27;G&#x27;, &#x27;H&#x27;, &#x27;I&#x27;, &#x27;J&#x27;],\n",
       "                           [&#x27;IF&#x27;, &#x27;VVS1&#x27;, &#x27;VVS2&#x27;, &#x27;VS1&#x27;, &#x27;VS2&#x27;, &#x27;SI1&#x27;, &#x27;SI2&#x27;,\n",
       "                            &#x27;I1&#x27;]],\n",
       "               dtype=&lt;class &#x27;int&#x27;&gt;)</pre></div></div></div></div></div></div><div class=\"sk-parallel-item\"><div class=\"sk-item\"><div class=\"sk-label-container\"><div class=\"sk-label sk-toggleable\"><input class=\"sk-toggleable__control sk-hidden--visually\" id=\"sk-estimator-id-59\" type=\"checkbox\" ><label for=\"sk-estimator-id-59\" class=\"sk-toggleable__label sk-toggleable__label-arrow\">drop</label><div class=\"sk-toggleable__content\"><pre>[&#x27;id&#x27;, &#x27;log_price&#x27;]</pre></div></div></div><div class=\"sk-serial\"><div class=\"sk-item\"><div class=\"sk-estimator sk-toggleable\"><input class=\"sk-toggleable__control sk-hidden--visually\" id=\"sk-estimator-id-60\" type=\"checkbox\" ><label for=\"sk-estimator-id-60\" class=\"sk-toggleable__label sk-toggleable__label-arrow\">drop</label><div class=\"sk-toggleable__content\"><pre>drop</pre></div></div></div></div></div></div></div></div><div class=\"sk-item\"><div class=\"sk-estimator sk-toggleable\"><input class=\"sk-toggleable__control sk-hidden--visually\" id=\"sk-estimator-id-61\" type=\"checkbox\" ><label for=\"sk-estimator-id-61\" class=\"sk-toggleable__label sk-toggleable__label-arrow\">Ridge</label><div class=\"sk-toggleable__content\"><pre>Ridge()</pre></div></div></div></div></div></div></div></div></div></div></div></div>"
      ],
      "text/plain": [
       "RandomizedSearchCV(cv=10,\n",
       "                   estimator=Pipeline(steps=[('columntransformer',\n",
       "                                              ColumnTransformer(transformers=[('standardscaler',\n",
       "                                                                               StandardScaler(),\n",
       "                                                                               ['carat',\n",
       "                                                                                'depth',\n",
       "                                                                                'table',\n",
       "                                                                                'x',\n",
       "                                                                                'y',\n",
       "                                                                                'z']),\n",
       "                                                                              ('ordinalencoder',\n",
       "                                                                               OrdinalEncoder(categories=[['Ideal',\n",
       "                                                                                                           'Premium',\n",
       "                                                                                                           'Very '\n",
       "                                                                                                           'Good',\n",
       "                                                                                                           'Good',\n",
       "                                                                                                           'Fair'],\n",
       "                                                                                                          ['D',\n",
       "                                                                                                           'E',\n",
       "                                                                                                           'F',\n",
       "                                                                                                           'G',\n",
       "                                                                                                           'H',\n",
       "                                                                                                           'I',\n",
       "                                                                                                           'J'],\n",
       "                                                                                                          ['IF',\n",
       "                                                                                                           'VVS1',\n",
       "                                                                                                           'VVS2',\n",
       "                                                                                                           'VS1',\n",
       "                                                                                                           'VS2',\n",
       "                                                                                                           'SI1',\n",
       "                                                                                                           'SI2',\n",
       "                                                                                                           'I1']]...\n",
       "                                                                                'color',\n",
       "                                                                                'clarity']),\n",
       "                                                                              ('drop',\n",
       "                                                                               'drop',\n",
       "                                                                               ['id',\n",
       "                                                                                'log_price'])])),\n",
       "                                             ('ridge', Ridge())]),\n",
       "                   n_jobs=-1,\n",
       "                   param_distributions={'ridge__alpha': array([1.e-10, 1.e-09, 1.e-08, 1.e-07, 1.e-06, 1.e-05, 1.e-04, 1.e-03,\n",
       "       1.e-02, 1.e-01, 1.e+00, 1.e+01, 1.e+02, 1.e+03, 1.e+04, 1.e+05,\n",
       "       1.e+06, 1.e+07, 1.e+08, 1.e+09])},\n",
       "                   random_state=123, return_train_score=True,\n",
       "                   scoring='neg_root_mean_squared_error')"
      ]
     },
     "execution_count": 107,
     "metadata": {},
     "output_type": "execute_result"
    }
   ],
   "source": [
    "#4.4.1 Ridge with RandomizedSearchCV\n",
    "ridge = make_pipeline(preprocessor, Ridge())\n",
    "\n",
    "param_grid = {\n",
    "    \"ridge__alpha\": 10.0 ** np.arange(-10, 10, 1)\n",
    "}\n",
    "random_search_ridge = RandomizedSearchCV(\n",
    "    ridge, param_distributions=param_grid, n_jobs=-1, n_iter=10, cv=10, \n",
    "    return_train_score=True, \n",
    "    scoring = 'neg_root_mean_squared_error',\n",
    "    random_state=123\n",
    ")\n",
    "random_search_ridge.fit(X_train, y_train)"
   ]
  },
  {
   "cell_type": "code",
   "execution_count": 108,
   "id": "40e42f56-cc56-4039-a883-dfc8dcc457ad",
   "metadata": {},
   "outputs": [
    {
     "data": {
      "text/html": [
       "<div>\n",
       "<style scoped>\n",
       "    .dataframe tbody tr th:only-of-type {\n",
       "        vertical-align: middle;\n",
       "    }\n",
       "\n",
       "    .dataframe tbody tr th {\n",
       "        vertical-align: top;\n",
       "    }\n",
       "\n",
       "    .dataframe thead th {\n",
       "        text-align: right;\n",
       "    }\n",
       "</style>\n",
       "<table border=\"1\" class=\"dataframe\">\n",
       "  <thead>\n",
       "    <tr style=\"text-align: right;\">\n",
       "      <th></th>\n",
       "      <th>mean</th>\n",
       "      <th>std</th>\n",
       "    </tr>\n",
       "  </thead>\n",
       "  <tbody>\n",
       "    <tr>\n",
       "      <th>fit_time</th>\n",
       "      <td>0.063126</td>\n",
       "      <td>0.002064</td>\n",
       "    </tr>\n",
       "    <tr>\n",
       "      <th>score_time</th>\n",
       "      <td>0.006325</td>\n",
       "      <td>0.000288</td>\n",
       "    </tr>\n",
       "    <tr>\n",
       "      <th>test_score</th>\n",
       "      <td>-1021.028120</td>\n",
       "      <td>10.279040</td>\n",
       "    </tr>\n",
       "    <tr>\n",
       "      <th>train_score</th>\n",
       "      <td>-1017.010250</td>\n",
       "      <td>1.357760</td>\n",
       "    </tr>\n",
       "  </tbody>\n",
       "</table>\n",
       "</div>"
      ],
      "text/plain": [
       "                    mean        std\n",
       "fit_time        0.063126   0.002064\n",
       "score_time      0.006325   0.000288\n",
       "test_score  -1021.028120  10.279040\n",
       "train_score -1017.010250   1.357760"
      ]
     },
     "execution_count": 108,
     "metadata": {},
     "output_type": "execute_result"
    }
   ],
   "source": [
    "#4.4.2 CV result - Ridge with RandomizedSearchCV\n",
    "result_ridge = pd.DataFrame(random_search_ridge.cv_results_)[\n",
    "    [\n",
    "        \"mean_fit_time\",\n",
    "        \"mean_score_time\",\n",
    "        \"mean_test_score\",\n",
    "        \"mean_train_score\",\n",
    "        'std_fit_time',\n",
    "        'std_score_time',\n",
    "        'std_test_score',\n",
    "        'std_train_score',\n",
    "        \"param_ridge__alpha\",\n",
    "        \"rank_test_score\"\n",
    "    ]\n",
    "].set_index(\"rank_test_score\").sort_index().iloc[[0],:]\n",
    "\n",
    "# Store CV score\n",
    "data = {'mean': list(result_ridge.iloc[0,0:4]),\n",
    "        'std': list(result_ridge.iloc[0,4:8])}\n",
    "cross_val_results['ridge'] = pd.DataFrame(data)\n",
    "cross_val_results['ridge'].index=[\"fit_time\", \"score_time\",'test_score','train_score']\n",
    "cross_val_results['ridge']"
   ]
  },
  {
   "cell_type": "code",
   "execution_count": 109,
   "id": "15252320-64a5-4a6b-9cb5-50e6dc0a7fb6",
   "metadata": {},
   "outputs": [
    {
     "data": {
      "text/plain": [
       "{'ridge__alpha': 0.01}"
      ]
     },
     "execution_count": 109,
     "metadata": {},
     "output_type": "execute_result"
    }
   ],
   "source": [
    "#4.4.3 Find best param\n",
    "rp_ridge = random_search_ridge.best_params_\n",
    "rp_ridge"
   ]
  },
  {
   "cell_type": "code",
   "execution_count": null,
   "id": "8abadfc6-0927-47a7-b5a7-d680ff001d38",
   "metadata": {},
   "outputs": [],
   "source": [
    "#4.5 Different nonlinear models\n",
    "pipe_rf = make_pipeline(preprocessor, RandomForestRegressor(n_jobs=-1,random_state=123))\n",
    "pipe_xgb = make_pipeline(preprocessor, xg.XGBRegressor(random_state=123, verbosity=0))\n",
    "pipe_lgbm = make_pipeline(preprocessor, LGBMRegressor(random_state=123))\n",
    "pipe_cat = make_pipeline(preprocessor, CatBoostRegressor(verbose=0, random_state=123))\n",
    "\n",
    "regressors = {\n",
    "    \"random forest\": pipe_rf,\n",
    "    \"XGBoost\": pipe_xgb,\n",
    "    \"LightGBM\": pipe_lgbm,\n",
    "    \"CatBoost\": pipe_cat\n",
    "}\n",
    "\n",
    "for (name, model) in regressors.items():\n",
    "    cross_val_results[name] = pd.DataFrame(cross_validate(\n",
    "        model, X_train, y_train, cv=5,\n",
    "        return_train_score=True, \n",
    "        scoring = 'neg_root_mean_squared_error'\n",
    "    )).agg(['mean', 'std']).round(3).T\n",
    "                                            \n",
    "pd.concat(cross_val_results, axis=1)"
   ]
  },
  {
   "cell_type": "markdown",
   "id": "9d9154d8-430d-447e-aa0a-6b633f2acc89",
   "metadata": {},
   "source": [
    "# 5. Feature Selection"
   ]
  },
  {
   "cell_type": "code",
   "execution_count": null,
   "id": "b5dfa50d-1081-415c-b1b7-ff16e6b1e000",
   "metadata": {},
   "outputs": [],
   "source": [
    "# 1. Setup the pipeline\n",
    "lasso_lgbm = make_pipeline(preprocessor,\n",
    "                            SelectFromModel(LassoCV(max_iter=20000, tol=0.01)),\n",
    "                            LGBMRegressor(random_state=123))\n",
    "\n",
    "# 2. Cross-validation\n",
    "cv_df = pd.DataFrame(\n",
    "cross_validate(\n",
    "    lasso_lgbm, X_train, y_train, \n",
    "    cv = 10,\n",
    "    return_train_score = True, \n",
    "    scoring = 'neg_root_mean_squared_error'\n",
    "))\n",
    "cv_df "
   ]
  },
  {
   "cell_type": "code",
   "execution_count": null,
   "id": "28fdd351-39bc-41ea-9f9f-6d0e433e091f",
   "metadata": {},
   "outputs": [],
   "source": []
  },
  {
   "cell_type": "code",
   "execution_count": null,
   "id": "4707bdc1-9ea3-4acd-b3c4-574dabf408f9",
   "metadata": {},
   "outputs": [],
   "source": []
  }
 ],
 "metadata": {
  "kernelspec": {
   "display_name": "Python [conda env:pp]",
   "language": "python",
   "name": "conda-env-pp-py"
  },
  "language_info": {
   "codemirror_mode": {
    "name": "ipython",
    "version": 3
   },
   "file_extension": ".py",
   "mimetype": "text/x-python",
   "name": "python",
   "nbconvert_exporter": "python",
   "pygments_lexer": "ipython3",
   "version": "3.10.6"
  }
 },
 "nbformat": 4,
 "nbformat_minor": 5
}
