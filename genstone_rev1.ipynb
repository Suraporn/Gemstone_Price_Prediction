{
 "cells": [
  {
   "cell_type": "markdown",
   "id": "457aaac2-9ce9-499c-889d-2eb3d646950a",
   "metadata": {},
   "source": [
    "# Kaggle : Gemstone Price Prediction"
   ]
  },
  {
   "cell_type": "code",
   "execution_count": 1,
   "id": "2e6d6af1-9616-4a9c-b2e4-1188afd91756",
   "metadata": {},
   "outputs": [
    {
     "data": {
      "text/plain": [
       "RendererRegistry.enable('mimetype')"
      ]
     },
     "execution_count": 1,
     "metadata": {},
     "output_type": "execute_result"
    }
   ],
   "source": [
    "#0 Load libraries\n",
    "\n",
    "import numpy as np\n",
    "import pandas as pd\n",
    "\n",
    "import altair as alt\n",
    "# Handle large data sets without embedding them in the notebook\n",
    "alt.data_transformers.enable('data_server')\n",
    "# Include an image for each plot since Gradescope only supports displaying plots as images\n",
    "alt.renderers.enable('mimetype')\n"
   ]
  },
  {
   "cell_type": "markdown",
   "id": "dab5356f-bafd-4943-95f9-0eb496e50d84",
   "metadata": {},
   "source": [
    "## 1. Load data and pre-processing"
   ]
  },
  {
   "cell_type": "code",
   "execution_count": 2,
   "id": "eed1339b-7b31-445a-b278-d6455fca16ed",
   "metadata": {},
   "outputs": [
    {
     "data": {
      "text/html": [
       "<div>\n",
       "<style scoped>\n",
       "    .dataframe tbody tr th:only-of-type {\n",
       "        vertical-align: middle;\n",
       "    }\n",
       "\n",
       "    .dataframe tbody tr th {\n",
       "        vertical-align: top;\n",
       "    }\n",
       "\n",
       "    .dataframe thead th {\n",
       "        text-align: right;\n",
       "    }\n",
       "</style>\n",
       "<table border=\"1\" class=\"dataframe\">\n",
       "  <thead>\n",
       "    <tr style=\"text-align: right;\">\n",
       "      <th></th>\n",
       "      <th>id</th>\n",
       "      <th>carat</th>\n",
       "      <th>cut</th>\n",
       "      <th>color</th>\n",
       "      <th>clarity</th>\n",
       "      <th>depth</th>\n",
       "      <th>table</th>\n",
       "      <th>x</th>\n",
       "      <th>y</th>\n",
       "      <th>z</th>\n",
       "      <th>price</th>\n",
       "    </tr>\n",
       "  </thead>\n",
       "  <tbody>\n",
       "    <tr>\n",
       "      <th>0</th>\n",
       "      <td>0</td>\n",
       "      <td>1.52</td>\n",
       "      <td>Premium</td>\n",
       "      <td>F</td>\n",
       "      <td>VS2</td>\n",
       "      <td>62.2</td>\n",
       "      <td>58.0</td>\n",
       "      <td>7.27</td>\n",
       "      <td>7.33</td>\n",
       "      <td>4.55</td>\n",
       "      <td>13619</td>\n",
       "    </tr>\n",
       "    <tr>\n",
       "      <th>1</th>\n",
       "      <td>1</td>\n",
       "      <td>2.03</td>\n",
       "      <td>Very Good</td>\n",
       "      <td>J</td>\n",
       "      <td>SI2</td>\n",
       "      <td>62.0</td>\n",
       "      <td>58.0</td>\n",
       "      <td>8.06</td>\n",
       "      <td>8.12</td>\n",
       "      <td>5.05</td>\n",
       "      <td>13387</td>\n",
       "    </tr>\n",
       "    <tr>\n",
       "      <th>2</th>\n",
       "      <td>2</td>\n",
       "      <td>0.70</td>\n",
       "      <td>Ideal</td>\n",
       "      <td>G</td>\n",
       "      <td>VS1</td>\n",
       "      <td>61.2</td>\n",
       "      <td>57.0</td>\n",
       "      <td>5.69</td>\n",
       "      <td>5.73</td>\n",
       "      <td>3.50</td>\n",
       "      <td>2772</td>\n",
       "    </tr>\n",
       "    <tr>\n",
       "      <th>3</th>\n",
       "      <td>3</td>\n",
       "      <td>0.32</td>\n",
       "      <td>Ideal</td>\n",
       "      <td>G</td>\n",
       "      <td>VS1</td>\n",
       "      <td>61.6</td>\n",
       "      <td>56.0</td>\n",
       "      <td>4.38</td>\n",
       "      <td>4.41</td>\n",
       "      <td>2.71</td>\n",
       "      <td>666</td>\n",
       "    </tr>\n",
       "    <tr>\n",
       "      <th>4</th>\n",
       "      <td>4</td>\n",
       "      <td>1.70</td>\n",
       "      <td>Premium</td>\n",
       "      <td>G</td>\n",
       "      <td>VS2</td>\n",
       "      <td>62.6</td>\n",
       "      <td>59.0</td>\n",
       "      <td>7.65</td>\n",
       "      <td>7.61</td>\n",
       "      <td>4.77</td>\n",
       "      <td>14453</td>\n",
       "    </tr>\n",
       "  </tbody>\n",
       "</table>\n",
       "</div>"
      ],
      "text/plain": [
       "   id  carat        cut color clarity  depth  table     x     y     z  price\n",
       "0   0   1.52    Premium     F     VS2   62.2   58.0  7.27  7.33  4.55  13619\n",
       "1   1   2.03  Very Good     J     SI2   62.0   58.0  8.06  8.12  5.05  13387\n",
       "2   2   0.70      Ideal     G     VS1   61.2   57.0  5.69  5.73  3.50   2772\n",
       "3   3   0.32      Ideal     G     VS1   61.6   56.0  4.38  4.41  2.71    666\n",
       "4   4   1.70    Premium     G     VS2   62.6   59.0  7.65  7.61  4.77  14453"
      ]
     },
     "execution_count": 2,
     "metadata": {},
     "output_type": "execute_result"
    }
   ],
   "source": [
    "#1.1 Load train data\n",
    "train = pd.read_csv('data/train.csv')\n",
    "train.head()"
   ]
  },
  {
   "cell_type": "code",
   "execution_count": 3,
   "id": "4804dee5-13e7-4bba-bb91-3871436da7d0",
   "metadata": {},
   "outputs": [
    {
     "data": {
      "text/html": [
       "<div>\n",
       "<style scoped>\n",
       "    .dataframe tbody tr th:only-of-type {\n",
       "        vertical-align: middle;\n",
       "    }\n",
       "\n",
       "    .dataframe tbody tr th {\n",
       "        vertical-align: top;\n",
       "    }\n",
       "\n",
       "    .dataframe thead th {\n",
       "        text-align: right;\n",
       "    }\n",
       "</style>\n",
       "<table border=\"1\" class=\"dataframe\">\n",
       "  <thead>\n",
       "    <tr style=\"text-align: right;\">\n",
       "      <th></th>\n",
       "      <th>id</th>\n",
       "      <th>carat</th>\n",
       "      <th>cut</th>\n",
       "      <th>color</th>\n",
       "      <th>clarity</th>\n",
       "      <th>depth</th>\n",
       "      <th>table</th>\n",
       "      <th>x</th>\n",
       "      <th>y</th>\n",
       "      <th>z</th>\n",
       "    </tr>\n",
       "  </thead>\n",
       "  <tbody>\n",
       "    <tr>\n",
       "      <th>0</th>\n",
       "      <td>193573</td>\n",
       "      <td>0.35</td>\n",
       "      <td>Ideal</td>\n",
       "      <td>D</td>\n",
       "      <td>VS2</td>\n",
       "      <td>62.3</td>\n",
       "      <td>56.0</td>\n",
       "      <td>4.51</td>\n",
       "      <td>4.54</td>\n",
       "      <td>2.82</td>\n",
       "    </tr>\n",
       "    <tr>\n",
       "      <th>1</th>\n",
       "      <td>193574</td>\n",
       "      <td>0.77</td>\n",
       "      <td>Very Good</td>\n",
       "      <td>F</td>\n",
       "      <td>SI2</td>\n",
       "      <td>62.8</td>\n",
       "      <td>56.0</td>\n",
       "      <td>5.83</td>\n",
       "      <td>5.87</td>\n",
       "      <td>3.68</td>\n",
       "    </tr>\n",
       "    <tr>\n",
       "      <th>2</th>\n",
       "      <td>193575</td>\n",
       "      <td>0.71</td>\n",
       "      <td>Ideal</td>\n",
       "      <td>I</td>\n",
       "      <td>VS2</td>\n",
       "      <td>61.9</td>\n",
       "      <td>53.0</td>\n",
       "      <td>5.77</td>\n",
       "      <td>5.74</td>\n",
       "      <td>3.55</td>\n",
       "    </tr>\n",
       "    <tr>\n",
       "      <th>3</th>\n",
       "      <td>193576</td>\n",
       "      <td>0.33</td>\n",
       "      <td>Ideal</td>\n",
       "      <td>G</td>\n",
       "      <td>VVS2</td>\n",
       "      <td>61.6</td>\n",
       "      <td>55.0</td>\n",
       "      <td>4.44</td>\n",
       "      <td>4.42</td>\n",
       "      <td>2.73</td>\n",
       "    </tr>\n",
       "    <tr>\n",
       "      <th>4</th>\n",
       "      <td>193577</td>\n",
       "      <td>1.20</td>\n",
       "      <td>Very Good</td>\n",
       "      <td>I</td>\n",
       "      <td>VS2</td>\n",
       "      <td>62.7</td>\n",
       "      <td>56.0</td>\n",
       "      <td>6.75</td>\n",
       "      <td>6.79</td>\n",
       "      <td>4.24</td>\n",
       "    </tr>\n",
       "  </tbody>\n",
       "</table>\n",
       "</div>"
      ],
      "text/plain": [
       "       id  carat        cut color clarity  depth  table     x     y     z\n",
       "0  193573   0.35      Ideal     D     VS2   62.3   56.0  4.51  4.54  2.82\n",
       "1  193574   0.77  Very Good     F     SI2   62.8   56.0  5.83  5.87  3.68\n",
       "2  193575   0.71      Ideal     I     VS2   61.9   53.0  5.77  5.74  3.55\n",
       "3  193576   0.33      Ideal     G    VVS2   61.6   55.0  4.44  4.42  2.73\n",
       "4  193577   1.20  Very Good     I     VS2   62.7   56.0  6.75  6.79  4.24"
      ]
     },
     "execution_count": 3,
     "metadata": {},
     "output_type": "execute_result"
    }
   ],
   "source": [
    "#1.2 Load test data\n",
    "test = pd.read_csv('data/test.csv')\n",
    "test.head()"
   ]
  },
  {
   "cell_type": "code",
   "execution_count": 4,
   "id": "98920eec-af5d-4372-a5f9-5604d7881630",
   "metadata": {},
   "outputs": [
    {
     "name": "stdout",
     "output_type": "stream",
     "text": [
      "<class 'pandas.core.frame.DataFrame'>\n",
      "RangeIndex: 193573 entries, 0 to 193572\n",
      "Data columns (total 11 columns):\n",
      " #   Column   Non-Null Count   Dtype  \n",
      "---  ------   --------------   -----  \n",
      " 0   id       193573 non-null  int64  \n",
      " 1   carat    193573 non-null  float64\n",
      " 2   cut      193573 non-null  object \n",
      " 3   color    193573 non-null  object \n",
      " 4   clarity  193573 non-null  object \n",
      " 5   depth    193573 non-null  float64\n",
      " 6   table    193573 non-null  float64\n",
      " 7   x        193573 non-null  float64\n",
      " 8   y        193573 non-null  float64\n",
      " 9   z        193573 non-null  float64\n",
      " 10  price    193573 non-null  int64  \n",
      "dtypes: float64(6), int64(2), object(3)\n",
      "memory usage: 16.2+ MB\n"
     ]
    }
   ],
   "source": [
    "#1.3 Check info\n",
    "train.info()"
   ]
  },
  {
   "cell_type": "code",
   "execution_count": 5,
   "id": "e035c41c-daba-46d8-9e07-2c872b2e509e",
   "metadata": {},
   "outputs": [
    {
     "data": {
      "text/plain": [
       "id         0\n",
       "carat      0\n",
       "cut        0\n",
       "color      0\n",
       "clarity    0\n",
       "depth      0\n",
       "table      0\n",
       "x          0\n",
       "y          0\n",
       "z          0\n",
       "price      0\n",
       "dtype: int64"
      ]
     },
     "execution_count": 5,
     "metadata": {},
     "output_type": "execute_result"
    }
   ],
   "source": [
    "#1.4 Confirm NA\n",
    "train.isna().sum()"
   ]
  },
  {
   "cell_type": "code",
   "execution_count": 6,
   "id": "f3b1ba36-2405-4c59-878f-fb1b56159390",
   "metadata": {},
   "outputs": [
    {
     "name": "stdout",
     "output_type": "stream",
     "text": [
      "(193573, 11)\n",
      "(129050, 10)\n"
     ]
    }
   ],
   "source": [
    "#1.5 Check size of each dataset\n",
    "print(train.shape)\n",
    "print(test.shape)"
   ]
  },
  {
   "cell_type": "markdown",
   "id": "0e99678c-359d-47f3-bd55-c3a43a2be0b3",
   "metadata": {},
   "source": [
    "## 2. EDA"
   ]
  },
  {
   "cell_type": "code",
   "execution_count": null,
   "id": "c65c3239-3e88-416c-b57c-d5b8a72565d1",
   "metadata": {},
   "outputs": [],
   "source": []
  },
  {
   "cell_type": "code",
   "execution_count": 7,
   "id": "9f9defcc-5594-4882-9bc5-34e653b48f04",
   "metadata": {},
   "outputs": [
    {
     "name": "stdout",
     "output_type": "stream",
     "text": [
      "<class 'pandas.core.frame.DataFrame'>\n",
      "RangeIndex: 193573 entries, 0 to 193572\n",
      "Data columns (total 11 columns):\n",
      " #   Column   Non-Null Count   Dtype  \n",
      "---  ------   --------------   -----  \n",
      " 0   id       193573 non-null  int64  \n",
      " 1   carat    193573 non-null  float64\n",
      " 2   cut      193573 non-null  object \n",
      " 3   color    193573 non-null  object \n",
      " 4   clarity  193573 non-null  object \n",
      " 5   depth    193573 non-null  float64\n",
      " 6   table    193573 non-null  float64\n",
      " 7   x        193573 non-null  float64\n",
      " 8   y        193573 non-null  float64\n",
      " 9   z        193573 non-null  float64\n",
      " 10  price    193573 non-null  int64  \n",
      "dtypes: float64(6), int64(2), object(3)\n",
      "memory usage: 16.2+ MB\n"
     ]
    }
   ],
   "source": [
    "#2.1 Check info\n",
    "train.info()"
   ]
  },
  {
   "cell_type": "code",
   "execution_count": 8,
   "id": "edc481b2-e97c-4be1-8a6a-27a819edb9ff",
   "metadata": {},
   "outputs": [
    {
     "data": {
      "text/plain": [
       "Index(['id', 'carat', 'cut', 'color', 'clarity', 'depth', 'table', 'x', 'y',\n",
       "       'z', 'price'],\n",
       "      dtype='object')"
      ]
     },
     "execution_count": 8,
     "metadata": {},
     "output_type": "execute_result"
    }
   ],
   "source": [
    "#2.2 Pulling all features\n",
    "train.columns"
   ]
  },
  {
   "cell_type": "code",
   "execution_count": 9,
   "id": "1567e900-c643-4e3c-b68c-8683272229e0",
   "metadata": {},
   "outputs": [],
   "source": [
    "#2.3 Separate features into each group\n",
    "numerical_features = ['carat', 'depth', 'table', 'x', 'y', 'z', 'price']\n",
    "discreteized_features = []\n",
    "categorical_features = ['cut', 'color', 'clarity']\n",
    "text_features = []\n",
    "drop_features = ['id']"
   ]
  },
  {
   "cell_type": "code",
   "execution_count": 10,
   "id": "7ee35ae6-d2e6-482d-9d56-e4ef07682071",
   "metadata": {},
   "outputs": [
    {
     "data": {
      "application/vnd.vegalite.v4+json": {
       "$schema": "https://vega.github.io/schema/vega-lite/v4.17.0.json",
       "config": {
        "view": {
         "continuousHeight": 300,
         "continuousWidth": 400
        }
       },
       "data": {
        "url": "http://localhost:49380/ce9f27cc13e359b20f8910d0f3ebfc9d.json"
       },
       "encoding": {
        "x": {
         "bin": {
          "maxbins": 40
         },
         "field": "price",
         "type": "quantitative"
        },
        "y": {
         "aggregate": "count",
         "type": "quantitative"
        }
       },
       "height": 150,
       "mark": "bar",
       "width": 400
      },
      "image/png": "[encoded data removed]",
      "text/plain": [
       "<VegaLite 4 object>\n",
       "\n",
       "If you see this message, it means the renderer has not been properly enabled\n",
       "for the frontend that you are using. For more information, see\n",
       "https://altair-viz.github.io/user_guide/troubleshooting.html\n"
      ]
     },
     "execution_count": 10,
     "metadata": {},
     "output_type": "execute_result"
    }
   ],
   "source": [
    "#2.3.1 Numerical feature distributions - price\n",
    "hist = alt.Chart(train).mark_bar().encode(\n",
    "     x = alt.X('price', type='quantitative', bin=alt.Bin(maxbins=40)),\n",
    "     y = 'count()',\n",
    ").properties(\n",
    "    width=400,\n",
    "    height=150\n",
    ")\n",
    "# Show the plot\n",
    "hist"
   ]
  },
  {
   "cell_type": "code",
   "execution_count": 11,
   "id": "f0abff6e-96dd-47a5-bcb9-b9314f1d40d5",
   "metadata": {},
   "outputs": [
    {
     "data": {
      "application/vnd.vegalite.v4+json": {
       "$schema": "https://vega.github.io/schema/vega-lite/v4.17.0.json",
       "config": {
        "view": {
         "continuousHeight": 300,
         "continuousWidth": 400
        }
       },
       "data": {
        "url": "http://localhost:49380/b07f4bc0b6a5372844d1015930232327.json"
       },
       "encoding": {
        "x": {
         "bin": {
          "maxbins": 50
         },
         "field": "log_price",
         "type": "quantitative"
        },
        "y": {
         "aggregate": "count",
         "type": "quantitative"
        }
       },
       "height": 150,
       "mark": "bar",
       "width": 400
      },
      "image/png": "[encoded data removed]",
      "text/plain": [
       "<VegaLite 4 object>\n",
       "\n",
       "If you see this message, it means the renderer has not been properly enabled\n",
       "for the frontend that you are using. For more information, see\n",
       "https://altair-viz.github.io/user_guide/troubleshooting.html\n"
      ]
     },
     "execution_count": 11,
     "metadata": {},
     "output_type": "execute_result"
    }
   ],
   "source": [
    "#2.3.2 Numerical feature distributions - log_price\n",
    "train['log_price'] = np.log(train['price'])\n",
    "hist = alt.Chart(train).mark_bar().encode(\n",
    "     x = alt.X('log_price', type='quantitative', bin=alt.Bin(maxbins=50)),\n",
    "     y = 'count()',\n",
    ").properties(\n",
    "    width=400,\n",
    "    height=150\n",
    ")\n",
    "# Show the plot\n",
    "hist"
   ]
  },
  {
   "cell_type": "code",
   "execution_count": 12,
   "id": "774db888-e112-419b-8f17-81113ab32ded",
   "metadata": {},
   "outputs": [
    {
     "data": {
      "application/vnd.vegalite.v4+json": {
       "$schema": "https://vega.github.io/schema/vega-lite/v4.17.0.json",
       "config": {
        "view": {
         "continuousHeight": 300,
         "continuousWidth": 400
        }
       },
       "data": {
        "url": "http://localhost:49380/b07f4bc0b6a5372844d1015930232327.json"
       },
       "encoding": {
        "x": {
         "bin": {
          "maxbins": 50
         },
         "field": "carat",
         "type": "quantitative"
        },
        "y": {
         "aggregate": "count",
         "type": "quantitative"
        }
       },
       "height": 150,
       "mark": "bar",
       "width": 400
      },
      "image/png": "[encoded data removed]",
      "text/plain": [
       "<VegaLite 4 object>\n",
       "\n",
       "If you see this message, it means the renderer has not been properly enabled\n",
       "for the frontend that you are using. For more information, see\n",
       "https://altair-viz.github.io/user_guide/troubleshooting.html\n"
      ]
     },
     "execution_count": 12,
     "metadata": {},
     "output_type": "execute_result"
    }
   ],
   "source": [
    "#2.3.3 Numerical feature distributions - carat\n",
    "hist = alt.Chart(train).mark_bar().encode(\n",
    "     x = alt.X('carat', type='quantitative', bin=alt.Bin(maxbins=50)),\n",
    "     y = 'count()',\n",
    ").properties(\n",
    "    width=400,\n",
    "    height=150\n",
    ")\n",
    "# Show the plot\n",
    "hist"
   ]
  },
  {
   "cell_type": "code",
   "execution_count": 13,
   "id": "d30654a2-a00d-4c98-953f-7441e7872052",
   "metadata": {},
   "outputs": [
    {
     "data": {
      "application/vnd.vegalite.v4+json": {
       "$schema": "https://vega.github.io/schema/vega-lite/v4.17.0.json",
       "config": {
        "view": {
         "continuousHeight": 300,
         "continuousWidth": 400
        }
       },
       "data": {
        "url": "http://localhost:49380/b07f4bc0b6a5372844d1015930232327.json"
       },
       "encoding": {
        "x": {
         "bin": {
          "maxbins": 50
         },
         "field": "table",
         "type": "quantitative"
        },
        "y": {
         "aggregate": "count",
         "type": "quantitative"
        }
       },
       "height": 150,
       "mark": "bar",
       "width": 400
      },
      "image/png": "[encoded data removed]",
      "text/plain": [
       "<VegaLite 4 object>\n",
       "\n",
       "If you see this message, it means the renderer has not been properly enabled\n",
       "for the frontend that you are using. For more information, see\n",
       "https://altair-viz.github.io/user_guide/troubleshooting.html\n"
      ]
     },
     "execution_count": 13,
     "metadata": {},
     "output_type": "execute_result"
    }
   ],
   "source": [
    "#2.3.4 Numerical feature distributions - table\n",
    "hist = alt.Chart(train).mark_bar().encode(\n",
    "     x = alt.X('table', type='quantitative', bin=alt.Bin(maxbins=50)),\n",
    "     y = 'count()',\n",
    ").properties(\n",
    "    width=400,\n",
    "    height=150\n",
    ")\n",
    "# Show the plot\n",
    "hist"
   ]
  },
  {
   "cell_type": "code",
   "execution_count": 14,
   "id": "7702cb7b-1784-4999-bc14-278d86d29608",
   "metadata": {},
   "outputs": [
    {
     "data": {
      "application/vnd.vegalite.v4+json": {
       "$schema": "https://vega.github.io/schema/vega-lite/v4.17.0.json",
       "config": {
        "view": {
         "continuousHeight": 300,
         "continuousWidth": 400
        }
       },
       "data": {
        "url": "http://localhost:49380/b07f4bc0b6a5372844d1015930232327.json"
       },
       "encoding": {
        "x": {
         "bin": {
          "maxbins": 50
         },
         "field": "x",
         "type": "quantitative"
        },
        "y": {
         "aggregate": "count",
         "type": "quantitative"
        }
       },
       "height": 150,
       "mark": "bar",
       "width": 400
      },
      "image/png": "[encoded data removed]",
      "text/plain": [
       "<VegaLite 4 object>\n",
       "\n",
       "If you see this message, it means the renderer has not been properly enabled\n",
       "for the frontend that you are using. For more information, see\n",
       "https://altair-viz.github.io/user_guide/troubleshooting.html\n"
      ]
     },
     "execution_count": 14,
     "metadata": {},
     "output_type": "execute_result"
    }
   ],
   "source": [
    "#2.3.5 Numerical feature distributions - x\n",
    "hist = alt.Chart(train).mark_bar().encode(\n",
    "     x = alt.X('x', type='quantitative', bin=alt.Bin(maxbins=50)),\n",
    "     y = 'count()',\n",
    ").properties(\n",
    "    width=400,\n",
    "    height=150\n",
    ")\n",
    "# Show the plot\n",
    "hist"
   ]
  },
  {
   "cell_type": "code",
   "execution_count": 15,
   "id": "e7fb1e0e-2c22-4ed9-90f1-736081b58b1a",
   "metadata": {},
   "outputs": [
    {
     "data": {
      "application/vnd.vegalite.v4+json": {
       "$schema": "https://vega.github.io/schema/vega-lite/v4.17.0.json",
       "config": {
        "view": {
         "continuousHeight": 300,
         "continuousWidth": 400
        }
       },
       "data": {
        "url": "http://localhost:49380/b07f4bc0b6a5372844d1015930232327.json"
       },
       "encoding": {
        "x": {
         "bin": {
          "maxbins": 50
         },
         "field": "y",
         "type": "quantitative"
        },
        "y": {
         "aggregate": "count",
         "type": "quantitative"
        }
       },
       "height": 150,
       "mark": "bar",
       "width": 400
      },
      "image/png": "[encoded data removed]",
      "text/plain": [
       "<VegaLite 4 object>\n",
       "\n",
       "If you see this message, it means the renderer has not been properly enabled\n",
       "for the frontend that you are using. For more information, see\n",
       "https://altair-viz.github.io/user_guide/troubleshooting.html\n"
      ]
     },
     "execution_count": 15,
     "metadata": {},
     "output_type": "execute_result"
    }
   ],
   "source": [
    "#2.3.6 Numerical feature distributions - y\n",
    "hist = alt.Chart(train).mark_bar().encode(\n",
    "     x = alt.X('y', type='quantitative', bin=alt.Bin(maxbins=50)),\n",
    "     y = 'count()',\n",
    ").properties(\n",
    "    width=400,\n",
    "    height=150\n",
    ")\n",
    "# Show the plot\n",
    "hist"
   ]
  },
  {
   "cell_type": "code",
   "execution_count": 16,
   "id": "381305b9-e811-44b2-8835-81677a89191f",
   "metadata": {},
   "outputs": [
    {
     "data": {
      "application/vnd.vegalite.v4+json": {
       "$schema": "https://vega.github.io/schema/vega-lite/v4.17.0.json",
       "config": {
        "view": {
         "continuousHeight": 300,
         "continuousWidth": 400
        }
       },
       "data": {
        "url": "http://localhost:49380/b07f4bc0b6a5372844d1015930232327.json"
       },
       "encoding": {
        "x": {
         "bin": {
          "maxbins": 50
         },
         "field": "z",
         "type": "quantitative"
        },
        "y": {
         "aggregate": "count",
         "type": "quantitative"
        }
       },
       "height": 150,
       "mark": "bar",
       "width": 400
      },
      "image/png": "[encoded data removed]",
      "text/plain": [
       "<VegaLite 4 object>\n",
       "\n",
       "If you see this message, it means the renderer has not been properly enabled\n",
       "for the frontend that you are using. For more information, see\n",
       "https://altair-viz.github.io/user_guide/troubleshooting.html\n"
      ]
     },
     "execution_count": 16,
     "metadata": {},
     "output_type": "execute_result"
    }
   ],
   "source": [
    "#2.3.7 Numerical feature distributions - z\n",
    "hist = alt.Chart(train).mark_bar().encode(\n",
    "     x = alt.X('z', type='quantitative', bin=alt.Bin(maxbins=50)),\n",
    "     y = 'count()',\n",
    ").properties(\n",
    "    width=400,\n",
    "    height=150\n",
    ")\n",
    "# Show the plot\n",
    "hist"
   ]
  },
  {
   "cell_type": "code",
   "execution_count": 17,
   "id": "2e4b952f-4c83-413b-870c-d2ac27a25599",
   "metadata": {},
   "outputs": [
    {
     "data": {
      "text/plain": [
       "Ideal        92454\n",
       "Premium      49910\n",
       "Very Good    37566\n",
       "Good         11622\n",
       "Fair          2021\n",
       "Name: cut, dtype: int64"
      ]
     },
     "execution_count": 17,
     "metadata": {},
     "output_type": "execute_result"
    }
   ],
   "source": [
    "#2.3.8.1 Categorical feature distributions - cut - value_counts()\n",
    "train['cut'].value_counts()"
   ]
  },
  {
   "cell_type": "code",
   "execution_count": 18,
   "id": "c8b716e7-940b-4d1a-ae96-d2e5b645c1f6",
   "metadata": {},
   "outputs": [
    {
     "data": {
      "application/vnd.vegalite.v4+json": {
       "$schema": "https://vega.github.io/schema/vega-lite/v4.17.0.json",
       "config": {
        "view": {
         "continuousHeight": 300,
         "continuousWidth": 400
        }
       },
       "data": {
        "url": "http://localhost:49380/b07f4bc0b6a5372844d1015930232327.json"
       },
       "encoding": {
        "x": {
         "aggregate": "count",
         "type": "quantitative"
        },
        "y": {
         "field": "cut",
         "sort": "-x",
         "type": "nominal"
        }
       },
       "height": 150,
       "mark": "bar",
       "width": 400
      },
      "image/png": "[encoded data removed]",
      "text/plain": [
       "<VegaLite 4 object>\n",
       "\n",
       "If you see this message, it means the renderer has not been properly enabled\n",
       "for the frontend that you are using. For more information, see\n",
       "https://altair-viz.github.io/user_guide/troubleshooting.html\n"
      ]
     },
     "execution_count": 18,
     "metadata": {},
     "output_type": "execute_result"
    }
   ],
   "source": [
    "#2.3.8.2 Categorical feature distributions - cut\n",
    "bar = alt.Chart(train).mark_bar().encode(\n",
    "    x = 'count()',\n",
    "    y = alt.Y('cut', type='nominal', sort='-x')\n",
    "     ,\n",
    ").properties(\n",
    "    width=400,\n",
    "    height=150\n",
    ")\n",
    "# Show the plot\n",
    "bar"
   ]
  },
  {
   "cell_type": "code",
   "execution_count": 19,
   "id": "069d52ca-a503-4e06-afa2-96606ab17169",
   "metadata": {},
   "outputs": [
    {
     "data": {
      "text/plain": [
       "G    44391\n",
       "E    35869\n",
       "F    34258\n",
       "H    30799\n",
       "D    24286\n",
       "I    17514\n",
       "J     6456\n",
       "Name: color, dtype: int64"
      ]
     },
     "execution_count": 19,
     "metadata": {},
     "output_type": "execute_result"
    }
   ],
   "source": [
    "#2.3.9.1 Categorical feature distributions - color - value_counts()\n",
    "train['color'].value_counts()"
   ]
  },
  {
   "cell_type": "code",
   "execution_count": 20,
   "id": "5a2c1244-c69d-4f9d-b68c-87247e3da17f",
   "metadata": {},
   "outputs": [
    {
     "data": {
      "application/vnd.vegalite.v4+json": {
       "$schema": "https://vega.github.io/schema/vega-lite/v4.17.0.json",
       "config": {
        "view": {
         "continuousHeight": 300,
         "continuousWidth": 400
        }
       },
       "data": {
        "url": "http://localhost:49380/b07f4bc0b6a5372844d1015930232327.json"
       },
       "encoding": {
        "x": {
         "aggregate": "count",
         "type": "quantitative"
        },
        "y": {
         "field": "color",
         "sort": "-x",
         "type": "nominal"
        }
       },
       "height": 150,
       "mark": "bar",
       "width": 400
      },
      "image/png": "[encoded data removed]",
      "text/plain": [
       "<VegaLite 4 object>\n",
       "\n",
       "If you see this message, it means the renderer has not been properly enabled\n",
       "for the frontend that you are using. For more information, see\n",
       "https://altair-viz.github.io/user_guide/troubleshooting.html\n"
      ]
     },
     "execution_count": 20,
     "metadata": {},
     "output_type": "execute_result"
    }
   ],
   "source": [
    "#2.3.9.2 Categorical feature distributions - color\n",
    "bar = alt.Chart(train).mark_bar().encode(\n",
    "    x = 'count()',\n",
    "    y = alt.Y('color', type='nominal', sort='-x')\n",
    "     ,\n",
    ").properties(\n",
    "    width=400,\n",
    "    height=150\n",
    ")\n",
    "# Show the plot\n",
    "bar"
   ]
  },
  {
   "cell_type": "code",
   "execution_count": 21,
   "id": "ff7a0f62-582b-4d20-acae-9b45f7cd3871",
   "metadata": {},
   "outputs": [
    {
     "data": {
      "text/plain": [
       "SI1     53272\n",
       "VS2     48027\n",
       "VS1     30669\n",
       "SI2     30484\n",
       "VVS2    15762\n",
       "VVS1    10628\n",
       "IF       4219\n",
       "I1        512\n",
       "Name: clarity, dtype: int64"
      ]
     },
     "execution_count": 21,
     "metadata": {},
     "output_type": "execute_result"
    }
   ],
   "source": [
    "#2.3.10.1 Categorical feature distributions - clarity - value_counts()\n",
    "train['clarity'].value_counts()"
   ]
  },
  {
   "cell_type": "code",
   "execution_count": 22,
   "id": "dfcd72bb-8349-4f9e-82d2-49e6cf8cd97e",
   "metadata": {},
   "outputs": [
    {
     "data": {
      "application/vnd.vegalite.v4+json": {
       "$schema": "https://vega.github.io/schema/vega-lite/v4.17.0.json",
       "config": {
        "view": {
         "continuousHeight": 300,
         "continuousWidth": 400
        }
       },
       "data": {
        "url": "http://localhost:49380/b07f4bc0b6a5372844d1015930232327.json"
       },
       "encoding": {
        "x": {
         "aggregate": "count",
         "type": "quantitative"
        },
        "y": {
         "field": "clarity",
         "sort": "-x",
         "type": "nominal"
        }
       },
       "height": 150,
       "mark": "bar",
       "width": 400
      },
      "image/png": "[encoded data removed]",
      "text/plain": [
       "<VegaLite 4 object>\n",
       "\n",
       "If you see this message, it means the renderer has not been properly enabled\n",
       "for the frontend that you are using. For more information, see\n",
       "https://altair-viz.github.io/user_guide/troubleshooting.html\n"
      ]
     },
     "execution_count": 22,
     "metadata": {},
     "output_type": "execute_result"
    }
   ],
   "source": [
    "#2.3.9.10 Categorical feature distributions - clarity\n",
    "bar = alt.Chart(train).mark_bar().encode(\n",
    "    x = 'count()',\n",
    "    y = alt.Y('clarity', type='nominal', sort='-x')\n",
    "     ,\n",
    ").properties(\n",
    "    width=400,\n",
    "    height=150\n",
    ")\n",
    "# Show the plot\n",
    "bar"
   ]
  },
  {
   "cell_type": "code",
   "execution_count": 23,
   "id": "a6623fba-156e-4cc5-bfdb-36b1609f6089",
   "metadata": {},
   "outputs": [
    {
     "data": {
      "text/html": [
       "<style type=\"text/css\">\n",
       "#T_e4660_row0_col0, #T_e4660_row1_col1, #T_e4660_row2_col2, #T_e4660_row3_col3, #T_e4660_row4_col4, #T_e4660_row4_col5, #T_e4660_row5_col4, #T_e4660_row5_col5, #T_e4660_row6_col6, #T_e4660_row7_col7, #T_e4660_row8_col8 {\n",
       "  background-color: #023858;\n",
       "  color: #f1f1f1;\n",
       "}\n",
       "#T_e4660_row0_col1, #T_e4660_row0_col6, #T_e4660_row0_col7, #T_e4660_row0_col8, #T_e4660_row1_col0, #T_e4660_row2_col3, #T_e4660_row2_col4, #T_e4660_row2_col5, #T_e4660_row2_col7, #T_e4660_row3_col0, #T_e4660_row3_col2, #T_e4660_row4_col0, #T_e4660_row5_col0, #T_e4660_row6_col0, #T_e4660_row7_col0, #T_e4660_row8_col0 {\n",
       "  background-color: #fff7fb;\n",
       "  color: #000000;\n",
       "}\n",
       "#T_e4660_row0_col2, #T_e4660_row0_col3, #T_e4660_row7_col2 {\n",
       "  background-color: #dedcec;\n",
       "  color: #000000;\n",
       "}\n",
       "#T_e4660_row0_col4, #T_e4660_row0_col5 {\n",
       "  background-color: #fef6fa;\n",
       "  color: #000000;\n",
       "}\n",
       "#T_e4660_row1_col2, #T_e4660_row3_col6, #T_e4660_row3_col8 {\n",
       "  background-color: #d9d8ea;\n",
       "  color: #000000;\n",
       "}\n",
       "#T_e4660_row1_col3 {\n",
       "  background-color: #a8bedc;\n",
       "  color: #000000;\n",
       "}\n",
       "#T_e4660_row1_col4, #T_e4660_row4_col1 {\n",
       "  background-color: #023c5f;\n",
       "  color: #f1f1f1;\n",
       "}\n",
       "#T_e4660_row1_col5, #T_e4660_row5_col1 {\n",
       "  background-color: #023d60;\n",
       "  color: #f1f1f1;\n",
       "}\n",
       "#T_e4660_row1_col6, #T_e4660_row5_col8, #T_e4660_row6_col1, #T_e4660_row8_col4, #T_e4660_row8_col5 {\n",
       "  background-color: #023e62;\n",
       "  color: #f1f1f1;\n",
       "}\n",
       "#T_e4660_row1_col7, #T_e4660_row7_col1 {\n",
       "  background-color: #03476f;\n",
       "  color: #f1f1f1;\n",
       "}\n",
       "#T_e4660_row1_col8, #T_e4660_row8_col1 {\n",
       "  background-color: #034871;\n",
       "  color: #f1f1f1;\n",
       "}\n",
       "#T_e4660_row2_col0 {\n",
       "  background-color: #fef6fb;\n",
       "  color: #000000;\n",
       "}\n",
       "#T_e4660_row2_col1 {\n",
       "  background-color: #fbf3f9;\n",
       "  color: #000000;\n",
       "}\n",
       "#T_e4660_row2_col6 {\n",
       "  background-color: #f3edf5;\n",
       "  color: #000000;\n",
       "}\n",
       "#T_e4660_row2_col8 {\n",
       "  background-color: #fdf5fa;\n",
       "  color: #000000;\n",
       "}\n",
       "#T_e4660_row3_col1 {\n",
       "  background-color: #d6d6e9;\n",
       "  color: #000000;\n",
       "}\n",
       "#T_e4660_row3_col4 {\n",
       "  background-color: #d2d2e7;\n",
       "  color: #000000;\n",
       "}\n",
       "#T_e4660_row3_col5 {\n",
       "  background-color: #d2d3e7;\n",
       "  color: #000000;\n",
       "}\n",
       "#T_e4660_row3_col7, #T_e4660_row4_col2, #T_e4660_row5_col2 {\n",
       "  background-color: #e0deed;\n",
       "  color: #000000;\n",
       "}\n",
       "#T_e4660_row4_col3 {\n",
       "  background-color: #a4bcda;\n",
       "  color: #000000;\n",
       "}\n",
       "#T_e4660_row4_col6, #T_e4660_row5_col6, #T_e4660_row6_col4, #T_e4660_row6_col5 {\n",
       "  background-color: #023a5b;\n",
       "  color: #f1f1f1;\n",
       "}\n",
       "#T_e4660_row4_col7, #T_e4660_row5_col7, #T_e4660_row7_col4, #T_e4660_row7_col5 {\n",
       "  background-color: #045382;\n",
       "  color: #f1f1f1;\n",
       "}\n",
       "#T_e4660_row4_col8 {\n",
       "  background-color: #023f64;\n",
       "  color: #f1f1f1;\n",
       "}\n",
       "#T_e4660_row5_col3 {\n",
       "  background-color: #a5bddb;\n",
       "  color: #000000;\n",
       "}\n",
       "#T_e4660_row6_col2 {\n",
       "  background-color: #d0d1e6;\n",
       "  color: #000000;\n",
       "}\n",
       "#T_e4660_row6_col3 {\n",
       "  background-color: #abbfdc;\n",
       "  color: #000000;\n",
       "}\n",
       "#T_e4660_row6_col7, #T_e4660_row7_col6 {\n",
       "  background-color: #045585;\n",
       "  color: #f1f1f1;\n",
       "}\n",
       "#T_e4660_row6_col8, #T_e4660_row8_col6 {\n",
       "  background-color: #034165;\n",
       "  color: #f1f1f1;\n",
       "}\n",
       "#T_e4660_row7_col3 {\n",
       "  background-color: #b5c4df;\n",
       "  color: #000000;\n",
       "}\n",
       "#T_e4660_row7_col8, #T_e4660_row8_col7 {\n",
       "  background-color: #045483;\n",
       "  color: #f1f1f1;\n",
       "}\n",
       "#T_e4660_row8_col2 {\n",
       "  background-color: #dcdaeb;\n",
       "  color: #000000;\n",
       "}\n",
       "#T_e4660_row8_col3 {\n",
       "  background-color: #acc0dd;\n",
       "  color: #000000;\n",
       "}\n",
       "</style>\n",
       "<table id=\"T_e4660\">\n",
       "  <thead>\n",
       "    <tr>\n",
       "      <th class=\"blank level0\" >&nbsp;</th>\n",
       "      <th id=\"T_e4660_level0_col0\" class=\"col_heading level0 col0\" >id</th>\n",
       "      <th id=\"T_e4660_level0_col1\" class=\"col_heading level0 col1\" >carat</th>\n",
       "      <th id=\"T_e4660_level0_col2\" class=\"col_heading level0 col2\" >depth</th>\n",
       "      <th id=\"T_e4660_level0_col3\" class=\"col_heading level0 col3\" >table</th>\n",
       "      <th id=\"T_e4660_level0_col4\" class=\"col_heading level0 col4\" >x</th>\n",
       "      <th id=\"T_e4660_level0_col5\" class=\"col_heading level0 col5\" >y</th>\n",
       "      <th id=\"T_e4660_level0_col6\" class=\"col_heading level0 col6\" >z</th>\n",
       "      <th id=\"T_e4660_level0_col7\" class=\"col_heading level0 col7\" >price</th>\n",
       "      <th id=\"T_e4660_level0_col8\" class=\"col_heading level0 col8\" >log_price</th>\n",
       "    </tr>\n",
       "  </thead>\n",
       "  <tbody>\n",
       "    <tr>\n",
       "      <th id=\"T_e4660_level0_row0\" class=\"row_heading level0 row0\" >id</th>\n",
       "      <td id=\"T_e4660_row0_col0\" class=\"data row0 col0\" >1.00</td>\n",
       "      <td id=\"T_e4660_row0_col1\" class=\"data row0 col1\" >-0.00</td>\n",
       "      <td id=\"T_e4660_row0_col2\" class=\"data row0 col2\" >0.00</td>\n",
       "      <td id=\"T_e4660_row0_col3\" class=\"data row0 col3\" >0.00</td>\n",
       "      <td id=\"T_e4660_row0_col4\" class=\"data row0 col4\" >-0.00</td>\n",
       "      <td id=\"T_e4660_row0_col5\" class=\"data row0 col5\" >-0.00</td>\n",
       "      <td id=\"T_e4660_row0_col6\" class=\"data row0 col6\" >0.00</td>\n",
       "      <td id=\"T_e4660_row0_col7\" class=\"data row0 col7\" >-0.00</td>\n",
       "      <td id=\"T_e4660_row0_col8\" class=\"data row0 col8\" >-0.00</td>\n",
       "    </tr>\n",
       "    <tr>\n",
       "      <th id=\"T_e4660_level0_row1\" class=\"row_heading level0 row1\" >carat</th>\n",
       "      <td id=\"T_e4660_row1_col0\" class=\"data row1 col0\" >-0.00</td>\n",
       "      <td id=\"T_e4660_row1_col1\" class=\"data row1 col1\" >1.00</td>\n",
       "      <td id=\"T_e4660_row1_col2\" class=\"data row1 col2\" >0.03</td>\n",
       "      <td id=\"T_e4660_row1_col3\" class=\"data row1 col3\" >0.23</td>\n",
       "      <td id=\"T_e4660_row1_col4\" class=\"data row1 col4\" >0.98</td>\n",
       "      <td id=\"T_e4660_row1_col5\" class=\"data row1 col5\" >0.98</td>\n",
       "      <td id=\"T_e4660_row1_col6\" class=\"data row1 col6\" >0.97</td>\n",
       "      <td id=\"T_e4660_row1_col7\" class=\"data row1 col7\" >0.94</td>\n",
       "      <td id=\"T_e4660_row1_col8\" class=\"data row1 col8\" >0.94</td>\n",
       "    </tr>\n",
       "    <tr>\n",
       "      <th id=\"T_e4660_level0_row2\" class=\"row_heading level0 row2\" >depth</th>\n",
       "      <td id=\"T_e4660_row2_col0\" class=\"data row2 col0\" >0.00</td>\n",
       "      <td id=\"T_e4660_row2_col1\" class=\"data row2 col1\" >0.03</td>\n",
       "      <td id=\"T_e4660_row2_col2\" class=\"data row2 col2\" >1.00</td>\n",
       "      <td id=\"T_e4660_row2_col3\" class=\"data row2 col3\" >-0.23</td>\n",
       "      <td id=\"T_e4660_row2_col4\" class=\"data row2 col4\" >-0.01</td>\n",
       "      <td id=\"T_e4660_row2_col5\" class=\"data row2 col5\" >-0.01</td>\n",
       "      <td id=\"T_e4660_row2_col6\" class=\"data row2 col6\" >0.08</td>\n",
       "      <td id=\"T_e4660_row2_col7\" class=\"data row2 col7\" >0.00</td>\n",
       "      <td id=\"T_e4660_row2_col8\" class=\"data row2 col8\" >0.01</td>\n",
       "    </tr>\n",
       "    <tr>\n",
       "      <th id=\"T_e4660_level0_row3\" class=\"row_heading level0 row3\" >table</th>\n",
       "      <td id=\"T_e4660_row3_col0\" class=\"data row3 col0\" >0.00</td>\n",
       "      <td id=\"T_e4660_row3_col1\" class=\"data row3 col1\" >0.23</td>\n",
       "      <td id=\"T_e4660_row3_col2\" class=\"data row3 col2\" >-0.23</td>\n",
       "      <td id=\"T_e4660_row3_col3\" class=\"data row3 col3\" >1.00</td>\n",
       "      <td id=\"T_e4660_row3_col4\" class=\"data row3 col4\" >0.24</td>\n",
       "      <td id=\"T_e4660_row3_col5\" class=\"data row3 col5\" >0.23</td>\n",
       "      <td id=\"T_e4660_row3_col6\" class=\"data row3 col6\" >0.21</td>\n",
       "      <td id=\"T_e4660_row3_col7\" class=\"data row3 col7\" >0.17</td>\n",
       "      <td id=\"T_e4660_row3_col8\" class=\"data row3 col8\" >0.21</td>\n",
       "    </tr>\n",
       "    <tr>\n",
       "      <th id=\"T_e4660_level0_row4\" class=\"row_heading level0 row4\" >x</th>\n",
       "      <td id=\"T_e4660_row4_col0\" class=\"data row4 col0\" >-0.00</td>\n",
       "      <td id=\"T_e4660_row4_col1\" class=\"data row4 col1\" >0.98</td>\n",
       "      <td id=\"T_e4660_row4_col2\" class=\"data row4 col2\" >-0.01</td>\n",
       "      <td id=\"T_e4660_row4_col3\" class=\"data row4 col3\" >0.24</td>\n",
       "      <td id=\"T_e4660_row4_col4\" class=\"data row4 col4\" >1.00</td>\n",
       "      <td id=\"T_e4660_row4_col5\" class=\"data row4 col5\" >1.00</td>\n",
       "      <td id=\"T_e4660_row4_col6\" class=\"data row4 col6\" >0.99</td>\n",
       "      <td id=\"T_e4660_row4_col7\" class=\"data row4 col7\" >0.90</td>\n",
       "      <td id=\"T_e4660_row4_col8\" class=\"data row4 col8\" >0.97</td>\n",
       "    </tr>\n",
       "    <tr>\n",
       "      <th id=\"T_e4660_level0_row5\" class=\"row_heading level0 row5\" >y</th>\n",
       "      <td id=\"T_e4660_row5_col0\" class=\"data row5 col0\" >-0.00</td>\n",
       "      <td id=\"T_e4660_row5_col1\" class=\"data row5 col1\" >0.98</td>\n",
       "      <td id=\"T_e4660_row5_col2\" class=\"data row5 col2\" >-0.01</td>\n",
       "      <td id=\"T_e4660_row5_col3\" class=\"data row5 col3\" >0.23</td>\n",
       "      <td id=\"T_e4660_row5_col4\" class=\"data row5 col4\" >1.00</td>\n",
       "      <td id=\"T_e4660_row5_col5\" class=\"data row5 col5\" >1.00</td>\n",
       "      <td id=\"T_e4660_row5_col6\" class=\"data row5 col6\" >0.99</td>\n",
       "      <td id=\"T_e4660_row5_col7\" class=\"data row5 col7\" >0.90</td>\n",
       "      <td id=\"T_e4660_row5_col8\" class=\"data row5 col8\" >0.97</td>\n",
       "    </tr>\n",
       "    <tr>\n",
       "      <th id=\"T_e4660_level0_row6\" class=\"row_heading level0 row6\" >z</th>\n",
       "      <td id=\"T_e4660_row6_col0\" class=\"data row6 col0\" >0.00</td>\n",
       "      <td id=\"T_e4660_row6_col1\" class=\"data row6 col1\" >0.97</td>\n",
       "      <td id=\"T_e4660_row6_col2\" class=\"data row6 col2\" >0.08</td>\n",
       "      <td id=\"T_e4660_row6_col3\" class=\"data row6 col3\" >0.21</td>\n",
       "      <td id=\"T_e4660_row6_col4\" class=\"data row6 col4\" >0.99</td>\n",
       "      <td id=\"T_e4660_row6_col5\" class=\"data row6 col5\" >0.99</td>\n",
       "      <td id=\"T_e4660_row6_col6\" class=\"data row6 col6\" >1.00</td>\n",
       "      <td id=\"T_e4660_row6_col7\" class=\"data row6 col7\" >0.89</td>\n",
       "      <td id=\"T_e4660_row6_col8\" class=\"data row6 col8\" >0.97</td>\n",
       "    </tr>\n",
       "    <tr>\n",
       "      <th id=\"T_e4660_level0_row7\" class=\"row_heading level0 row7\" >price</th>\n",
       "      <td id=\"T_e4660_row7_col0\" class=\"data row7 col0\" >-0.00</td>\n",
       "      <td id=\"T_e4660_row7_col1\" class=\"data row7 col1\" >0.94</td>\n",
       "      <td id=\"T_e4660_row7_col2\" class=\"data row7 col2\" >0.00</td>\n",
       "      <td id=\"T_e4660_row7_col3\" class=\"data row7 col3\" >0.17</td>\n",
       "      <td id=\"T_e4660_row7_col4\" class=\"data row7 col4\" >0.90</td>\n",
       "      <td id=\"T_e4660_row7_col5\" class=\"data row7 col5\" >0.90</td>\n",
       "      <td id=\"T_e4660_row7_col6\" class=\"data row7 col6\" >0.89</td>\n",
       "      <td id=\"T_e4660_row7_col7\" class=\"data row7 col7\" >1.00</td>\n",
       "      <td id=\"T_e4660_row7_col8\" class=\"data row7 col8\" >0.90</td>\n",
       "    </tr>\n",
       "    <tr>\n",
       "      <th id=\"T_e4660_level0_row8\" class=\"row_heading level0 row8\" >log_price</th>\n",
       "      <td id=\"T_e4660_row8_col0\" class=\"data row8 col0\" >-0.00</td>\n",
       "      <td id=\"T_e4660_row8_col1\" class=\"data row8 col1\" >0.94</td>\n",
       "      <td id=\"T_e4660_row8_col2\" class=\"data row8 col2\" >0.01</td>\n",
       "      <td id=\"T_e4660_row8_col3\" class=\"data row8 col3\" >0.21</td>\n",
       "      <td id=\"T_e4660_row8_col4\" class=\"data row8 col4\" >0.97</td>\n",
       "      <td id=\"T_e4660_row8_col5\" class=\"data row8 col5\" >0.97</td>\n",
       "      <td id=\"T_e4660_row8_col6\" class=\"data row8 col6\" >0.97</td>\n",
       "      <td id=\"T_e4660_row8_col7\" class=\"data row8 col7\" >0.90</td>\n",
       "      <td id=\"T_e4660_row8_col8\" class=\"data row8 col8\" >1.00</td>\n",
       "    </tr>\n",
       "  </tbody>\n",
       "</table>\n"
      ],
      "text/plain": [
       "<pandas.io.formats.style.Styler at 0x11e39ea40>"
      ]
     },
     "execution_count": 23,
     "metadata": {},
     "output_type": "execute_result"
    }
   ],
   "source": [
    "#2.4 Correlation matrix : Spearman\n",
    "train.corr('pearson').style.background_gradient().format(precision=2)"
   ]
  },
  {
   "cell_type": "code",
   "execution_count": 24,
   "id": "3d20d95a-b232-4fd1-b36a-b65982001635",
   "metadata": {},
   "outputs": [
    {
     "data": {
      "text/html": [
       "<style type=\"text/css\">\n",
       "#T_518e9_row0_col0, #T_518e9_row1_col1, #T_518e9_row1_col4, #T_518e9_row1_col5, #T_518e9_row2_col2, #T_518e9_row3_col3, #T_518e9_row4_col1, #T_518e9_row4_col4, #T_518e9_row4_col5, #T_518e9_row5_col1, #T_518e9_row5_col4, #T_518e9_row5_col5, #T_518e9_row6_col6, #T_518e9_row7_col7, #T_518e9_row7_col8, #T_518e9_row8_col7, #T_518e9_row8_col8 {\n",
       "  background-color: #023858;\n",
       "  color: #f1f1f1;\n",
       "}\n",
       "#T_518e9_row0_col1, #T_518e9_row0_col6, #T_518e9_row0_col7, #T_518e9_row0_col8, #T_518e9_row1_col0, #T_518e9_row2_col0, #T_518e9_row2_col3, #T_518e9_row2_col4, #T_518e9_row2_col5, #T_518e9_row3_col0, #T_518e9_row3_col2, #T_518e9_row4_col0, #T_518e9_row5_col0, #T_518e9_row6_col0, #T_518e9_row7_col0, #T_518e9_row8_col0 {\n",
       "  background-color: #fff7fb;\n",
       "  color: #000000;\n",
       "}\n",
       "#T_518e9_row0_col2, #T_518e9_row0_col3 {\n",
       "  background-color: #eae6f1;\n",
       "  color: #000000;\n",
       "}\n",
       "#T_518e9_row0_col4, #T_518e9_row0_col5 {\n",
       "  background-color: #fef6fb;\n",
       "  color: #000000;\n",
       "}\n",
       "#T_518e9_row1_col2 {\n",
       "  background-color: #e2dfee;\n",
       "  color: #000000;\n",
       "}\n",
       "#T_518e9_row1_col3, #T_518e9_row5_col3 {\n",
       "  background-color: #b3c3de;\n",
       "  color: #000000;\n",
       "}\n",
       "#T_518e9_row1_col6, #T_518e9_row6_col1 {\n",
       "  background-color: #02395a;\n",
       "  color: #f1f1f1;\n",
       "}\n",
       "#T_518e9_row1_col7, #T_518e9_row1_col8, #T_518e9_row4_col7, #T_518e9_row4_col8, #T_518e9_row5_col7, #T_518e9_row5_col8, #T_518e9_row7_col1, #T_518e9_row7_col4, #T_518e9_row7_col5, #T_518e9_row8_col1, #T_518e9_row8_col4, #T_518e9_row8_col5 {\n",
       "  background-color: #023f64;\n",
       "  color: #f1f1f1;\n",
       "}\n",
       "#T_518e9_row2_col1 {\n",
       "  background-color: #f9f2f8;\n",
       "  color: #000000;\n",
       "}\n",
       "#T_518e9_row2_col6 {\n",
       "  background-color: #eee9f3;\n",
       "  color: #000000;\n",
       "}\n",
       "#T_518e9_row2_col7, #T_518e9_row2_col8 {\n",
       "  background-color: #fbf3f9;\n",
       "  color: #000000;\n",
       "}\n",
       "#T_518e9_row3_col1 {\n",
       "  background-color: #d3d4e7;\n",
       "  color: #000000;\n",
       "}\n",
       "#T_518e9_row3_col4 {\n",
       "  background-color: #d2d2e7;\n",
       "  color: #000000;\n",
       "}\n",
       "#T_518e9_row3_col5 {\n",
       "  background-color: #d2d3e7;\n",
       "  color: #000000;\n",
       "}\n",
       "#T_518e9_row3_col6 {\n",
       "  background-color: #d9d8ea;\n",
       "  color: #000000;\n",
       "}\n",
       "#T_518e9_row3_col7, #T_518e9_row3_col8 {\n",
       "  background-color: #d6d6e9;\n",
       "  color: #000000;\n",
       "}\n",
       "#T_518e9_row4_col2, #T_518e9_row5_col2 {\n",
       "  background-color: #ece7f2;\n",
       "  color: #000000;\n",
       "}\n",
       "#T_518e9_row4_col3 {\n",
       "  background-color: #b1c2de;\n",
       "  color: #000000;\n",
       "}\n",
       "#T_518e9_row4_col6, #T_518e9_row5_col6, #T_518e9_row6_col4, #T_518e9_row6_col5 {\n",
       "  background-color: #023a5b;\n",
       "  color: #f1f1f1;\n",
       "}\n",
       "#T_518e9_row6_col2 {\n",
       "  background-color: #d5d5e8;\n",
       "  color: #000000;\n",
       "}\n",
       "#T_518e9_row6_col3 {\n",
       "  background-color: #b9c6e0;\n",
       "  color: #000000;\n",
       "}\n",
       "#T_518e9_row6_col7, #T_518e9_row6_col8, #T_518e9_row7_col6, #T_518e9_row8_col6 {\n",
       "  background-color: #034165;\n",
       "  color: #f1f1f1;\n",
       "}\n",
       "#T_518e9_row7_col2, #T_518e9_row8_col2 {\n",
       "  background-color: #e4e1ef;\n",
       "  color: #000000;\n",
       "}\n",
       "#T_518e9_row7_col3, #T_518e9_row8_col3 {\n",
       "  background-color: #b7c5df;\n",
       "  color: #000000;\n",
       "}\n",
       "</style>\n",
       "<table id=\"T_518e9\">\n",
       "  <thead>\n",
       "    <tr>\n",
       "      <th class=\"blank level0\" >&nbsp;</th>\n",
       "      <th id=\"T_518e9_level0_col0\" class=\"col_heading level0 col0\" >id</th>\n",
       "      <th id=\"T_518e9_level0_col1\" class=\"col_heading level0 col1\" >carat</th>\n",
       "      <th id=\"T_518e9_level0_col2\" class=\"col_heading level0 col2\" >depth</th>\n",
       "      <th id=\"T_518e9_level0_col3\" class=\"col_heading level0 col3\" >table</th>\n",
       "      <th id=\"T_518e9_level0_col4\" class=\"col_heading level0 col4\" >x</th>\n",
       "      <th id=\"T_518e9_level0_col5\" class=\"col_heading level0 col5\" >y</th>\n",
       "      <th id=\"T_518e9_level0_col6\" class=\"col_heading level0 col6\" >z</th>\n",
       "      <th id=\"T_518e9_level0_col7\" class=\"col_heading level0 col7\" >price</th>\n",
       "      <th id=\"T_518e9_level0_col8\" class=\"col_heading level0 col8\" >log_price</th>\n",
       "    </tr>\n",
       "  </thead>\n",
       "  <tbody>\n",
       "    <tr>\n",
       "      <th id=\"T_518e9_level0_row0\" class=\"row_heading level0 row0\" >id</th>\n",
       "      <td id=\"T_518e9_row0_col0\" class=\"data row0 col0\" >1.00</td>\n",
       "      <td id=\"T_518e9_row0_col1\" class=\"data row0 col1\" >-0.00</td>\n",
       "      <td id=\"T_518e9_row0_col2\" class=\"data row0 col2\" >0.00</td>\n",
       "      <td id=\"T_518e9_row0_col3\" class=\"data row0 col3\" >0.00</td>\n",
       "      <td id=\"T_518e9_row0_col4\" class=\"data row0 col4\" >-0.00</td>\n",
       "      <td id=\"T_518e9_row0_col5\" class=\"data row0 col5\" >-0.00</td>\n",
       "      <td id=\"T_518e9_row0_col6\" class=\"data row0 col6\" >-0.00</td>\n",
       "      <td id=\"T_518e9_row0_col7\" class=\"data row0 col7\" >-0.00</td>\n",
       "      <td id=\"T_518e9_row0_col8\" class=\"data row0 col8\" >-0.00</td>\n",
       "    </tr>\n",
       "    <tr>\n",
       "      <th id=\"T_518e9_level0_row1\" class=\"row_heading level0 row1\" >carat</th>\n",
       "      <td id=\"T_518e9_row1_col0\" class=\"data row1 col0\" >-0.00</td>\n",
       "      <td id=\"T_518e9_row1_col1\" class=\"data row1 col1\" >1.00</td>\n",
       "      <td id=\"T_518e9_row1_col2\" class=\"data row1 col2\" >0.04</td>\n",
       "      <td id=\"T_518e9_row1_col3\" class=\"data row1 col3\" >0.24</td>\n",
       "      <td id=\"T_518e9_row1_col4\" class=\"data row1 col4\" >1.00</td>\n",
       "      <td id=\"T_518e9_row1_col5\" class=\"data row1 col5\" >1.00</td>\n",
       "      <td id=\"T_518e9_row1_col6\" class=\"data row1 col6\" >1.00</td>\n",
       "      <td id=\"T_518e9_row1_col7\" class=\"data row1 col7\" >0.97</td>\n",
       "      <td id=\"T_518e9_row1_col8\" class=\"data row1 col8\" >0.97</td>\n",
       "    </tr>\n",
       "    <tr>\n",
       "      <th id=\"T_518e9_level0_row2\" class=\"row_heading level0 row2\" >depth</th>\n",
       "      <td id=\"T_518e9_row2_col0\" class=\"data row2 col0\" >0.00</td>\n",
       "      <td id=\"T_518e9_row2_col1\" class=\"data row2 col1\" >0.04</td>\n",
       "      <td id=\"T_518e9_row2_col2\" class=\"data row2 col2\" >1.00</td>\n",
       "      <td id=\"T_518e9_row2_col3\" class=\"data row2 col3\" >-0.16</td>\n",
       "      <td id=\"T_518e9_row2_col4\" class=\"data row2 col4\" >-0.01</td>\n",
       "      <td id=\"T_518e9_row2_col5\" class=\"data row2 col5\" >-0.01</td>\n",
       "      <td id=\"T_518e9_row2_col6\" class=\"data row2 col6\" >0.11</td>\n",
       "      <td id=\"T_518e9_row2_col7\" class=\"data row2 col7\" >0.03</td>\n",
       "      <td id=\"T_518e9_row2_col8\" class=\"data row2 col8\" >0.03</td>\n",
       "    </tr>\n",
       "    <tr>\n",
       "      <th id=\"T_518e9_level0_row3\" class=\"row_heading level0 row3\" >table</th>\n",
       "      <td id=\"T_518e9_row3_col0\" class=\"data row3 col0\" >0.00</td>\n",
       "      <td id=\"T_518e9_row3_col1\" class=\"data row3 col1\" >0.24</td>\n",
       "      <td id=\"T_518e9_row3_col2\" class=\"data row3 col2\" >-0.16</td>\n",
       "      <td id=\"T_518e9_row3_col3\" class=\"data row3 col3\" >1.00</td>\n",
       "      <td id=\"T_518e9_row3_col4\" class=\"data row3 col4\" >0.24</td>\n",
       "      <td id=\"T_518e9_row3_col5\" class=\"data row3 col5\" >0.23</td>\n",
       "      <td id=\"T_518e9_row3_col6\" class=\"data row3 col6\" >0.21</td>\n",
       "      <td id=\"T_518e9_row3_col7\" class=\"data row3 col7\" >0.22</td>\n",
       "      <td id=\"T_518e9_row3_col8\" class=\"data row3 col8\" >0.22</td>\n",
       "    </tr>\n",
       "    <tr>\n",
       "      <th id=\"T_518e9_level0_row4\" class=\"row_heading level0 row4\" >x</th>\n",
       "      <td id=\"T_518e9_row4_col0\" class=\"data row4 col0\" >-0.00</td>\n",
       "      <td id=\"T_518e9_row4_col1\" class=\"data row4 col1\" >1.00</td>\n",
       "      <td id=\"T_518e9_row4_col2\" class=\"data row4 col2\" >-0.01</td>\n",
       "      <td id=\"T_518e9_row4_col3\" class=\"data row4 col3\" >0.24</td>\n",
       "      <td id=\"T_518e9_row4_col4\" class=\"data row4 col4\" >1.00</td>\n",
       "      <td id=\"T_518e9_row4_col5\" class=\"data row4 col5\" >1.00</td>\n",
       "      <td id=\"T_518e9_row4_col6\" class=\"data row4 col6\" >0.99</td>\n",
       "      <td id=\"T_518e9_row4_col7\" class=\"data row4 col7\" >0.97</td>\n",
       "      <td id=\"T_518e9_row4_col8\" class=\"data row4 col8\" >0.97</td>\n",
       "    </tr>\n",
       "    <tr>\n",
       "      <th id=\"T_518e9_level0_row5\" class=\"row_heading level0 row5\" >y</th>\n",
       "      <td id=\"T_518e9_row5_col0\" class=\"data row5 col0\" >-0.00</td>\n",
       "      <td id=\"T_518e9_row5_col1\" class=\"data row5 col1\" >1.00</td>\n",
       "      <td id=\"T_518e9_row5_col2\" class=\"data row5 col2\" >-0.01</td>\n",
       "      <td id=\"T_518e9_row5_col3\" class=\"data row5 col3\" >0.23</td>\n",
       "      <td id=\"T_518e9_row5_col4\" class=\"data row5 col4\" >1.00</td>\n",
       "      <td id=\"T_518e9_row5_col5\" class=\"data row5 col5\" >1.00</td>\n",
       "      <td id=\"T_518e9_row5_col6\" class=\"data row5 col6\" >0.99</td>\n",
       "      <td id=\"T_518e9_row5_col7\" class=\"data row5 col7\" >0.97</td>\n",
       "      <td id=\"T_518e9_row5_col8\" class=\"data row5 col8\" >0.97</td>\n",
       "    </tr>\n",
       "    <tr>\n",
       "      <th id=\"T_518e9_level0_row6\" class=\"row_heading level0 row6\" >z</th>\n",
       "      <td id=\"T_518e9_row6_col0\" class=\"data row6 col0\" >-0.00</td>\n",
       "      <td id=\"T_518e9_row6_col1\" class=\"data row6 col1\" >1.00</td>\n",
       "      <td id=\"T_518e9_row6_col2\" class=\"data row6 col2\" >0.11</td>\n",
       "      <td id=\"T_518e9_row6_col3\" class=\"data row6 col3\" >0.21</td>\n",
       "      <td id=\"T_518e9_row6_col4\" class=\"data row6 col4\" >0.99</td>\n",
       "      <td id=\"T_518e9_row6_col5\" class=\"data row6 col5\" >0.99</td>\n",
       "      <td id=\"T_518e9_row6_col6\" class=\"data row6 col6\" >1.00</td>\n",
       "      <td id=\"T_518e9_row6_col7\" class=\"data row6 col7\" >0.97</td>\n",
       "      <td id=\"T_518e9_row6_col8\" class=\"data row6 col8\" >0.97</td>\n",
       "    </tr>\n",
       "    <tr>\n",
       "      <th id=\"T_518e9_level0_row7\" class=\"row_heading level0 row7\" >price</th>\n",
       "      <td id=\"T_518e9_row7_col0\" class=\"data row7 col0\" >-0.00</td>\n",
       "      <td id=\"T_518e9_row7_col1\" class=\"data row7 col1\" >0.97</td>\n",
       "      <td id=\"T_518e9_row7_col2\" class=\"data row7 col2\" >0.03</td>\n",
       "      <td id=\"T_518e9_row7_col3\" class=\"data row7 col3\" >0.22</td>\n",
       "      <td id=\"T_518e9_row7_col4\" class=\"data row7 col4\" >0.97</td>\n",
       "      <td id=\"T_518e9_row7_col5\" class=\"data row7 col5\" >0.97</td>\n",
       "      <td id=\"T_518e9_row7_col6\" class=\"data row7 col6\" >0.97</td>\n",
       "      <td id=\"T_518e9_row7_col7\" class=\"data row7 col7\" >1.00</td>\n",
       "      <td id=\"T_518e9_row7_col8\" class=\"data row7 col8\" >1.00</td>\n",
       "    </tr>\n",
       "    <tr>\n",
       "      <th id=\"T_518e9_level0_row8\" class=\"row_heading level0 row8\" >log_price</th>\n",
       "      <td id=\"T_518e9_row8_col0\" class=\"data row8 col0\" >-0.00</td>\n",
       "      <td id=\"T_518e9_row8_col1\" class=\"data row8 col1\" >0.97</td>\n",
       "      <td id=\"T_518e9_row8_col2\" class=\"data row8 col2\" >0.03</td>\n",
       "      <td id=\"T_518e9_row8_col3\" class=\"data row8 col3\" >0.22</td>\n",
       "      <td id=\"T_518e9_row8_col4\" class=\"data row8 col4\" >0.97</td>\n",
       "      <td id=\"T_518e9_row8_col5\" class=\"data row8 col5\" >0.97</td>\n",
       "      <td id=\"T_518e9_row8_col6\" class=\"data row8 col6\" >0.97</td>\n",
       "      <td id=\"T_518e9_row8_col7\" class=\"data row8 col7\" >1.00</td>\n",
       "      <td id=\"T_518e9_row8_col8\" class=\"data row8 col8\" >1.00</td>\n",
       "    </tr>\n",
       "  </tbody>\n",
       "</table>\n"
      ],
      "text/plain": [
       "<pandas.io.formats.style.Styler at 0x11e39e7a0>"
      ]
     },
     "execution_count": 24,
     "metadata": {},
     "output_type": "execute_result"
    }
   ],
   "source": [
    "#2.4 Correlation matrix : Spearman\n",
    "train.corr('spearman').style.background_gradient().format(precision=2)"
   ]
  },
  {
   "cell_type": "markdown",
   "id": "3009accf-b2c0-4315-8a1b-3f5c993cf2e7",
   "metadata": {},
   "source": [
    "## 3. Feature engineering and Feature selection"
   ]
  },
  {
   "cell_type": "code",
   "execution_count": 25,
   "id": "331ae022-5f8d-4512-832f-7ad31a89beba",
   "metadata": {},
   "outputs": [],
   "source": [
    "#3.1 Separate X_train, y_train, X_test, y_test\n",
    "X_train = train.drop(columns=['price'])\n",
    "# X_test = test.drop(columns=['price'])\n",
    "# y_train = train['price']\n",
    "# y_test = test['price']"
   ]
  },
  {
   "cell_type": "code",
   "execution_count": null,
   "id": "b7beaf58-a96f-45d6-a098-7643f2d7afd7",
   "metadata": {},
   "outputs": [],
   "source": []
  },
  {
   "cell_type": "code",
   "execution_count": null,
   "id": "2b6c4b50-4528-40be-97df-e29ff978fc9f",
   "metadata": {},
   "outputs": [],
   "source": []
  },
  {
   "cell_type": "code",
   "execution_count": null,
   "id": "07b51fbc-160a-4141-80f8-7d4402034970",
   "metadata": {},
   "outputs": [],
   "source": []
  },
  {
   "cell_type": "code",
   "execution_count": null,
   "id": "73918d93-543c-4d1e-85d8-e00f5e724578",
   "metadata": {},
   "outputs": [],
   "source": []
  }
 ],
 "metadata": {
  "kernelspec": {
   "display_name": "Python [conda env:pp]",
   "language": "python",
   "name": "conda-env-pp-py"
  },
  "language_info": {
   "codemirror_mode": {
    "name": "ipython",
    "version": 3
   },
   "file_extension": ".py",
   "mimetype": "text/x-python",
   "name": "python",
   "nbconvert_exporter": "python",
   "pygments_lexer": "ipython3",
   "version": "3.10.6"
  }
 },
 "nbformat": 4,
 "nbformat_minor": 5
}
